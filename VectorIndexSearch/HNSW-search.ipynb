{
 "cells": [
  {
   "cell_type": "code",
   "execution_count": 1,
   "metadata": {},
   "outputs": [],
   "source": [
    "import pandas as pd\n",
    "pd.set_option('display.max_colwidth', 200)  # Adjust the width as needed\n",
    "import faiss"
   ]
  },
  {
   "cell_type": "code",
   "execution_count": 3,
   "metadata": {},
   "outputs": [],
   "source": [
    "df=pd.read_csv('https://raw.githubusercontent.com/DhunganaKB/customchat/main/VectorIndexSearch/TextClassification_Indexing.csv')"
   ]
  },
  {
   "cell_type": "code",
   "execution_count": 4,
   "metadata": {},
   "outputs": [],
   "source": [
    "df = df.reset_index(drop=True)"
   ]
  },
  {
   "cell_type": "code",
   "execution_count": 5,
   "metadata": {},
   "outputs": [
    {
     "data": {
      "text/html": [
       "<div>\n",
       "<style scoped>\n",
       "    .dataframe tbody tr th:only-of-type {\n",
       "        vertical-align: middle;\n",
       "    }\n",
       "\n",
       "    .dataframe tbody tr th {\n",
       "        vertical-align: top;\n",
       "    }\n",
       "\n",
       "    .dataframe thead th {\n",
       "        text-align: right;\n",
       "    }\n",
       "</style>\n",
       "<table border=\"1\" class=\"dataframe\">\n",
       "  <thead>\n",
       "    <tr style=\"text-align: right;\">\n",
       "      <th></th>\n",
       "      <th>Topic</th>\n",
       "      <th>Sentence</th>\n",
       "    </tr>\n",
       "  </thead>\n",
       "  <tbody>\n",
       "    <tr>\n",
       "      <th>0</th>\n",
       "      <td>Soccer World Cup 2020</td>\n",
       "      <td>The 2020 FIFA World Cup, a globally anticipated event, brought together nations from around the world.</td>\n",
       "    </tr>\n",
       "    <tr>\n",
       "      <th>1</th>\n",
       "      <td>Soccer World Cup 2020</td>\n",
       "      <td>Hosted in multiple cities, the 2020 Soccer World Cup was a month-long celebration of the beautiful game.</td>\n",
       "    </tr>\n",
       "    <tr>\n",
       "      <th>2</th>\n",
       "      <td>Soccer World Cup 2020</td>\n",
       "      <td>It featured the world's top soccer teams, each vying for the coveted championship title in the Soccer World Cup.</td>\n",
       "    </tr>\n",
       "    <tr>\n",
       "      <th>3</th>\n",
       "      <td>Soccer World Cup 2020</td>\n",
       "      <td>With palpable anticipation, fans from diverse backgrounds united to support their respective nations in the Soccer World Cup.</td>\n",
       "    </tr>\n",
       "    <tr>\n",
       "      <th>4</th>\n",
       "      <td>Soccer World Cup 2020</td>\n",
       "      <td>The matches were held in state-of-the-art stadiums, showcasing the pinnacle of soccer infrastructure in the Soccer World Cup.</td>\n",
       "    </tr>\n",
       "  </tbody>\n",
       "</table>\n",
       "</div>"
      ],
      "text/plain": [
       "                   Topic  \\\n",
       "0  Soccer World Cup 2020   \n",
       "1  Soccer World Cup 2020   \n",
       "2  Soccer World Cup 2020   \n",
       "3  Soccer World Cup 2020   \n",
       "4  Soccer World Cup 2020   \n",
       "\n",
       "                                                                                                                        Sentence  \n",
       "0                         The 2020 FIFA World Cup, a globally anticipated event, brought together nations from around the world.  \n",
       "1                       Hosted in multiple cities, the 2020 Soccer World Cup was a month-long celebration of the beautiful game.  \n",
       "2               It featured the world's top soccer teams, each vying for the coveted championship title in the Soccer World Cup.  \n",
       "3  With palpable anticipation, fans from diverse backgrounds united to support their respective nations in the Soccer World Cup.  \n",
       "4  The matches were held in state-of-the-art stadiums, showcasing the pinnacle of soccer infrastructure in the Soccer World Cup.  "
      ]
     },
     "execution_count": 5,
     "metadata": {},
     "output_type": "execute_result"
    }
   ],
   "source": [
    "df.head()"
   ]
  },
  {
   "cell_type": "code",
   "execution_count": 6,
   "metadata": {},
   "outputs": [
    {
     "data": {
      "text/plain": [
       "(109, 2)"
      ]
     },
     "execution_count": 6,
     "metadata": {},
     "output_type": "execute_result"
    }
   ],
   "source": [
    "df.shape"
   ]
  },
  {
   "cell_type": "markdown",
   "metadata": {},
   "source": [
    "### Creating Embedding Vectors"
   ]
  },
  {
   "cell_type": "code",
   "execution_count": 7,
   "metadata": {},
   "outputs": [],
   "source": [
    "from sentence_transformers import SentenceTransformer\n",
    "model = SentenceTransformer('bert-base-nli-mean-tokens')"
   ]
  },
  {
   "cell_type": "code",
   "execution_count": 8,
   "metadata": {},
   "outputs": [
    {
     "name": "stdout",
     "output_type": "stream",
     "text": [
      "768\n"
     ]
    }
   ],
   "source": [
    "sentences = list(df['Sentence'])\n",
    "sentence_embeddings = model.encode(sentences)\n",
    "embedding_dimension = sentence_embeddings.shape[1]\n",
    "print(embedding_dimension)"
   ]
  },
  {
   "cell_type": "markdown",
   "metadata": {},
   "source": [
    "#### Usning hnswlib"
   ]
  },
  {
   "cell_type": "code",
   "execution_count": null,
   "metadata": {},
   "outputs": [],
   "source": [
    "#https://github.com/nmslib/hnswlib"
   ]
  },
  {
   "cell_type": "code",
   "execution_count": 9,
   "metadata": {},
   "outputs": [],
   "source": [
    "import hnswlib"
   ]
  },
  {
   "cell_type": "code",
   "execution_count": 31,
   "metadata": {},
   "outputs": [],
   "source": [
    "# Create a new index\n",
    "hnsw_index = hnswlib.Index(space='l2', dim=embedding_dimension)\n",
    "\n",
    "# Initialize an index - the maximum number of elements should be known beforehand\n",
    "hnsw_index.init_index(max_elements=1000, ef_construction=200, M=16)\n",
    "\n",
    "# Element insertion (can be called several times)\n",
    "hnsw_index.add_items(sentence_embeddings)\n",
    "\n",
    "# Controlling the recall by setting ef:\n",
    "hnsw_index.set_ef(50) # "
   ]
  },
  {
   "cell_type": "code",
   "execution_count": 32,
   "metadata": {},
   "outputs": [
    {
     "name": "stdout",
     "output_type": "stream",
     "text": [
      "[[20 28 22]]\n"
     ]
    }
   ],
   "source": [
    "k=3\n",
    "xq=model.encode(['I would like to know about Nobel Prize from 2020'])\n",
    "\n",
    "I,D = hnsw_index.knn_query(xq, k)  # search\n",
    "print(I)"
   ]
  },
  {
   "cell_type": "code",
   "execution_count": 33,
   "metadata": {},
   "outputs": [
    {
     "data": {
      "text/html": [
       "<div>\n",
       "<style scoped>\n",
       "    .dataframe tbody tr th:only-of-type {\n",
       "        vertical-align: middle;\n",
       "    }\n",
       "\n",
       "    .dataframe tbody tr th {\n",
       "        vertical-align: top;\n",
       "    }\n",
       "\n",
       "    .dataframe thead th {\n",
       "        text-align: right;\n",
       "    }\n",
       "</style>\n",
       "<table border=\"1\" class=\"dataframe\">\n",
       "  <thead>\n",
       "    <tr style=\"text-align: right;\">\n",
       "      <th></th>\n",
       "      <th>Topic</th>\n",
       "      <th>Sentence</th>\n",
       "    </tr>\n",
       "  </thead>\n",
       "  <tbody>\n",
       "    <tr>\n",
       "      <th>20</th>\n",
       "      <td>Nobel Prize 2020</td>\n",
       "      <td>The Nobel Prize, one of the world's most prestigious awards, recognized exceptional achievements across multiple fields in 2020.</td>\n",
       "    </tr>\n",
       "    <tr>\n",
       "      <th>28</th>\n",
       "      <td>Nobel Prize 2020</td>\n",
       "      <td>The Nobel Prize in 2020 celebrated accomplishments and served as a reminder of the potential for positive change and innovation across the world.</td>\n",
       "    </tr>\n",
       "    <tr>\n",
       "      <th>22</th>\n",
       "      <td>Nobel Prize 2020</td>\n",
       "      <td>In 2020, the Nobel Prize awarded laureates in Physics, Chemistry, Medicine, Literature, and Peace for their remarkable accomplishments.</td>\n",
       "    </tr>\n",
       "  </tbody>\n",
       "</table>\n",
       "</div>"
      ],
      "text/plain": [
       "               Topic  \\\n",
       "20  Nobel Prize 2020   \n",
       "28  Nobel Prize 2020   \n",
       "22  Nobel Prize 2020   \n",
       "\n",
       "                                                                                                                                             Sentence  \n",
       "20                   The Nobel Prize, one of the world's most prestigious awards, recognized exceptional achievements across multiple fields in 2020.  \n",
       "28  The Nobel Prize in 2020 celebrated accomplishments and served as a reminder of the potential for positive change and innovation across the world.  \n",
       "22            In 2020, the Nobel Prize awarded laureates in Physics, Chemistry, Medicine, Literature, and Peace for their remarkable accomplishments.  "
      ]
     },
     "execution_count": 33,
     "metadata": {},
     "output_type": "execute_result"
    }
   ],
   "source": [
    "df.iloc[I[0]]"
   ]
  },
  {
   "cell_type": "code",
   "execution_count": 34,
   "metadata": {},
   "outputs": [],
   "source": [
    "## like to save the index for future use:\n"
   ]
  },
  {
   "cell_type": "code",
   "execution_count": 35,
   "metadata": {},
   "outputs": [],
   "source": [
    "hnsw_index.save_index('hnsw_index_saved.index')"
   ]
  },
  {
   "cell_type": "code",
   "execution_count": 36,
   "metadata": {},
   "outputs": [],
   "source": [
    "new_index = hnswlib.Index(space='l2', dim=embedding_dimension)"
   ]
  },
  {
   "cell_type": "code",
   "execution_count": 26,
   "metadata": {},
   "outputs": [],
   "source": [
    "new_index.load_index('hnsw_index_saved.index')"
   ]
  },
  {
   "cell_type": "code",
   "execution_count": 27,
   "metadata": {},
   "outputs": [],
   "source": [
    "I,D = new_index.knn_query(xq, k)  # search\n"
   ]
  },
  {
   "cell_type": "markdown",
   "metadata": {},
   "source": [
    "### faiss implementation"
   ]
  },
  {
   "cell_type": "code",
   "execution_count": 39,
   "metadata": {},
   "outputs": [
    {
     "name": "stdout",
     "output_type": "stream",
     "text": [
      "[[20 28 22]]\n",
      "[[154.76157 186.0599  188.53912]]\n"
     ]
    }
   ],
   "source": [
    "import faiss\n",
    "# create an index:\n",
    "M=16\n",
    "faiss_index = faiss.IndexHNSWFlat(embedding_dimension, M)  \n",
    "faiss_index.hnsw.efConstruction = 40         # Setting the value for efConstruction.\n",
    "faiss_index.hnsw.efSearch = 200              # Setting the value for efSearch.\n",
    "\n",
    "\n",
    "# adding embedding vectors in the index\n",
    "faiss_index.add(sentence_embeddings)\n",
    "\n",
    "# making search \n",
    "k=3\n",
    "D, I = faiss_index.search(xq, k)\n",
    "print(I)\n",
    "print(D)\n",
    "\n",
    "#[[20 28 22]]\n",
    "#[[154.76157 186.0599  188.53912]]\n"
   ]
  }
 ],
 "metadata": {
  "kernelspec": {
   "display_name": "langchain",
   "language": "python",
   "name": "python3"
  },
  "language_info": {
   "codemirror_mode": {
    "name": "ipython",
    "version": 3
   },
   "file_extension": ".py",
   "mimetype": "text/x-python",
   "name": "python",
   "nbconvert_exporter": "python",
   "pygments_lexer": "ipython3",
   "version": "3.10.11"
  }
 },
 "nbformat": 4,
 "nbformat_minor": 2
}
