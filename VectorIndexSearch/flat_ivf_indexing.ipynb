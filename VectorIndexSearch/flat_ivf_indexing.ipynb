{
 "cells": [
  {
   "cell_type": "code",
   "execution_count": 1,
   "metadata": {},
   "outputs": [],
   "source": [
    "import pandas as pd\n",
    "import numpy as np\n",
    "from sklearn.manifold import TSNE\n",
    "import matplotlib.pyplot as plt\n",
    "import seaborn as sns\n",
    "pd.set_option('display.max_colwidth', 200)  # Adjust the width as needed\n",
    "import faiss"
   ]
  },
  {
   "cell_type": "code",
   "execution_count": 2,
   "metadata": {},
   "outputs": [],
   "source": [
    "topics = {\n",
    "    \"Soccer World Cup 2020\": [\n",
    "        \"The 2020 FIFA World Cup, a globally anticipated event, brought together nations from around the world.\",\n",
    "        \"Hosted in multiple cities, the 2020 Soccer World Cup was a month-long celebration of the beautiful game.\",\n",
    "        \"It featured the world's top soccer teams, each vying for the coveted championship title in the Soccer World Cup.\",\n",
    "        \"With palpable anticipation, fans from diverse backgrounds united to support their respective nations in the Soccer World Cup.\",\n",
    "        \"The matches were held in state-of-the-art stadiums, showcasing the pinnacle of soccer infrastructure in the Soccer World Cup.\",\n",
    "        \"Talented soccer players displayed their skills on the field during the Soccer World Cup.\",\n",
    "        \"The tournament was not just a competition but also a cultural exchange where fans shared traditions, music, and their passion for the Soccer World Cup.\",\n",
    "        \"The tournament saw nail-biting moments, penalty shootouts, and thrilling comebacks, making the Soccer World Cup unforgettable.\",\n",
    "        \"In the end, the 2020 Soccer World Cup reached its pinnacle as two teams faced off, and a nation's pride was at stake.\",\n",
    "        \"The Soccer World Cup left an indelible mark on the hearts of fans worldwide, reminding us of the power of sports to unite and inspire.\"\n",
    "    ],\n",
    "    \"Kids' Behavior at Home\": [\n",
    "        \"Children's behavior at home is a dynamic aspect of family life, where kids often display boundless energy and curiosity.\",\n",
    "        \"At a young age, kids are full of energy, exploring their surroundings, asking countless questions, and learning through play at home.\",\n",
    "        \"Parents and caregivers play a crucial role in shaping kids' behavior, providing guidance and setting boundaries within the home.\",\n",
    "        \"Kids may display a wide range of emotions at home, from joy and laughter to frustration and tears.\",\n",
    "        \"Positive reinforcement and communication with parents nurture emotional development in kids at home.\",\n",
    "        \"Routine and structure are essential for kids' well-being in their home environment.\",\n",
    "        \"Consistent meal times, bedtime routines, and designated play and study hours create a sense of security at home.\",\n",
    "        \"Setting rules and consequences helps children understand boundaries and responsibilities within the home.\",\n",
    "        \"Engaging activities like reading books, doing art projects, and exploring nature foster creativity and learning in kids at home.\",\n",
    "        \"As children grow, they develop a sense of independence and may test boundaries, requiring a balanced approach from parents within the home.\"\n",
    "    ],\n",
    "    \"Nobel Prize 2020\": [\n",
    "        \"The Nobel Prize, one of the world's most prestigious awards, recognized exceptional achievements across multiple fields in 2020.\",\n",
    "        \"Celebrating the brilliant minds that expanded knowledge, the Nobel Prize acknowledged outstanding contributions in various areas.\",\n",
    "        \"In 2020, the Nobel Prize awarded laureates in Physics, Chemistry, Medicine, Literature, and Peace for their remarkable accomplishments.\",\n",
    "        \"The Nobel Prize in Physics was awarded for groundbreaking work in understanding the universe, including the discovery of black holes.\",\n",
    "        \"Chemistry laureates were acknowledged for innovations that have practical applications in various industries.\",\n",
    "        \"The Nobel Prize in Physiology or Medicine highlighted advancements in medical research and treatments.\",\n",
    "        \"Recognizing exceptional literary works, the Nobel Prize in Literature stirred emotions and enriched our cultural heritage.\",\n",
    "        \"The Nobel Peace Prize, awarded to individuals or organizations, made significant contributions to peace and conflict resolution.\",\n",
    "        \"The Nobel Prize in 2020 celebrated accomplishments and served as a reminder of the potential for positive change and innovation across the world.\"\n",
    "    ],\n",
    "    \"Keeping Pets at Home\": [\n",
    "        \"Keeping pets at home is a rewarding and fulfilling experience, where pets, whether dogs, cats, birds, or reptiles, become beloved members of the family.\",\n",
    "        \"They offer companionship, unconditional love, and a unique bond that enriches the lives of those who open their homes to pets.\",\n",
    "        \"Dogs, known for loyalty, provide affection, protection, and endless joy, making them cherished members of many households.\",\n",
    "        \"Cats, independent and graceful, bring tranquility and comfort to homes with their purring and soft fur.\",\n",
    "        \"Birds, with their colorful plumage and melodious songs, add a touch of nature and serenity to the home environment.\",\n",
    "        \"Fish, residing in aquariums, offer a visually appealing and serene element that captivates observers.\",\n",
    "        \"Reptiles, such as turtles and lizards, are fascinating creatures requiring specialized care, making them intriguing pets for enthusiasts.\",\n",
    "        \"Responsible pet ownership involves providing proper nutrition, veterinary care, and a safe environment within the home.\",\n",
    "        \"In return, pets reciprocate with affection and become cherished companions within their respective homes.\",\n",
    "        \"The bond between pets and their human families is a source of immense happiness in homes worldwide.\"\n",
    "    ],\n",
    "    \"Climbing Mount Everest\": [\n",
    "        \"Climbing Mount Everest is a formidable and life-changing endeavor, where adventurers and mountaineers pursue the dream and challenge of scaling the world's highest peak.\",\n",
    "        \"Everest's summit, standing at an elevation of 29,032 feet (8,849 meters), is an iconic symbol of determination, courage, and exploration.\",\n",
    "        \"The journey to Mount Everest's summit begins with meticulous planning, physical training, and the acquisition of necessary climbing skills.\",\n",
    "        \"Climbers embark on a treacherous expedition, navigating through perilous icefalls, enduring extreme temperatures, and battling high-altitude conditions.\",\n",
    "        \"Base camps along the route provide temporary respite and acclimatization for climbers as they make their ascent.\",\n",
    "        \"Reaching the summit of Mount Everest represents a momentous achievement and the realization of a lifelong dream for many climbers.\",\n",
    "        \"From the peak, climbers are greeted with breathtaking panoramic views of the world below, a reward for their determination and perseverance.\",\n",
    "        \"However, Mount Everest is unforgiving, and many climbers have lost their lives attempting the ascent, underscoring the mountain's challenges.\",\n",
    "        \"Climbing Mount Everest is not just a physical feat but a test of mental fortitude and perseverance, showcasing the human spirit's capacity to conquer the impossible.\",\n",
    "        \"Both literally and metaphorically, climbing Mount Everest represents a journey that reaches new heights.\"\n",
    "    ]\n",
    "}\n"
   ]
  },
  {
   "cell_type": "code",
   "execution_count": 3,
   "metadata": {},
   "outputs": [],
   "source": [
    "data=[]\n",
    "for topic, sentences in topics.items():\n",
    "    for sentence in sentences:\n",
    "        data.append({\"Topic\": topic, \"Sentence\": sentence})\n",
    "\n",
    "# Create a DataFrame from the list of dictionaries\n",
    "df = pd.DataFrame(data)"
   ]
  },
  {
   "cell_type": "code",
   "execution_count": 4,
   "metadata": {},
   "outputs": [
    {
     "data": {
      "text/html": [
       "<div>\n",
       "<style scoped>\n",
       "    .dataframe tbody tr th:only-of-type {\n",
       "        vertical-align: middle;\n",
       "    }\n",
       "\n",
       "    .dataframe tbody tr th {\n",
       "        vertical-align: top;\n",
       "    }\n",
       "\n",
       "    .dataframe thead th {\n",
       "        text-align: right;\n",
       "    }\n",
       "</style>\n",
       "<table border=\"1\" class=\"dataframe\">\n",
       "  <thead>\n",
       "    <tr style=\"text-align: right;\">\n",
       "      <th></th>\n",
       "      <th>Topic</th>\n",
       "      <th>Sentence</th>\n",
       "    </tr>\n",
       "  </thead>\n",
       "  <tbody>\n",
       "    <tr>\n",
       "      <th>0</th>\n",
       "      <td>Soccer World Cup 2020</td>\n",
       "      <td>The 2020 FIFA World Cup, a globally anticipated event, brought together nations from around the world.</td>\n",
       "    </tr>\n",
       "    <tr>\n",
       "      <th>1</th>\n",
       "      <td>Soccer World Cup 2020</td>\n",
       "      <td>Hosted in multiple cities, the 2020 Soccer World Cup was a month-long celebration of the beautiful game.</td>\n",
       "    </tr>\n",
       "  </tbody>\n",
       "</table>\n",
       "</div>"
      ],
      "text/plain": [
       "                   Topic  \\\n",
       "0  Soccer World Cup 2020   \n",
       "1  Soccer World Cup 2020   \n",
       "\n",
       "                                                                                                   Sentence  \n",
       "0    The 2020 FIFA World Cup, a globally anticipated event, brought together nations from around the world.  \n",
       "1  Hosted in multiple cities, the 2020 Soccer World Cup was a month-long celebration of the beautiful game.  "
      ]
     },
     "execution_count": 4,
     "metadata": {},
     "output_type": "execute_result"
    }
   ],
   "source": [
    "df.head(2)"
   ]
  },
  {
   "cell_type": "code",
   "execution_count": 5,
   "metadata": {},
   "outputs": [],
   "source": [
    "df=df.reset_index()"
   ]
  },
  {
   "cell_type": "code",
   "execution_count": 6,
   "metadata": {},
   "outputs": [
    {
     "data": {
      "text/plain": [
       "(49, 3)"
      ]
     },
     "execution_count": 6,
     "metadata": {},
     "output_type": "execute_result"
    }
   ],
   "source": [
    "df.shape"
   ]
  },
  {
   "cell_type": "code",
   "execution_count": 7,
   "metadata": {},
   "outputs": [],
   "source": [
    "from sentence_transformers import SentenceTransformer\n",
    "model = SentenceTransformer('bert-base-nli-mean-tokens')\n",
    "\n",
    "\n",
    "#model = SentenceTransformer('all-MiniLM-L6-v2') # it gives lower dimension 386\n"
   ]
  },
  {
   "cell_type": "code",
   "execution_count": 8,
   "metadata": {},
   "outputs": [],
   "source": [
    "sentences = list(df['Sentence'])"
   ]
  },
  {
   "cell_type": "code",
   "execution_count": 9,
   "metadata": {},
   "outputs": [],
   "source": [
    "sentence_embeddings = model.encode(sentences)\n"
   ]
  },
  {
   "cell_type": "code",
   "execution_count": 10,
   "metadata": {},
   "outputs": [
    {
     "data": {
      "text/plain": [
       "(49, 768)"
      ]
     },
     "execution_count": 10,
     "metadata": {},
     "output_type": "execute_result"
    }
   ],
   "source": [
    "sentence_embeddings.shape"
   ]
  },
  {
   "cell_type": "code",
   "execution_count": 11,
   "metadata": {},
   "outputs": [
    {
     "data": {
      "text/plain": [
       "49"
      ]
     },
     "execution_count": 11,
     "metadata": {},
     "output_type": "execute_result"
    }
   ],
   "source": [
    "len(sentence_embeddings)"
   ]
  },
  {
   "cell_type": "code",
   "execution_count": 12,
   "metadata": {},
   "outputs": [],
   "source": [
    "df['embedding'] = df['Sentence'].map(lambda x: model.encode(x))"
   ]
  },
  {
   "cell_type": "code",
   "execution_count": 13,
   "metadata": {},
   "outputs": [
    {
     "data": {
      "text/plain": [
       "768"
      ]
     },
     "execution_count": 13,
     "metadata": {},
     "output_type": "execute_result"
    }
   ],
   "source": [
    "len(df['embedding'].iloc[0])"
   ]
  },
  {
   "cell_type": "code",
   "execution_count": 14,
   "metadata": {},
   "outputs": [
    {
     "data": {
      "text/html": [
       "<div>\n",
       "<style scoped>\n",
       "    .dataframe tbody tr th:only-of-type {\n",
       "        vertical-align: middle;\n",
       "    }\n",
       "\n",
       "    .dataframe tbody tr th {\n",
       "        vertical-align: top;\n",
       "    }\n",
       "\n",
       "    .dataframe thead th {\n",
       "        text-align: right;\n",
       "    }\n",
       "</style>\n",
       "<table border=\"1\" class=\"dataframe\">\n",
       "  <thead>\n",
       "    <tr style=\"text-align: right;\">\n",
       "      <th></th>\n",
       "      <th>index</th>\n",
       "      <th>Topic</th>\n",
       "      <th>Sentence</th>\n",
       "      <th>embedding</th>\n",
       "    </tr>\n",
       "  </thead>\n",
       "  <tbody>\n",
       "    <tr>\n",
       "      <th>0</th>\n",
       "      <td>0</td>\n",
       "      <td>Soccer World Cup 2020</td>\n",
       "      <td>The 2020 FIFA World Cup, a globally anticipated event, brought together nations from around the world.</td>\n",
       "      <td>[-0.42515686, -0.17480914, 1.8467963, 0.15087691, -0.009726069, -1.5424263, -0.6151803, 0.14795646, 0.2542171, -1.0142606, 0.27748397, -0.29301974, 0.15616056, 1.4512328, 1.20133, 0.12567022, 0.04...</td>\n",
       "    </tr>\n",
       "    <tr>\n",
       "      <th>1</th>\n",
       "      <td>1</td>\n",
       "      <td>Soccer World Cup 2020</td>\n",
       "      <td>Hosted in multiple cities, the 2020 Soccer World Cup was a month-long celebration of the beautiful game.</td>\n",
       "      <td>[-0.87892085, -0.20032081, 1.4006628, 0.29781196, 0.30973944, -1.5553259, -0.3482714, 0.84209317, 0.018096512, -0.5282332, 0.15362588, -1.0313705, 0.62738407, 0.63816476, 0.55353403, 0.25887442, 0...</td>\n",
       "    </tr>\n",
       "  </tbody>\n",
       "</table>\n",
       "</div>"
      ],
      "text/plain": [
       "   index                  Topic  \\\n",
       "0      0  Soccer World Cup 2020   \n",
       "1      1  Soccer World Cup 2020   \n",
       "\n",
       "                                                                                                   Sentence  \\\n",
       "0    The 2020 FIFA World Cup, a globally anticipated event, brought together nations from around the world.   \n",
       "1  Hosted in multiple cities, the 2020 Soccer World Cup was a month-long celebration of the beautiful game.   \n",
       "\n",
       "                                                                                                                                                                                                 embedding  \n",
       "0  [-0.42515686, -0.17480914, 1.8467963, 0.15087691, -0.009726069, -1.5424263, -0.6151803, 0.14795646, 0.2542171, -1.0142606, 0.27748397, -0.29301974, 0.15616056, 1.4512328, 1.20133, 0.12567022, 0.04...  \n",
       "1  [-0.87892085, -0.20032081, 1.4006628, 0.29781196, 0.30973944, -1.5553259, -0.3482714, 0.84209317, 0.018096512, -0.5282332, 0.15362588, -1.0313705, 0.62738407, 0.63816476, 0.55353403, 0.25887442, 0...  "
      ]
     },
     "execution_count": 14,
     "metadata": {},
     "output_type": "execute_result"
    }
   ],
   "source": [
    "df.head(2)"
   ]
  },
  {
   "cell_type": "code",
   "execution_count": 15,
   "metadata": {},
   "outputs": [],
   "source": [
    "embedding_dimension = sentence_embeddings.shape[1]"
   ]
  },
  {
   "cell_type": "code",
   "execution_count": 16,
   "metadata": {},
   "outputs": [],
   "source": [
    "index=faiss.IndexFlatL2(embedding_dimension)"
   ]
  },
  {
   "cell_type": "code",
   "execution_count": 17,
   "metadata": {},
   "outputs": [
    {
     "data": {
      "text/plain": [
       "(0, True)"
      ]
     },
     "execution_count": 17,
     "metadata": {},
     "output_type": "execute_result"
    }
   ],
   "source": [
    "index.ntotal, index.is_trained"
   ]
  },
  {
   "cell_type": "code",
   "execution_count": 18,
   "metadata": {},
   "outputs": [],
   "source": [
    "## now adding embedding vector in sentence embeddings"
   ]
  },
  {
   "cell_type": "code",
   "execution_count": 19,
   "metadata": {},
   "outputs": [],
   "source": [
    "index.add(sentence_embeddings)"
   ]
  },
  {
   "cell_type": "code",
   "execution_count": 20,
   "metadata": {},
   "outputs": [
    {
     "data": {
      "text/plain": [
       "49"
      ]
     },
     "execution_count": 20,
     "metadata": {},
     "output_type": "execute_result"
    }
   ],
   "source": [
    "index.ntotal"
   ]
  },
  {
   "cell_type": "code",
   "execution_count": 21,
   "metadata": {},
   "outputs": [],
   "source": [
    "k=3"
   ]
  },
  {
   "cell_type": "code",
   "execution_count": 22,
   "metadata": {},
   "outputs": [],
   "source": [
    "#xq=model.encode(['would like to know about 2020 FIFA world cup Soccer'])\n",
    "\n",
    "xq=model.encode(['would like to know about Nobel Prize 2020'])\n"
   ]
  },
  {
   "cell_type": "code",
   "execution_count": 23,
   "metadata": {},
   "outputs": [
    {
     "data": {
      "text/plain": [
       "array([[-3.81701648e-01, -4.04578060e-01,  1.21103776e+00,\n",
       "         9.71325189e-02,  5.77969253e-01, -8.08756828e-01,\n",
       "        -9.37761903e-01, -3.65120709e-01,  7.37179637e-01,\n",
       "        -8.85952175e-01, -6.08786121e-02,  7.51918197e-01,\n",
       "         3.61013353e-01,  1.18043625e+00,  1.21623158e-01,\n",
       "        -1.67164236e-01, -5.13558924e-01, -6.40886948e-02,\n",
       "         6.32150322e-02, -4.21555609e-01,  3.80068958e-01,\n",
       "         4.31368828e-01,  6.15519993e-02, -2.81333268e-01,\n",
       "         1.06764960e+00, -5.32801270e-01, -3.87867153e-01,\n",
       "        -3.97076905e-01,  3.80420506e-01,  5.66727161e-01,\n",
       "        -3.47353518e-01,  7.94552922e-01, -1.02567625e+00,\n",
       "        -1.56264096e-01, -1.27178025e+00,  5.37283182e-01,\n",
       "        -6.65345322e-03,  1.42730623e-01,  1.68421462e-01,\n",
       "         7.30923772e-01,  4.42011505e-02, -5.56821108e-01,\n",
       "        -1.17749617e-01,  4.82681513e-01, -1.55967593e+00,\n",
       "        -1.27712309e+00, -3.74664962e-01, -5.83819747e-01,\n",
       "        -8.42892304e-02, -1.50736117e+00, -4.15233850e-01,\n",
       "        -4.38900322e-01,  3.87735873e-01, -5.34186652e-03,\n",
       "        -8.41360688e-01,  1.24070084e+00, -3.25073898e-02,\n",
       "        -8.96300316e-01, -8.47027376e-02, -4.69455309e-02,\n",
       "        -1.52590621e+00, -1.66848570e-01,  1.10974453e-01,\n",
       "         5.10753572e-01,  4.79355335e-01, -1.09309051e-02,\n",
       "         2.51320392e-01, -7.48145223e-01, -7.08555877e-01,\n",
       "        -5.65326333e-01, -2.24404670e-02, -1.79877430e-01,\n",
       "        -8.75460744e-01,  5.32327816e-02,  1.80471078e-01,\n",
       "        -2.05359422e-02, -3.65471512e-01,  6.81094110e-01,\n",
       "         9.51187611e-01,  8.18712592e-01,  3.81565779e-01,\n",
       "        -2.00028688e-01,  1.03311253e+00,  9.50479865e-01,\n",
       "         3.97043154e-02,  5.92008650e-01,  6.62154108e-02,\n",
       "        -5.44816673e-01, -7.46630549e-01, -5.36468565e-01,\n",
       "         6.34298995e-02, -8.57063681e-02, -2.14732975e-01,\n",
       "         6.81436181e-01,  5.35434067e-01,  1.46240741e-03,\n",
       "         4.35542673e-01, -4.85517114e-01, -1.26272225e+00,\n",
       "         1.48829147e-01, -4.65670004e-02, -6.69246972e-01,\n",
       "        -2.76192486e-01, -5.90177000e-01, -5.14788143e-02,\n",
       "        -1.24390468e-01, -1.98222682e-01, -1.43877137e+00,\n",
       "         9.91358399e-01, -4.05285597e-01,  6.26445532e-01,\n",
       "         6.55506551e-01,  6.49918199e-01,  4.32081163e-01,\n",
       "        -5.46188235e-01, -4.64586109e-01, -6.39860034e-01,\n",
       "         4.23737347e-01,  5.90937674e-01,  6.47352219e-01,\n",
       "        -5.82474582e-02,  3.14602554e-01, -3.76339167e-01,\n",
       "        -3.09801787e-01,  5.51836491e-01,  7.60996103e-01,\n",
       "         3.17017972e-01, -6.16104901e-03, -1.13289094e+00,\n",
       "        -2.02490047e-01,  6.10289991e-01,  6.47082150e-01,\n",
       "         3.39452565e-01, -9.60298359e-01, -2.47024685e-01,\n",
       "         1.31491637e+00, -2.41259187e-01, -8.27650845e-01,\n",
       "        -2.59801209e-01,  2.83145338e-01, -4.11589086e-01,\n",
       "        -3.92907858e-02,  5.94036937e-01, -6.10717416e-01,\n",
       "        -7.41774142e-02, -2.78023956e-03,  3.87943745e-01,\n",
       "        -2.04198763e-01,  4.21274677e-02,  2.17038631e-01,\n",
       "        -3.66492540e-01,  1.30011350e-01, -4.25594658e-01,\n",
       "        -1.01699926e-01, -8.69664401e-02, -4.93548483e-01,\n",
       "        -8.74068916e-01,  1.02838375e-01,  5.23044467e-01,\n",
       "         1.58237234e-01, -2.70333052e-01,  3.46396655e-01,\n",
       "         5.15821755e-01,  3.92781854e-01,  7.40977585e-01,\n",
       "        -4.62842852e-01,  1.73400235e+00, -3.53225738e-01,\n",
       "        -1.90775841e-01, -3.07276547e-01,  2.13789612e-01,\n",
       "        -1.13894306e-01,  1.96548748e+00, -3.17578256e-01,\n",
       "         1.72365832e+00, -4.10906971e-01,  4.90086555e-01,\n",
       "         6.60113692e-01,  2.46454865e-01, -1.92485109e-01,\n",
       "        -8.27323794e-02, -1.48711038e+00, -1.68717057e-01,\n",
       "        -5.38216710e-01, -6.20428920e-01, -8.00990760e-01,\n",
       "        -1.60974056e-01,  4.96389389e-01,  1.66582987e-01,\n",
       "         4.96100426e-01, -5.71654499e-01, -5.69849432e-01,\n",
       "        -6.62371993e-01, -6.69860065e-01,  4.71867263e-01,\n",
       "         1.77105695e-01,  2.82767117e-01,  7.77222514e-01,\n",
       "         8.08230519e-01,  3.43725324e-01,  1.62499458e-01,\n",
       "        -7.87176311e-01, -4.51968648e-02, -3.80059987e-01,\n",
       "        -7.02295154e-02,  5.80607474e-01,  4.49223677e-03,\n",
       "         5.08047998e-01, -3.37883621e-01, -9.05504584e-01,\n",
       "        -3.72759581e-01,  9.69096184e-01,  7.32951343e-01,\n",
       "        -1.47003531e-02, -1.66791707e-01, -7.48529971e-01,\n",
       "         3.49953622e-01,  3.52073848e-01, -2.22853512e-01,\n",
       "         4.56675947e-01,  5.75809717e-01,  5.51624894e-01,\n",
       "         2.87798196e-01,  5.67534685e-01,  2.27263376e-01,\n",
       "         6.26457453e-01, -5.42230979e-02,  2.22734292e-03,\n",
       "         1.64459348e-01,  8.17201316e-01,  2.38742441e-01,\n",
       "        -1.04279172e+00, -1.90230921e-01,  8.31366241e-01,\n",
       "        -1.08928524e-01, -7.67867684e-01, -1.56506360e+00,\n",
       "         9.83845666e-02,  5.94588161e-01, -3.26209337e-01,\n",
       "         4.37063843e-01,  5.54827809e-01, -2.03392580e-01,\n",
       "         3.59790772e-01, -9.05631185e-01, -8.31856251e-01,\n",
       "         7.73740947e-01,  4.41841424e-01, -4.34966087e-01,\n",
       "         6.14097059e-01, -1.54606605e+00, -3.87130409e-01,\n",
       "        -3.62234056e-01, -4.11030918e-01, -5.65785229e-01,\n",
       "         1.98043078e-01, -2.43140414e-01,  3.94556940e-01,\n",
       "         3.31796594e-02, -5.01048148e-01, -5.38111702e-02,\n",
       "         1.11226916e-01, -8.53567570e-02, -1.28516108e-01,\n",
       "         3.17713618e-01, -7.40419745e-01,  1.54858872e-01,\n",
       "        -2.65548229e-01,  3.80776599e-02,  4.57085043e-01,\n",
       "        -3.71370226e-01,  5.02705164e-02, -2.20406219e-01,\n",
       "         1.73871279e-01,  2.46962160e-01, -9.55425382e-01,\n",
       "         9.79731083e-01,  2.44553134e-01, -6.34987712e-01,\n",
       "         6.99033856e-01,  2.90859342e-01,  5.63883297e-02,\n",
       "        -1.76684856e+00,  2.22634107e-01, -8.67290854e-01,\n",
       "        -2.21751168e-01,  5.51866114e-01,  8.67712945e-02,\n",
       "         3.73757541e-01,  5.58386445e-01, -9.87277389e-01,\n",
       "        -2.56009489e-01,  1.45745918e-01, -1.40387273e+00,\n",
       "         5.97861648e-01, -5.57900310e-01,  5.06722450e-01,\n",
       "        -3.43783796e-01, -2.96222810e-02, -2.27029830e-01,\n",
       "        -8.09825063e-01, -3.50277275e-01, -7.97159195e-01,\n",
       "         3.58411148e-02,  1.67629063e-01, -1.51472285e-01,\n",
       "         1.37082982e+00,  1.93790346e-01,  3.84275496e-01,\n",
       "        -6.32177711e-01, -1.20075250e+00, -8.30001235e-01,\n",
       "        -2.26380154e-01,  1.11529219e+00,  7.37479329e-01,\n",
       "         1.31670582e+00, -9.80352908e-02, -1.30520523e+00,\n",
       "        -7.58543471e-03, -6.62846625e-01, -2.03785568e-01,\n",
       "         5.72608113e-01, -2.37367719e-01, -1.72662884e-01,\n",
       "         9.48387757e-02,  5.61574399e-01, -3.18533182e-01,\n",
       "        -5.07103801e-02, -1.29009038e-01,  6.48959219e-01,\n",
       "         4.41270441e-01, -8.61250162e-02,  6.13577247e-01,\n",
       "         1.37006152e+00,  2.07766145e-01,  1.11913420e-02,\n",
       "         2.86103129e-01, -6.75361991e-01,  6.81979537e-01,\n",
       "         2.31299713e-01,  1.36660552e+00, -2.12233812e-01,\n",
       "         1.42671779e-01,  6.22841835e-01,  1.24323217e-03,\n",
       "        -5.30407310e-01,  6.59210622e-01,  5.28714001e-01,\n",
       "        -2.66051710e-01,  8.25005710e-01,  1.63837224e-01,\n",
       "        -3.92231017e-01,  1.17419708e+00, -3.58159512e-01,\n",
       "         1.20340541e-01,  6.17996335e-01, -1.97654352e-01,\n",
       "        -3.37252557e-01, -5.96296489e-01,  9.80631053e-01,\n",
       "         7.05338940e-02,  1.60116237e-02, -5.61112165e-01,\n",
       "         7.18589664e-01, -4.93605673e-01, -5.00281930e-01,\n",
       "        -1.02109790e-01, -8.63965034e-01,  9.73980308e-01,\n",
       "         1.14620313e-01,  3.40273619e-01, -4.81913090e-02,\n",
       "        -3.91407669e-01,  1.04441764e-02,  2.21341848e-01,\n",
       "         1.56471789e-01, -2.30260998e-01, -1.00078511e+00,\n",
       "        -5.32526851e-01,  5.05545661e-02,  5.78384459e-01,\n",
       "        -7.48743713e-01, -4.05810297e-01,  1.59404963e-01,\n",
       "        -4.37557131e-01,  3.27158511e-01, -2.49223590e-01,\n",
       "        -1.82774499e-01, -1.72155276e-01,  4.90209050e-02,\n",
       "         4.22676027e-01,  4.89770502e-01,  2.92822778e-01,\n",
       "        -8.63359451e-01, -2.49437615e-01, -1.76457214e+00,\n",
       "         3.46842617e-01, -7.31789321e-02, -2.65011638e-01,\n",
       "        -3.96694928e-01, -3.29206198e-01, -6.53415680e-01,\n",
       "        -1.75404251e-01,  2.30471373e-01,  4.86983657e-02,\n",
       "         1.09374499e+00,  4.07499969e-01,  7.07620978e-02,\n",
       "        -5.07066786e-01, -1.23274052e+00, -3.42088580e-01,\n",
       "        -3.79792035e-01,  1.53945744e-01,  7.21196830e-02,\n",
       "        -3.34152251e-01,  5.70776522e-01, -8.51344839e-02,\n",
       "        -1.57692325e+00,  6.05454296e-03,  9.63845104e-02,\n",
       "         1.16800535e+00, -1.06386423e+00,  8.53546709e-02,\n",
       "        -1.11440551e+00, -6.52740598e-01,  6.83694780e-01,\n",
       "         6.64501607e-01,  9.49409381e-02, -6.17342949e-01,\n",
       "        -6.17398508e-02, -7.15586424e-01, -3.96483183e-01,\n",
       "        -8.03064227e-01,  6.33446574e-01,  7.06344396e-02,\n",
       "        -5.15391707e-01, -4.66009155e-02,  3.65724087e-01,\n",
       "         6.88523889e-01, -3.87736738e-01, -4.41014230e-01,\n",
       "        -6.66561663e-01,  4.73000348e-01,  2.27766559e-01,\n",
       "        -5.69317937e-01,  4.25471246e-01,  5.04650831e-01,\n",
       "         3.43090475e-01, -2.43128147e-02, -4.29082543e-01,\n",
       "         1.00054955e+00, -3.23946059e-01, -5.63287139e-02,\n",
       "         1.77262515e-01,  6.74523294e-01,  6.81362450e-01,\n",
       "        -5.59232533e-01,  2.38251418e-01, -6.24349296e-01,\n",
       "        -2.39081830e-01, -4.40423071e-01, -1.02480435e+00,\n",
       "        -3.58255595e-01,  4.70255047e-01,  4.87260282e-01,\n",
       "        -1.77851185e-01, -4.49139059e-01,  1.25585049e-01,\n",
       "        -7.03162551e-01, -4.51024622e-01, -1.83405168e-02,\n",
       "         6.94426000e-01,  8.76459420e-01,  4.59316164e-01,\n",
       "        -5.80706775e-01, -5.98890670e-02, -9.50994313e-01,\n",
       "         7.91058004e-01,  3.67170870e-01, -4.61058199e-01,\n",
       "        -4.51975286e-01, -5.91755748e-01, -1.88197523e-01,\n",
       "         1.12473175e-01,  1.49368256e-01,  6.64213300e-02,\n",
       "        -5.75918674e-01,  2.23456934e-01,  9.83101368e-01,\n",
       "        -9.52297509e-01, -3.15914989e-01, -1.27794206e-01,\n",
       "        -1.08110726e+00, -8.01794410e-01, -8.53026584e-02,\n",
       "        -3.15308750e-01, -3.45441967e-01, -4.66803879e-01,\n",
       "        -3.29427958e-01, -1.36382729e-01, -1.30559821e-02,\n",
       "        -3.10640067e-01,  6.01979136e-01, -4.59400415e-01,\n",
       "        -4.41014692e-02, -6.34889483e-01,  2.51026183e-01,\n",
       "        -1.63704395e-01, -3.10405437e-02,  5.46648145e-01,\n",
       "        -1.43470794e-01,  1.57535005e+00, -6.62652105e-02,\n",
       "        -3.06853473e-01, -8.47863674e-01,  4.81445879e-01,\n",
       "        -1.89792141e-02,  7.72118807e-01, -4.51036513e-01,\n",
       "        -6.31940782e-01,  1.30951613e-01,  2.43364856e-01,\n",
       "         1.49926174e+00, -1.82207853e-01,  1.54541790e-01,\n",
       "         1.65516645e-01,  3.76579791e-01,  2.53335148e-01,\n",
       "         6.40183032e-01, -2.83956200e-01,  4.96093571e-01,\n",
       "         4.22489017e-01,  1.06504582e-01, -2.31845662e-01,\n",
       "        -2.77003553e-02, -8.57431516e-02, -1.72872081e-01,\n",
       "        -6.90033376e-01,  1.73664063e-01, -4.26148951e-01,\n",
       "         1.50836632e-01,  7.30757356e-01,  4.68374014e-01,\n",
       "        -2.56014138e-01, -6.05407953e-01, -3.43586266e-01,\n",
       "         2.70202935e-01, -1.35521382e-01,  2.09253147e-01,\n",
       "        -1.35532260e+00, -1.05420962e-01, -1.81704566e-01,\n",
       "        -9.05474842e-01,  4.63728815e-01,  1.98157281e-01,\n",
       "         3.34622152e-02, -3.11667770e-01,  2.04533815e-01,\n",
       "         4.98043150e-01, -2.25979179e-01, -7.47167885e-01,\n",
       "         7.03302845e-02,  1.77236851e-02,  1.81211159e-02,\n",
       "        -1.79798394e-01,  2.89591849e-01, -2.61927962e-01,\n",
       "         3.63420427e-01, -3.81832600e-01,  4.68258530e-01,\n",
       "        -6.57357097e-01, -3.01038206e-01,  1.71469212e+00,\n",
       "         7.44758010e-01, -1.46596521e-01, -1.03688180e+00,\n",
       "         6.67451501e-01, -4.96423244e-01, -3.13525438e-01,\n",
       "         3.00650090e-01,  3.56677234e-01,  4.99655813e-01,\n",
       "        -7.13644549e-03,  3.80349129e-01, -7.96178579e-01,\n",
       "         3.55748683e-01, -5.45365512e-01, -1.38490367e+00,\n",
       "         4.05202061e-02,  1.23649943e+00,  2.23143384e-01,\n",
       "        -2.39688128e-01, -3.35927576e-01, -4.24254596e-01,\n",
       "        -7.57130375e-03,  1.13431213e-03,  3.14793110e-01,\n",
       "         2.33621359e-01, -4.52942997e-01, -4.57531989e-01,\n",
       "        -5.82834721e-01, -2.68381059e-01, -5.93722701e-01,\n",
       "         8.09087634e-01,  1.02164727e-02, -1.04431055e-01,\n",
       "        -8.84987533e-01, -3.05503365e-02, -4.79641825e-01,\n",
       "         1.23122251e+00, -1.92461967e-01, -9.07853901e-01,\n",
       "         1.90461010e-01,  3.07379901e-01,  4.09715176e-01,\n",
       "         5.28470986e-02,  2.12994412e-01,  4.15189087e-01,\n",
       "         2.49863833e-01,  6.76086545e-01,  2.80061424e-01,\n",
       "         1.09344316e+00, -9.98147309e-01,  9.07573819e-01,\n",
       "        -3.69161189e-01, -1.94828987e-01, -1.91240937e-01,\n",
       "        -2.60211408e-01, -1.04983270e+00,  6.13317370e-01,\n",
       "         6.03983045e-01,  4.19337183e-01,  1.41240925e-01,\n",
       "        -1.90804258e-01,  1.84905276e-01,  2.97539800e-01,\n",
       "        -2.71696210e-01,  6.13829911e-01, -1.33366644e-01,\n",
       "         4.17510122e-01, -6.02980971e-01,  1.47536254e+00,\n",
       "        -4.16326106e-01, -4.78272066e-02, -2.41485432e-01,\n",
       "        -1.74958855e-01,  3.53335142e-01,  1.08828104e+00,\n",
       "         9.24015880e-01,  1.08114469e+00,  6.55568838e-02,\n",
       "        -2.04413384e-01,  1.74596429e-01, -1.30471081e-01,\n",
       "         7.03375459e-01,  3.04260343e-01,  1.61229596e-01,\n",
       "         3.97750378e-01,  1.61271855e-01,  1.55196607e-01,\n",
       "         7.65588433e-02, -7.96614528e-01,  2.69703090e-01,\n",
       "         9.07613803e-03,  5.97878039e-01, -4.06973585e-02,\n",
       "         7.35851586e-01, -1.85014561e-01,  2.47630149e-01,\n",
       "        -1.52561754e-01, -4.60186526e-02, -6.51868045e-01,\n",
       "         2.40078449e-01, -1.16376042e+00,  1.59209773e-01,\n",
       "         3.74878079e-01,  1.41891646e+00, -2.31763832e-02,\n",
       "         9.65402797e-02, -4.70803559e-01,  1.10607314e+00,\n",
       "        -7.42673337e-01,  2.53877252e-01, -1.50296777e-01,\n",
       "         5.20418286e-01, -1.07560766e+00,  6.72959507e-01,\n",
       "         8.07437599e-01, -6.72236204e-01, -7.52346337e-01,\n",
       "         2.49584913e-01,  1.06757808e+00, -7.75929689e-01,\n",
       "        -1.97943246e+00, -1.08696721e-01,  1.38370425e-01,\n",
       "        -4.45527166e-01, -3.45433563e-01,  6.63086891e-01,\n",
       "        -7.67849326e-01, -1.11994171e+00,  2.26727679e-01,\n",
       "        -1.27926898e+00, -1.46353817e+00,  4.64088656e-02,\n",
       "        -1.06528008e+00, -5.88974774e-01,  6.97385728e-01,\n",
       "         8.33228379e-02, -6.08231783e-01,  8.50087941e-01,\n",
       "         6.09991729e-01,  4.34017658e-01, -4.55280803e-02,\n",
       "        -2.94561207e-01,  1.92186737e+00,  2.10981578e-01,\n",
       "        -2.95319229e-01,  8.83997262e-01, -7.41655231e-01,\n",
       "        -4.87891734e-01,  8.26211572e-01, -3.10615480e-01,\n",
       "        -2.90266722e-01, -6.27946854e-01,  6.11103654e-01,\n",
       "         1.02434421e+00, -2.65564382e-01,  7.24912643e-01,\n",
       "        -1.15504766e+00, -6.36790693e-01,  2.10147500e-01,\n",
       "        -5.69562674e-01,  3.10058713e-01,  8.73640716e-01,\n",
       "         5.15464365e-01, -2.48929299e-02, -4.87373769e-01,\n",
       "        -4.09480751e-01, -1.05250907e+00, -7.40694225e-01,\n",
       "        -7.10646451e-01, -4.28047836e-01, -3.07708438e-02,\n",
       "         2.64144335e-02, -2.33119652e-01, -1.51076913e+00,\n",
       "        -2.50980943e-01, -6.06855825e-02,  7.14198768e-01,\n",
       "         7.98738122e-01,  2.48966366e-01,  1.29890233e-01,\n",
       "         3.27008307e-01,  3.98386180e-01,  4.05952454e-01,\n",
       "        -9.85536456e-01, -9.88632515e-02,  1.56513527e-01,\n",
       "         1.30620296e-03,  8.12489688e-01,  1.93207249e-01,\n",
       "        -1.06363699e-01,  3.50640193e-02, -5.05685985e-01,\n",
       "        -9.16768074e-01, -5.30029368e-03, -1.04072846e-01]], dtype=float32)"
      ]
     },
     "execution_count": 23,
     "metadata": {},
     "output_type": "execute_result"
    }
   ],
   "source": [
    "xq"
   ]
  },
  {
   "cell_type": "code",
   "execution_count": 24,
   "metadata": {},
   "outputs": [
    {
     "name": "stdout",
     "output_type": "stream",
     "text": [
      "[[20 28 22]]\n",
      "CPU times: total: 0 ns\n",
      "Wall time: 1.01 ms\n"
     ]
    }
   ],
   "source": [
    "%%time\n",
    "D, I = index.search(xq, k)  # search\n",
    "print(I)"
   ]
  },
  {
   "cell_type": "code",
   "execution_count": 25,
   "metadata": {},
   "outputs": [
    {
     "data": {
      "text/html": [
       "<div>\n",
       "<style scoped>\n",
       "    .dataframe tbody tr th:only-of-type {\n",
       "        vertical-align: middle;\n",
       "    }\n",
       "\n",
       "    .dataframe tbody tr th {\n",
       "        vertical-align: top;\n",
       "    }\n",
       "\n",
       "    .dataframe thead th {\n",
       "        text-align: right;\n",
       "    }\n",
       "</style>\n",
       "<table border=\"1\" class=\"dataframe\">\n",
       "  <thead>\n",
       "    <tr style=\"text-align: right;\">\n",
       "      <th></th>\n",
       "      <th>index</th>\n",
       "      <th>Topic</th>\n",
       "      <th>Sentence</th>\n",
       "      <th>embedding</th>\n",
       "    </tr>\n",
       "  </thead>\n",
       "  <tbody>\n",
       "    <tr>\n",
       "      <th>20</th>\n",
       "      <td>20</td>\n",
       "      <td>Nobel Prize 2020</td>\n",
       "      <td>The Nobel Prize, one of the world's most prestigious awards, recognized exceptional achievements across multiple fields in 2020.</td>\n",
       "      <td>[-0.7098484, 0.11139103, 0.9141327, 0.2170723, 0.6606698, -1.3217964, 0.15830079, 0.32073772, 0.5343096, -1.2622905, -0.12365559, 0.36141455, 0.71983576, 0.9434296, 0.4363507, -0.22192915, 0.36854...</td>\n",
       "    </tr>\n",
       "    <tr>\n",
       "      <th>28</th>\n",
       "      <td>28</td>\n",
       "      <td>Nobel Prize 2020</td>\n",
       "      <td>The Nobel Prize in 2020 celebrated accomplishments and served as a reminder of the potential for positive change and innovation across the world.</td>\n",
       "      <td>[-0.39877388, 0.13049346, 1.7794923, -0.1949765, 0.32871997, -1.3289046, -0.18987823, 0.015368937, 0.6483368, -0.9373034, 0.23878448, 0.3269869, 0.624989, 0.86078733, 0.2896345, -0.6804257, -0.110...</td>\n",
       "    </tr>\n",
       "    <tr>\n",
       "      <th>22</th>\n",
       "      <td>22</td>\n",
       "      <td>Nobel Prize 2020</td>\n",
       "      <td>In 2020, the Nobel Prize awarded laureates in Physics, Chemistry, Medicine, Literature, and Peace for their remarkable accomplishments.</td>\n",
       "      <td>[-0.7103145, 0.8782501, 1.118884, -0.2171279, 0.64112484, -1.0415105, 0.29237664, -0.3109003, 0.6889572, -0.88039505, -0.021695022, 0.21332428, 0.7415612, 1.4984628, 0.15303433, 0.12411607, -0.105...</td>\n",
       "    </tr>\n",
       "  </tbody>\n",
       "</table>\n",
       "</div>"
      ],
      "text/plain": [
       "    index             Topic  \\\n",
       "20     20  Nobel Prize 2020   \n",
       "28     28  Nobel Prize 2020   \n",
       "22     22  Nobel Prize 2020   \n",
       "\n",
       "                                                                                                                                             Sentence  \\\n",
       "20                   The Nobel Prize, one of the world's most prestigious awards, recognized exceptional achievements across multiple fields in 2020.   \n",
       "28  The Nobel Prize in 2020 celebrated accomplishments and served as a reminder of the potential for positive change and innovation across the world.   \n",
       "22            In 2020, the Nobel Prize awarded laureates in Physics, Chemistry, Medicine, Literature, and Peace for their remarkable accomplishments.   \n",
       "\n",
       "                                                                                                                                                                                                  embedding  \n",
       "20  [-0.7098484, 0.11139103, 0.9141327, 0.2170723, 0.6606698, -1.3217964, 0.15830079, 0.32073772, 0.5343096, -1.2622905, -0.12365559, 0.36141455, 0.71983576, 0.9434296, 0.4363507, -0.22192915, 0.36854...  \n",
       "28  [-0.39877388, 0.13049346, 1.7794923, -0.1949765, 0.32871997, -1.3289046, -0.18987823, 0.015368937, 0.6483368, -0.9373034, 0.23878448, 0.3269869, 0.624989, 0.86078733, 0.2896345, -0.6804257, -0.110...  \n",
       "22  [-0.7103145, 0.8782501, 1.118884, -0.2171279, 0.64112484, -1.0415105, 0.29237664, -0.3109003, 0.6889572, -0.88039505, -0.021695022, 0.21332428, 0.7415612, 1.4984628, 0.15303433, 0.12411607, -0.105...  "
      ]
     },
     "execution_count": 25,
     "metadata": {},
     "output_type": "execute_result"
    }
   ],
   "source": [
    "df.iloc[[20, 28, 22]]"
   ]
  },
  {
   "cell_type": "code",
   "execution_count": 26,
   "metadata": {},
   "outputs": [],
   "source": [
    "from scipy.spatial.distance import euclidean\n"
   ]
  },
  {
   "cell_type": "code",
   "execution_count": 27,
   "metadata": {},
   "outputs": [],
   "source": [
    "# IndexFlatL2 -> Flat index with L2 distance (Eculidian distance)\n",
    "# IndexFlatIP -> Flat index with IP (Inner Product)"
   ]
  },
  {
   "cell_type": "code",
   "execution_count": 28,
   "metadata": {},
   "outputs": [],
   "source": [
    "### Euclidian distance"
   ]
  },
  {
   "cell_type": "code",
   "execution_count": 29,
   "metadata": {},
   "outputs": [],
   "source": [
    "distance=[]\n",
    "\n",
    "for sub_array in sentence_embeddings:\n",
    "    distance.append(euclidean(sub_array, xq[0]))"
   ]
  },
  {
   "cell_type": "code",
   "execution_count": 30,
   "metadata": {},
   "outputs": [
    {
     "data": {
      "text/plain": [
       "<faiss.swigfaiss.IndexFlatL2; proxy of <Swig Object of type 'faiss::IndexFlatL2 *' at 0x00000157AC2CB660> >"
      ]
     },
     "execution_count": 30,
     "metadata": {},
     "output_type": "execute_result"
    }
   ],
   "source": [
    "index"
   ]
  },
  {
   "cell_type": "code",
   "execution_count": 31,
   "metadata": {},
   "outputs": [],
   "source": [
    "# finding the index of smallest values\n",
    "\n",
    "def finding_index_smallvalue(lst, k):\n",
    "    indexed_xx = list(enumerate(lst))\n",
    "\n",
    "    # Sort the list of tuples based on the values (ascending order)\n",
    "    sorted_xx = sorted(indexed_xx, key=lambda x: x[1])\n",
    "\n",
    "    # Get the indices of the smallest three numbers\n",
    "    smallest_indices = [i for i, value in sorted_xx[:k]]\n",
    "\n",
    "    return smallest_indices"
   ]
  },
  {
   "cell_type": "code",
   "execution_count": 32,
   "metadata": {},
   "outputs": [
    {
     "data": {
      "text/plain": [
       "[20, 28, 22]"
      ]
     },
     "execution_count": 32,
     "metadata": {},
     "output_type": "execute_result"
    }
   ],
   "source": [
    "finding_index_smallvalue(distance, 3)"
   ]
  },
  {
   "cell_type": "code",
   "execution_count": 33,
   "metadata": {},
   "outputs": [],
   "source": [
    "# We get the same index"
   ]
  },
  {
   "cell_type": "code",
   "execution_count": 34,
   "metadata": {},
   "outputs": [],
   "source": [
    "import numpy as np\n",
    "import pandas as pd\n",
    "from sklearn.manifold import TSNE\n",
    "import matplotlib\n",
    "import matplotlib.pyplot as plt\n",
    "import seaborn as sns\n",
    "import time\n",
    "import os\n",
    "plt.rcParams['figure.figsize'] = (15, 8) \n"
   ]
  },
  {
   "cell_type": "code",
   "execution_count": 36,
   "metadata": {},
   "outputs": [],
   "source": [
    "matrix = np.vstack(df.embedding.values)\n"
   ]
  },
  {
   "cell_type": "code",
   "execution_count": 37,
   "metadata": {},
   "outputs": [
    {
     "data": {
      "text/plain": [
       "49"
      ]
     },
     "execution_count": 37,
     "metadata": {},
     "output_type": "execute_result"
    }
   ],
   "source": [
    "len(matrix)"
   ]
  },
  {
   "cell_type": "code",
   "execution_count": 38,
   "metadata": {},
   "outputs": [],
   "source": [
    "new_matrix = np.vstack((matrix, xq))"
   ]
  },
  {
   "cell_type": "code",
   "execution_count": 80,
   "metadata": {},
   "outputs": [
    {
     "data": {
      "text/plain": [
       "Text(0, 0.5, 'X2')"
      ]
     },
     "execution_count": 80,
     "metadata": {},
     "output_type": "execute_result"
    },
    {
     "data": {
      "image/png": "[encoded data removed]",
      "text/plain": [
       "<Figure size 1200x600 with 1 Axes>"
      ]
     },
     "metadata": {},
     "output_type": "display_data"
    }
   ],
   "source": [
    "plt.rcParams['figure.figsize'] = (12, 6) \n",
    "\n",
    "matrix = np.vstack(df.embedding.values)\n",
    "\n",
    "tsne = TSNE(n_components=2, perplexity=15, random_state=42, init='random', learning_rate=200)\n",
    "#vis_dims2 = tsne.fit_transform(matrix)\n",
    "\n",
    "vis_dims2 = tsne.fit_transform(matrix)\n",
    "# xq_transformed=vis_dims2[-1]\n",
    "# vis_dims2 = vis_dims2[:-1]\n",
    "\n",
    "\n",
    "x_values = [x for x,y in vis_dims2]\n",
    "y_values = [y for x,y in vis_dims2]\n",
    "\n",
    "\n",
    "plt.scatter(x_values, y_values)\n",
    "for i, (x, y) in enumerate(zip(x_values, y_values)):\n",
    "    plt.annotate(str(i), (x, y), textcoords=\"offset points\", xytext=(0, 3), ha='center')\n",
    "\n",
    "plt.title(\"Reduced Dimension: Embeddings visualized using t-SNE\", size=17, fontweight=\"bold\")\n",
    "plt.xlabel('X1',size=13, fontweight=\"bold\")\n",
    "plt.ylabel('X2',size=13, fontweight=\"bold\")\n",
    "# plt.scatter(xq_transformed[0], xq_transformed[1], marker='*', s=100, label='Stars', color='red')  # Use marker='*' for star shape\n",
    "# plt.annotate(\"Xq\", (xq_transformed[0], xq_transformed[1]), textcoords=\"offset points\", xytext=(0,10), ha='center')\n",
    "\n",
    "#plt.scatter(0,0)"
   ]
  },
  {
   "cell_type": "code",
   "execution_count": 39,
   "metadata": {},
   "outputs": [
    {
     "data": {
      "text/plain": [
       "Text(0, 10, 'Xq')"
      ]
     },
     "execution_count": 39,
     "metadata": {},
     "output_type": "execute_result"
    },
    {
     "data": {
      "image/png": "[encoded data removed]",
      "text/plain": [
       "<Figure size 1200x600 with 1 Axes>"
      ]
     },
     "metadata": {},
     "output_type": "display_data"
    }
   ],
   "source": [
    "plt.rcParams['figure.figsize'] = (12, 6) \n",
    "\n",
    "matrix = np.vstack(df.embedding.values)\n",
    "\n",
    "tsne = TSNE(n_components=2, perplexity=15, random_state=42, init='random', learning_rate=200)\n",
    "#vis_dims2 = tsne.fit_transform(matrix)\n",
    "\n",
    "vis_dims2 = tsne.fit_transform(new_matrix)\n",
    "xq_transformed=vis_dims2[-1]\n",
    "vis_dims2 = vis_dims2[:-1]\n",
    "\n",
    "\n",
    "x_values = [x for x,y in vis_dims2]\n",
    "y_values = [y for x,y in vis_dims2]\n",
    "\n",
    "\n",
    "plt.scatter(x_values, y_values)\n",
    "for i, (x, y) in enumerate(zip(x_values, y_values)):\n",
    "    plt.annotate(str(i), (x, y), textcoords=\"offset points\", xytext=(0, 3), ha='center')\n",
    "\n",
    "plt.title(\"Reduced Dimension: Embeddings visualized using t-SNE\", size=17, fontweight=\"bold\")\n",
    "plt.xlabel('X1',size=13, fontweight=\"bold\")\n",
    "plt.ylabel('X2',size=13, fontweight=\"bold\")\n",
    "plt.scatter(xq_transformed[0], xq_transformed[1], marker='*', s=100, label='Stars', color='red')  # Use marker='*' for star shape\n",
    "plt.annotate(\"Xq\", (xq_transformed[0], xq_transformed[1]), textcoords=\"offset points\", xytext=(0,10), ha='center')\n",
    "\n",
    "#plt.scatter(0,0)"
   ]
  },
  {
   "cell_type": "code",
   "execution_count": 62,
   "metadata": {},
   "outputs": [
    {
     "data": {
      "text/plain": [
       "array([ -1.2783703, -79.753006 ], dtype=float32)"
      ]
     },
     "execution_count": 62,
     "metadata": {},
     "output_type": "execute_result"
    }
   ],
   "source": [
    "xq_transformed"
   ]
  },
  {
   "cell_type": "code",
   "execution_count": 56,
   "metadata": {},
   "outputs": [
    {
     "data": {
      "text/plain": [
       "array([ -1.2783703, -79.753006 ], dtype=float32)"
      ]
     },
     "execution_count": 56,
     "metadata": {},
     "output_type": "execute_result"
    }
   ],
   "source": [
    "vis_dims2[-1]"
   ]
  },
  {
   "cell_type": "code",
   "execution_count": 58,
   "metadata": {},
   "outputs": [
    {
     "data": {
      "text/plain": [
       "49"
      ]
     },
     "execution_count": 58,
     "metadata": {},
     "output_type": "execute_result"
    }
   ],
   "source": [
    "len(vis_dims2[:-1])"
   ]
  },
  {
   "cell_type": "code",
   "execution_count": null,
   "metadata": {},
   "outputs": [],
   "source": []
  },
  {
   "cell_type": "code",
   "execution_count": null,
   "metadata": {},
   "outputs": [],
   "source": [
    "import numpy as np\n",
    "import pandas as pd\n",
    "from sklearn.manifold import TSNE\n",
    "import matplotlib\n",
    "import matplotlib.pyplot as plt\n",
    "import seaborn as sns\n",
    "import time\n",
    "import os\n",
    "plt.rcParams['figure.figsize'] = (15, 8) \n",
    "\n",
    "tsne = TSNE(n_components=2, perplexity=15, random_state=42, init='random', learning_rate=200)\n",
    "vis_dims2 = tsne.fit_transform(matrix)\n",
    "\n",
    "x = [x for x,y in vis_dims2]\n",
    "y = [y for x,y in vis_dims2]\n",
    "\n",
    "#palette = sns.color_palette(\"inferno\", num_cluster).as_hex() \n",
    "palette = sns.color_palette(\"husl\", 5).as_hex()\n",
    "\n",
    "for category, color in enumerate(palette):\n",
    "    xs = np.array(x)[df.Cluster==category]\n",
    "    ys = np.array(y)[df.Cluster==category]\n",
    "    plt.scatter(xs, ys, color=color, alpha=0.3, s=50)\n",
    "\n",
    "    avg_x = xs.mean()\n",
    "    avg_y = ys.mean()\n",
    "    \n",
    "    plt.scatter(avg_x, avg_y, marker='*', color='black', s=300)\n",
    "plt.title(\"Reduced Dimension: Embeddings visualized using t-SNE\", size=17, fontweight=\"bold\")\n",
    "plt.xlabel('Axis 1',size=13, fontweight=\"bold\")\n",
    "plt.ylabel('Axis 2',size=13, fontweight=\"bold\")\n",
    "x = [x for x,y in vis_dims2]\n",
    "y = [y for x,y in vis_dims2]\n",
    "\n",
    "plt.scatter(x, y)\n"
   ]
  },
  {
   "cell_type": "code",
   "execution_count": null,
   "metadata": {},
   "outputs": [],
   "source": []
  },
  {
   "cell_type": "code",
   "execution_count": null,
   "metadata": {},
   "outputs": [],
   "source": []
  },
  {
   "cell_type": "markdown",
   "metadata": {},
   "source": [
    "## With inner product"
   ]
  },
  {
   "cell_type": "code",
   "execution_count": 33,
   "metadata": {},
   "outputs": [],
   "source": [
    "## With Inner Product\n",
    "\n",
    "index1=faiss.IndexFlatIP(embedding_dimension)\n",
    "index1.add(sentence_embeddings)"
   ]
  },
  {
   "cell_type": "code",
   "execution_count": 75,
   "metadata": {},
   "outputs": [
    {
     "name": "stdout",
     "output_type": "stream",
     "text": [
      "[[20 28 22]]\n",
      "CPU times: total: 0 ns\n",
      "Wall time: 0 ns\n"
     ]
    }
   ],
   "source": [
    "%%time\n",
    "D, I = index1.search(xq, k)  # search\n",
    "print(I)"
   ]
  },
  {
   "cell_type": "code",
   "execution_count": 79,
   "metadata": {},
   "outputs": [],
   "source": [
    "import numpy as np"
   ]
  },
  {
   "cell_type": "code",
   "execution_count": 80,
   "metadata": {},
   "outputs": [],
   "source": [
    "distance1=[]\n",
    "\n",
    "for sub_array in sentence_embeddings:\n",
    "    distance1.append(np.inner(sub_array, xq[0]))"
   ]
  },
  {
   "cell_type": "code",
   "execution_count": 86,
   "metadata": {},
   "outputs": [],
   "source": [
    "# finding the index of smallest values\n",
    "\n",
    "def finding_index_largevalue(lst, k):\n",
    "    indexed_xx = list(enumerate(lst))\n",
    "\n",
    "    # Sort the list of tuples based on the values (ascending order)\n",
    "    sorted_xx = sorted(indexed_xx, key=lambda x: x[1], reverse=True)\n",
    "\n",
    "    # Get the indices of the smallest three numbers\n",
    "    smallest_indices = [i for i, value in sorted_xx[:k]]\n",
    "\n",
    "    return smallest_indices"
   ]
  },
  {
   "cell_type": "code",
   "execution_count": 87,
   "metadata": {},
   "outputs": [
    {
     "data": {
      "text/plain": [
       "[20, 28, 22]"
      ]
     },
     "execution_count": 87,
     "metadata": {},
     "output_type": "execute_result"
    }
   ],
   "source": [
    "finding_index_largevalue(distance1, 3)"
   ]
  },
  {
   "cell_type": "markdown",
   "metadata": {},
   "source": [
    "### Inverted File Index (IVF)"
   ]
  },
  {
   "cell_type": "markdown",
   "metadata": {},
   "source": []
  },
  {
   "cell_type": "code",
   "execution_count": 46,
   "metadata": {},
   "outputs": [
    {
     "data": {
      "text/plain": [
       "5"
      ]
     },
     "execution_count": 46,
     "metadata": {},
     "output_type": "execute_result"
    }
   ],
   "source": [
    "len(df['Topic'].unique())"
   ]
  },
  {
   "cell_type": "code",
   "execution_count": 94,
   "metadata": {},
   "outputs": [],
   "source": [
    "\n",
    "model = SentenceTransformer('all-MiniLM-L6-v2') # it gives lower dimension 386\n",
    "\n",
    "sentences = list(df['Sentence'])\n",
    "sentence_embeddings = model.encode(sentences)\n"
   ]
  },
  {
   "cell_type": "code",
   "execution_count": 96,
   "metadata": {},
   "outputs": [],
   "source": [
    "embedding_dimension=sentence_embeddings.shape[1]"
   ]
  },
  {
   "cell_type": "code",
   "execution_count": 105,
   "metadata": {},
   "outputs": [],
   "source": [
    "xq=model.encode(['would like to know about Nobel Prize 2020'])\n"
   ]
  },
  {
   "cell_type": "code",
   "execution_count": 115,
   "metadata": {},
   "outputs": [],
   "source": [
    "### For visualization of \n",
    "nlist=5\n",
    "index = faiss.index_factory(embedding_dimension, 'IVF%s,Flat' % nlist)\n",
    "index.train(sentence_embeddings)\n",
    "index.add(sentence_embeddings)\n",
    "index.nprobe = 3\n",
    "faiss.write_index(index, 'faiss_ivf_flat_49smaple.index')"
   ]
  },
  {
   "cell_type": "code",
   "execution_count": 116,
   "metadata": {},
   "outputs": [
    {
     "data": {
      "text/plain": [
       "array([[-0.02245325,  0.06005978,  0.02328431, ..., -0.00418614,\n",
       "        -0.0167044 ,  0.02549867],\n",
       "       [ 0.05956964,  0.09052653,  0.04526693, ...,  0.03716531,\n",
       "        -0.00045426,  0.00222308],\n",
       "       [-0.02499702,  0.07864024, -0.06531843, ...,  0.01722914,\n",
       "         0.0349489 ,  0.01723398],\n",
       "       ...,\n",
       "       [-0.0496626 ,  0.07988509,  0.01601531, ..., -0.03858742,\n",
       "        -0.05817487,  0.01126281],\n",
       "       [-0.03232229,  0.06021214, -0.03257099, ...,  0.01232847,\n",
       "        -0.08635767, -0.00835791],\n",
       "       [-0.03489426, -0.00044589, -0.0042938 , ..., -0.00987644,\n",
       "        -0.04844795, -0.01788819]], dtype=float32)"
      ]
     },
     "execution_count": 116,
     "metadata": {},
     "output_type": "execute_result"
    }
   ],
   "source": [
    "sentence_embeddings"
   ]
  },
  {
   "cell_type": "code",
   "execution_count": 114,
   "metadata": {},
   "outputs": [
    {
     "data": {
      "text/plain": [
       "<faiss.swigfaiss.IndexIVFFlat; proxy of <Swig Object of type 'faiss::IndexIVFFlat *' at 0x00000158271D3A50> >"
      ]
     },
     "execution_count": 114,
     "metadata": {},
     "output_type": "execute_result"
    }
   ],
   "source": [
    "index"
   ]
  },
  {
   "cell_type": "code",
   "execution_count": 97,
   "metadata": {},
   "outputs": [],
   "source": [
    "nlist=5"
   ]
  },
  {
   "cell_type": "code",
   "execution_count": 98,
   "metadata": {},
   "outputs": [],
   "source": [
    "quantizer = faiss.IndexFlatIP(embedding_dimension)"
   ]
  },
  {
   "cell_type": "code",
   "execution_count": 99,
   "metadata": {},
   "outputs": [],
   "source": [
    "index = faiss.IndexIVFFlat(quantizer, embedding_dimension, nlist)"
   ]
  },
  {
   "cell_type": "code",
   "execution_count": null,
   "metadata": {},
   "outputs": [],
   "source": []
  },
  {
   "cell_type": "code",
   "execution_count": 100,
   "metadata": {},
   "outputs": [
    {
     "data": {
      "text/plain": [
       "0"
      ]
     },
     "execution_count": 100,
     "metadata": {},
     "output_type": "execute_result"
    }
   ],
   "source": [
    "index.ntotal"
   ]
  },
  {
   "cell_type": "code",
   "execution_count": 101,
   "metadata": {},
   "outputs": [
    {
     "data": {
      "text/plain": [
       "False"
      ]
     },
     "execution_count": 101,
     "metadata": {},
     "output_type": "execute_result"
    }
   ],
   "source": [
    "index.is_trained"
   ]
  },
  {
   "cell_type": "code",
   "execution_count": 102,
   "metadata": {},
   "outputs": [],
   "source": [
    "index.train(sentence_embeddings)  # we must train the index to cluster into cells\n",
    "index.add(sentence_embeddings)"
   ]
  },
  {
   "cell_type": "code",
   "execution_count": 103,
   "metadata": {},
   "outputs": [],
   "source": [
    "index.nprobe=1"
   ]
  },
  {
   "cell_type": "code",
   "execution_count": 106,
   "metadata": {},
   "outputs": [],
   "source": [
    "D, I = index.search(xq,3)"
   ]
  },
  {
   "cell_type": "code",
   "execution_count": 107,
   "metadata": {},
   "outputs": [
    {
     "data": {
      "text/plain": [
       "array([[0.43810534, 0.48188654, 0.5668097 ]], dtype=float32)"
      ]
     },
     "execution_count": 107,
     "metadata": {},
     "output_type": "execute_result"
    }
   ],
   "source": [
    "D"
   ]
  },
  {
   "cell_type": "code",
   "execution_count": 108,
   "metadata": {},
   "outputs": [
    {
     "data": {
      "text/plain": [
       "array([[22, 28, 20]], dtype=int64)"
      ]
     },
     "execution_count": 108,
     "metadata": {},
     "output_type": "execute_result"
    }
   ],
   "source": [
    "I"
   ]
  },
  {
   "cell_type": "code",
   "execution_count": 109,
   "metadata": {},
   "outputs": [
    {
     "data": {
      "text/plain": [
       "49"
      ]
     },
     "execution_count": 109,
     "metadata": {},
     "output_type": "execute_result"
    }
   ],
   "source": [
    "index.ntotal"
   ]
  },
  {
   "cell_type": "code",
   "execution_count": 111,
   "metadata": {},
   "outputs": [],
   "source": [
    "faiss.write_index(index, 'faiss_ivf_flat_49smaple.index')"
   ]
  },
  {
   "cell_type": "code",
   "execution_count": 92,
   "metadata": {},
   "outputs": [
    {
     "data": {
      "text/plain": [
       "<faiss.swigfaiss.IndexIVFFlat; proxy of <Swig Object of type 'faiss::IndexIVFFlat *' at 0x00000158237669D0> >"
      ]
     },
     "execution_count": 92,
     "metadata": {},
     "output_type": "execute_result"
    }
   ],
   "source": [
    "index"
   ]
  },
  {
   "cell_type": "code",
   "execution_count": null,
   "metadata": {},
   "outputs": [],
   "source": []
  },
  {
   "cell_type": "code",
   "execution_count": null,
   "metadata": {},
   "outputs": [],
   "source": []
  },
  {
   "cell_type": "code",
   "execution_count": 59,
   "metadata": {},
   "outputs": [],
   "source": [
    "index.make_direct_map()"
   ]
  },
  {
   "cell_type": "code",
   "execution_count": 60,
   "metadata": {},
   "outputs": [
    {
     "data": {
      "text/plain": [
       "array([-8.78920615e-01, -2.00320914e-01,  1.40066326e+00,  2.97812045e-01,\n",
       "        3.09739202e-01, -1.55532587e+00, -3.48271608e-01,  8.42093349e-01,\n",
       "        1.80964787e-02, -5.28232932e-01,  1.53625697e-01, -1.03137028e+00,\n",
       "        6.27384543e-01,  6.38164759e-01,  5.53533792e-01,  2.58873969e-01,\n",
       "        4.32349384e-01, -7.66282494e-04, -2.73170352e-01, -3.16207111e-01,\n",
       "       -1.39588520e-01, -5.90525687e-01,  3.50245565e-01, -2.46372178e-01,\n",
       "        6.55929983e-01,  4.47966993e-01, -1.46524861e-01, -6.10144623e-02,\n",
       "       -1.63685605e-01,  8.85207713e-01, -6.51448011e-01,  1.51749153e-03,\n",
       "       -5.63357532e-01, -6.78787172e-01, -3.55585605e-01,  7.90808201e-01,\n",
       "       -6.46325827e-01, -5.00222564e-01, -2.29379803e-01, -4.74935621e-01,\n",
       "       -3.06465060e-01, -5.98730862e-01,  2.16626540e-01, -6.50354624e-01,\n",
       "       -1.21138883e+00, -1.76948711e-01, -1.50169408e+00,  3.74099016e-01,\n",
       "        1.20717740e+00, -6.83748484e-01,  1.92435473e-01,  7.49636352e-01,\n",
       "       -1.28873125e-01,  1.02812173e-02, -7.63520956e-01,  5.85736632e-01,\n",
       "        1.82738408e-01,  4.32079315e-01, -1.24038243e+00, -4.57421184e-01,\n",
       "        5.46328872e-02,  3.28188121e-01, -9.59694326e-01, -4.32810605e-01,\n",
       "        3.88572551e-02, -2.35661566e-01,  8.19862783e-01,  4.25581634e-01,\n",
       "       -1.10428286e+00, -7.96174109e-01,  8.73482451e-02,  2.11958930e-01,\n",
       "       -7.52140522e-01, -6.82109222e-02,  1.52645648e-01, -7.24117696e-01,\n",
       "       -2.92168051e-01,  2.08497629e-01,  6.75804198e-01,  9.49517369e-01,\n",
       "       -9.99178365e-02, -1.85585171e-01,  9.24791396e-01,  2.32849583e-01,\n",
       "        3.86492163e-02, -6.89118624e-01,  4.73181382e-02, -1.16023040e+00,\n",
       "       -3.86873484e-01,  2.12559655e-01,  9.80935156e-01, -6.92947030e-01,\n",
       "        7.43719697e-01, -4.67050374e-01, -3.86912376e-01, -1.31036863e-01,\n",
       "        9.61741135e-02, -2.88814604e-01, -1.21284699e+00, -7.47835040e-02,\n",
       "        2.11469322e-01, -1.81307122e-01, -8.98318887e-01,  1.12014377e+00,\n",
       "       -3.84106547e-01,  7.95027196e-01, -3.21304083e-01, -1.09244823e+00,\n",
       "        1.48155081e+00,  6.50653895e-03,  9.79279578e-01, -4.43512201e-01,\n",
       "       -3.77576381e-01,  2.27787018e-01, -7.80034140e-02, -8.73353899e-01,\n",
       "        1.05688713e-01,  1.04487729e+00,  5.93183577e-01, -3.48323077e-01,\n",
       "        3.50730568e-01, -7.52297461e-01,  3.55611980e-01, -3.07323188e-01,\n",
       "       -2.10146576e-01, -2.19587997e-01,  9.03670043e-02,  9.33588266e-01,\n",
       "       -1.11306345e+00, -2.10366413e-01, -8.66645157e-01,  4.03141201e-01,\n",
       "        1.16526522e-01, -3.85867834e-01,  2.51912504e-01,  5.92735648e-01,\n",
       "       -1.53090313e-01, -7.28262722e-01, -6.27355456e-01, -3.82919133e-01,\n",
       "        3.09166852e-02,  9.04396176e-02,  1.05219811e-01,  4.44868319e-02,\n",
       "       -2.11877435e-01, -4.01592702e-01,  1.00269496e+00, -2.11305380e+00,\n",
       "        2.15436108e-02, -7.07879364e-02,  6.59088492e-01, -2.19027266e-01,\n",
       "       -1.00654721e+00, -1.03469819e-01, -6.66039959e-02,  4.38103467e-01,\n",
       "       -1.22579765e+00, -9.03160125e-02, -1.30419254e-01,  1.38444856e-01,\n",
       "        1.14428148e-01,  9.09155160e-02,  1.44962266e-01,  1.01613116e+00,\n",
       "       -6.74824119e-01, -5.87684028e-02,  8.72572303e-01,  3.87578964e-01,\n",
       "        2.54693151e-01, -6.73385561e-01,  1.29298225e-01,  1.42591655e+00,\n",
       "        2.57537961e+00,  7.51517475e-01,  1.11293316e+00, -1.84594244e-01,\n",
       "        1.13476789e+00, -8.21670711e-01, -6.95854187e-01, -1.94669396e-01,\n",
       "        4.05568689e-01, -9.67633605e-01, -3.52932900e-01,  1.68225431e+00,\n",
       "        8.54168296e-01, -6.13262534e-01,  8.20454121e-01,  2.43406609e-01,\n",
       "        1.15993746e-01, -3.90157938e-01, -3.60277712e-01,  3.73020798e-01,\n",
       "       -5.02674520e-01, -1.32015213e-01, -7.08223403e-01, -6.76026344e-02,\n",
       "        6.48250759e-01,  4.11307245e-01,  5.71189463e-01, -1.11118920e-01,\n",
       "       -3.71281624e-01,  3.28209043e-01, -2.22453222e-01, -2.51313061e-01,\n",
       "       -3.14948447e-02,  2.48286456e-01,  4.00306284e-02, -6.16174564e-02,\n",
       "       -1.13381994e+00,  1.43343255e-01, -3.90018553e-01,  6.60316274e-02,\n",
       "        7.64443099e-01, -3.59842539e-01, -1.34810373e-01, -3.92063141e-01,\n",
       "       -4.60021466e-01,  2.89593209e-02, -4.00028259e-01, -3.84658247e-01,\n",
       "        5.45961559e-01,  3.33278269e-01, -3.67495298e-01,  1.63952440e-01,\n",
       "       -3.10802739e-02,  2.67697096e-01, -5.46816111e-01, -1.91375983e+00,\n",
       "       -1.90238953e-01, -5.67443609e-01,  7.36780390e-02, -8.04805011e-02,\n",
       "       -4.41390336e-01, -2.48611405e-01,  9.03867066e-01,  1.72448501e-01,\n",
       "       -1.40519559e+00,  7.75336385e-01,  5.77438831e-01, -8.38762701e-01,\n",
       "        4.86198604e-01,  6.61210775e-01,  3.91909301e-01,  4.44657430e-02,\n",
       "        1.38457209e-01, -1.29165336e-01,  4.63898778e-01, -4.35056895e-01,\n",
       "       -4.82892871e-01, -6.95563182e-02, -1.81718826e-01,  3.29591930e-01,\n",
       "       -6.82263672e-01, -7.32629955e-01, -8.62370133e-01,  3.55162084e-01,\n",
       "       -6.11708462e-02,  7.35452414e-01, -4.89124469e-02,  4.30187970e-01,\n",
       "        5.12999773e-01, -4.47134793e-01,  4.76289541e-01,  1.10062611e+00,\n",
       "       -2.11750969e-01, -3.90865982e-01, -5.64823508e-01,  1.01033077e-01,\n",
       "       -3.94147694e-01,  2.06427187e-01, -2.91466832e-01,  1.70216277e-01,\n",
       "       -3.17963451e-01,  1.10352635e+00, -2.38881055e-02, -6.69767082e-01,\n",
       "       -1.16311336e+00, -1.13820784e-01,  6.72189534e-01,  2.09897771e-01,\n",
       "       -5.52736260e-02,  7.28210509e-01,  7.22490847e-02, -6.63125634e-01,\n",
       "       -4.33055907e-01,  4.09602195e-01, -6.20518744e-01,  8.30123544e-01,\n",
       "        6.82712495e-01, -5.73106945e-01,  5.24815619e-01, -6.82207823e-01,\n",
       "        5.96136928e-01, -7.09943831e-01, -1.72172859e-01, -1.98393121e-01,\n",
       "        8.56611848e-01, -4.92960811e-01,  9.93276536e-01,  4.72522169e-01,\n",
       "       -5.58004022e-01, -1.98681995e-01, -4.32902902e-01, -6.16859853e-01,\n",
       "        2.02163100e-01,  9.84625816e-02,  2.48887651e-02,  6.94791377e-01,\n",
       "        6.62161291e-01, -6.10536218e-01, -6.87179565e-01, -5.20768940e-01,\n",
       "        6.44927323e-01,  8.17511380e-01, -3.55363667e-01,  1.56299663e+00,\n",
       "       -1.91559255e-01, -1.01991475e+00, -1.28203407e-01, -5.14458299e-01,\n",
       "       -5.88522315e-01, -4.43445027e-01, -3.02270025e-01, -3.06576282e-01,\n",
       "        4.86587733e-01, -5.68473160e-01,  3.08563232e-01, -1.88749090e-01,\n",
       "       -1.00360656e+00,  2.38952097e-02,  1.06444156e+00, -1.16702683e-01,\n",
       "        5.69311142e-01,  1.27385664e+00, -2.55484998e-01, -7.06114292e-01,\n",
       "       -3.78378451e-01,  6.15729868e-01, -2.77833968e-01,  5.09777009e-01,\n",
       "        2.35425591e+00,  1.74486652e-01,  1.72027007e-01,  1.09638028e-01,\n",
       "        2.54890829e-01, -4.37753439e-01, -4.52182591e-01,  2.99875587e-01,\n",
       "       -8.80708873e-01, -3.85559589e-01,  1.97994113e-01, -3.47467005e-01,\n",
       "        2.19238162e+00, -1.16165686e+00,  1.25558838e-01,  1.41420329e+00,\n",
       "       -3.86201620e-01, -9.28781554e-02,  4.04285714e-02, -7.72970378e-01,\n",
       "       -3.38891655e-01, -4.24743950e-01,  5.22132032e-03, -5.35281360e-01,\n",
       "        1.29961371e-01,  5.20116687e-01, -8.44401300e-01, -1.27764416e+00,\n",
       "        1.11413207e-02, -7.72330999e-01,  4.59564954e-01,  1.28019834e+00,\n",
       "       -9.45042312e-01, -1.72633789e-02,  6.23288095e-01, -5.84985435e-01,\n",
       "       -1.05656266e+00,  1.01423216e+00,  1.41187519e-01,  4.35022533e-01,\n",
       "        2.25153878e-01, -4.14598376e-01,  2.42394969e-01,  5.01835167e-01,\n",
       "       -4.44710962e-02, -4.26867455e-01,  2.94985414e-01, -5.03232539e-01,\n",
       "        2.68440664e-01,  1.62063226e-01,  3.22417974e-01,  7.72515476e-01,\n",
       "       -1.75637469e-01, -1.04671046e-01,  5.82874715e-01, -3.04690987e-01,\n",
       "        2.09259450e-01,  7.20441416e-02,  3.95461500e-01, -3.45546216e-01,\n",
       "        2.86298573e-01,  2.06404731e-01,  1.05701555e-02, -6.52264655e-01,\n",
       "        6.59247413e-02,  2.93224186e-01,  7.94081092e-01, -5.82801461e-01,\n",
       "        9.26958490e-03, -1.92106053e-01, -5.48231959e-01, -3.34056079e-01,\n",
       "        1.80348128e-01,  5.96825719e-01, -3.80343020e-01, -2.90044695e-01,\n",
       "        5.58096349e-01,  2.77251065e-01, -9.42051947e-01,  9.61470723e-01,\n",
       "        6.01117918e-03, -7.82899857e-01,  4.53111440e-01, -6.38065696e-01,\n",
       "        6.74392045e-01, -2.75112897e-01,  3.46542805e-01, -1.00990161e-01,\n",
       "       -7.78421164e-01, -6.55871853e-02, -8.95201087e-01,  6.20815396e-01,\n",
       "       -1.51123440e+00,  1.22543681e+00,  1.12419415e+00, -3.75719100e-01,\n",
       "        1.11159968e+00, -8.98781419e-01, -7.84285963e-02, -4.53080505e-01,\n",
       "       -8.99361908e-01, -2.56866485e-01,  4.78810519e-01, -3.37041110e-01,\n",
       "       -9.64456737e-01, -1.11720704e-01,  1.86451823e-02, -6.37981296e-02,\n",
       "        4.68100756e-01,  6.47942245e-01,  4.62424845e-01, -4.02914584e-01,\n",
       "       -6.74033538e-02,  1.66454062e-01,  1.13568403e-01,  6.50301054e-02,\n",
       "       -5.83780229e-01,  5.67337215e-01, -1.14939785e+00,  6.45176023e-02,\n",
       "       -7.26223469e-01, -6.58091486e-01, -1.99030235e-01,  4.21748817e-01,\n",
       "        4.92833883e-01, -3.30567718e-01, -1.63809340e-02, -4.28932697e-01,\n",
       "       -4.54957545e-01, -5.32534957e-01, -1.41248465e-01,  9.06350277e-03,\n",
       "        8.55033636e-01,  1.02124274e+00,  7.67718196e-01, -1.79223001e-01,\n",
       "       -3.83694023e-01,  1.52048802e+00, -6.40191510e-02,  6.48352921e-01,\n",
       "       -3.45818847e-02, -8.32523584e-01, -4.85829383e-01,  4.86918241e-01,\n",
       "        2.09074140e-01,  8.02038610e-01, -2.97794253e-01,  1.19968355e-02,\n",
       "       -2.38438062e-02, -3.18104625e-01,  2.22978339e-01,  8.87221932e-01,\n",
       "       -2.37358883e-01, -7.58392513e-01, -2.62089849e-01, -4.55965281e-01,\n",
       "       -4.03272212e-01,  4.87709433e-01,  3.85722280e-01,  3.88303846e-01,\n",
       "       -3.11349690e-01,  1.58869743e-01,  1.92355543e-01, -6.96143508e-01,\n",
       "        4.64776345e-02, -6.54998869e-02,  2.95529932e-01,  9.67093259e-02,\n",
       "        3.38511467e-01,  2.97657937e-01, -1.83098260e-02, -2.11672783e-01,\n",
       "        8.65715206e-01,  1.85087323e-01, -1.79517400e-02,  2.81414807e-01,\n",
       "        6.46314025e-02, -8.99118006e-01, -6.23696923e-01, -2.13102940e-02,\n",
       "        4.27385494e-02, -3.08268160e-01,  1.00366211e+00, -2.58014888e-01,\n",
       "       -1.68211579e-01,  4.46312189e-01,  1.47433719e-02,  3.92480135e-01,\n",
       "       -2.29088575e-01, -4.17429358e-01, -1.76325336e-01, -9.84687805e-02,\n",
       "        1.25797674e-01, -4.01113957e-01, -2.62122452e-01,  5.72942972e-01,\n",
       "       -6.74386442e-01, -8.37538123e-01,  7.23283768e-01,  1.24847233e-01,\n",
       "        4.45239767e-02,  3.20523977e-01,  4.65817051e-03, -2.08130822e-01,\n",
       "       -7.21369207e-01, -4.23754454e-01,  2.28377298e-01, -2.66712368e-01,\n",
       "       -9.18190360e-01, -1.12362826e+00, -2.11733609e-01, -6.72706425e-01,\n",
       "        7.89831758e-01,  4.19664711e-01, -6.15999401e-01,  8.09873641e-01,\n",
       "       -4.37503070e-01, -5.60270846e-02,  1.56634618e-02,  7.63749003e-01,\n",
       "       -2.93557078e-01,  2.78985947e-01, -2.23765269e-01,  7.46857300e-02,\n",
       "        6.21097200e-02,  3.69068712e-01, -2.98439592e-01, -1.36877370e+00,\n",
       "       -4.48376149e-01,  7.30147302e-01, -8.23797137e-02,  4.71161753e-01,\n",
       "        8.78189862e-01,  2.10759223e-01,  3.98497889e-03, -5.92999101e-01,\n",
       "        6.73723400e-01, -8.39304179e-02,  2.01881215e-01,  2.51749516e-01,\n",
       "       -5.02733961e-02, -2.07718968e-01, -6.24179065e-01,  6.34072199e-02,\n",
       "       -4.40150678e-01,  3.75232071e-01,  4.32075888e-01,  1.60727239e+00,\n",
       "       -6.22481048e-01, -3.66893679e-01,  1.55691132e-01,  3.26723278e-01,\n",
       "        7.29731917e-01,  2.82629728e-01, -6.15108550e-01,  2.17564389e-01,\n",
       "        1.04249954e-01, -2.54019529e-01,  1.03524709e+00, -3.41128595e-02,\n",
       "        1.93164460e-02, -5.38429081e-01, -8.67321849e-01, -4.33279902e-01,\n",
       "       -2.07874924e-01,  2.71119058e-01, -1.24371154e-02,  7.19427526e-01,\n",
       "       -1.10732123e-01,  1.85606599e-01,  4.27593976e-01, -1.19520032e+00,\n",
       "       -1.23248659e-01, -3.89944077e-01,  1.98252469e-01, -1.88563332e-01,\n",
       "        7.08730519e-01, -4.63779867e-01, -1.12619668e-01,  1.87919736e-01,\n",
       "       -6.76574349e-01,  4.61529285e-01, -8.40785563e-01,  3.06608528e-01,\n",
       "        7.77167261e-01, -7.01282978e-01,  4.99676198e-01, -2.13371199e-02,\n",
       "       -6.75044596e-01, -5.16567469e-01, -1.91869244e-01,  4.16778237e-01,\n",
       "       -3.17889005e-01,  7.36906752e-03,  1.23442411e-01,  6.78259730e-01,\n",
       "       -2.30914652e-01,  5.02854697e-02,  2.77782381e-01, -1.54611180e-02,\n",
       "       -5.55525720e-01,  1.42931879e+00, -9.72584605e-01, -2.58169085e-01,\n",
       "       -1.94619432e-01,  2.18817666e-01, -1.07461512e+00,  4.23941582e-01,\n",
       "        1.26519144e+00,  1.00344133e+00,  2.34969720e-01,  1.00731099e+00,\n",
       "       -7.65295252e-02, -1.16438067e+00, -3.32959831e-01,  1.78267341e-02,\n",
       "        7.49909431e-02, -7.46433258e-01,  7.35007763e-01,  1.96528897e-01,\n",
       "       -8.05884320e-03,  2.59718865e-01,  9.34107304e-01, -1.33259716e-02,\n",
       "        5.30765891e-01,  4.58172932e-02, -1.37944564e-01,  7.44601727e-01,\n",
       "       -2.62495339e-01,  7.60798752e-02, -5.37343025e-02, -7.35034585e-01,\n",
       "        5.86349785e-01, -5.40694416e-01,  3.53299558e-01, -9.32917893e-02,\n",
       "       -1.00039554e+00,  1.74731851e-01,  8.72575819e-01, -8.67677271e-01,\n",
       "       -4.34765190e-01, -1.20802093e+00, -6.26343414e-02, -7.17401326e-01,\n",
       "        7.56684691e-02, -1.07118979e-01,  1.41235709e-01, -5.09894565e-02,\n",
       "       -2.42348880e-01,  6.31153703e-01, -7.30858669e-02,  6.74400508e-01,\n",
       "       -4.32001293e-01, -3.77114087e-01, -4.02712613e-01, -3.95467170e-02,\n",
       "       -2.85391390e-01,  4.55914736e-01,  2.39639115e+00,  2.75800973e-01,\n",
       "       -9.97494519e-01,  7.61295974e-01,  5.75568080e-01, -9.03387427e-01,\n",
       "       -5.07367812e-02,  1.33024752e-01, -8.05159211e-01,  5.89468837e-01,\n",
       "        7.46932579e-03, -1.33721888e+00,  2.08654389e-01,  5.53667128e-01,\n",
       "        2.42865145e-01,  2.45245457e-01,  5.99034607e-01,  1.23143820e-02,\n",
       "       -2.49131639e-02,  7.13183761e-01, -2.06170365e-01, -3.16938385e-02,\n",
       "        1.24205641e-01,  1.56988427e-01, -1.42675906e-01, -1.51899815e+00,\n",
       "        1.16203643e-01, -8.85005295e-01,  6.24703050e-01, -2.38649473e-01,\n",
       "       -6.29480183e-01, -1.53941885e-01, -1.03131607e-01, -5.64086258e-01,\n",
       "       -4.57455933e-01, -1.26252219e-01,  3.68629485e-01,  3.89156252e-01,\n",
       "        1.44392908e-01, -4.72364098e-01, -4.04506803e-01, -1.44480526e+00,\n",
       "       -1.39480114e-01, -6.63875163e-01, -1.00370276e+00,  2.69490957e-01,\n",
       "       -1.67703569e-01,  1.82301894e-01, -7.42560327e-01, -4.57203239e-02,\n",
       "       -3.17251176e-01,  2.45696753e-01,  1.40973717e-01, -3.24605227e-01,\n",
       "        1.34140819e-01,  1.19067812e+00, -1.78996682e-01,  1.01643300e+00,\n",
       "       -8.99686590e-02, -1.16000421e-01,  4.36052561e-01, -5.55914998e-01,\n",
       "       -4.83949989e-01, -5.92129469e-01,  2.75119871e-01, -5.26103079e-01,\n",
       "        1.49081247e-02, -1.28888845e-01,  5.16874373e-01,  5.05247891e-01],\n",
       "      dtype=float32)"
      ]
     },
     "execution_count": 60,
     "metadata": {},
     "output_type": "execute_result"
    }
   ],
   "source": [
    "index.reconstruct(1)"
   ]
  },
  {
   "cell_type": "code",
   "execution_count": 61,
   "metadata": {},
   "outputs": [
    {
     "data": {
      "text/plain": [
       "<bound method handle_Index.<locals>.replacement_update_vectors of <faiss.swigfaiss.IndexIVFFlat; proxy of <Swig Object of type 'faiss::IndexIVFFlat *' at 0x00000157AC2CB510> >>"
      ]
     },
     "execution_count": 61,
     "metadata": {},
     "output_type": "execute_result"
    }
   ],
   "source": [
    "index.update_vectors"
   ]
  },
  {
   "cell_type": "markdown",
   "metadata": {},
   "source": [
    "## Create a clustering"
   ]
  },
  {
   "cell_type": "code",
   "execution_count": 62,
   "metadata": {},
   "outputs": [
    {
     "data": {
      "text/plain": [
       "array([[-0.42515695, -0.17480928,  1.8467965 , ..., -0.39403406,\n",
       "         0.19126715, -0.1485463 ],\n",
       "       [-0.8789206 , -0.20032091,  1.4006633 , ..., -0.12888885,\n",
       "         0.5168744 ,  0.5052479 ],\n",
       "       [-0.9164636 ,  0.48573413,  0.835597  , ..., -0.9473189 ,\n",
       "         0.17077821, -0.06990491],\n",
       "       ...,\n",
       "       [-0.26745307,  0.6485193 ,  0.2524073 , ..., -0.49776572,\n",
       "        -0.55864733,  0.4125203 ],\n",
       "       [-0.6442572 ,  0.79322594,  0.65196157, ..., -0.8812224 ,\n",
       "        -0.950332  ,  0.47097167],\n",
       "       [-0.43729913,  0.41195127,  1.1190987 , ..., -0.98400164,\n",
       "        -0.17112163, -0.13521804]], dtype=float32)"
      ]
     },
     "execution_count": 62,
     "metadata": {},
     "output_type": "execute_result"
    }
   ],
   "source": [
    "sentence_embeddings"
   ]
  },
  {
   "cell_type": "code",
   "execution_count": 63,
   "metadata": {},
   "outputs": [
    {
     "data": {
      "text/html": [
       "<div>\n",
       "<style scoped>\n",
       "    .dataframe tbody tr th:only-of-type {\n",
       "        vertical-align: middle;\n",
       "    }\n",
       "\n",
       "    .dataframe tbody tr th {\n",
       "        vertical-align: top;\n",
       "    }\n",
       "\n",
       "    .dataframe thead th {\n",
       "        text-align: right;\n",
       "    }\n",
       "</style>\n",
       "<table border=\"1\" class=\"dataframe\">\n",
       "  <thead>\n",
       "    <tr style=\"text-align: right;\">\n",
       "      <th></th>\n",
       "      <th>index</th>\n",
       "      <th>Topic</th>\n",
       "      <th>Sentence</th>\n",
       "      <th>embedding</th>\n",
       "    </tr>\n",
       "  </thead>\n",
       "  <tbody>\n",
       "    <tr>\n",
       "      <th>0</th>\n",
       "      <td>0</td>\n",
       "      <td>Soccer World Cup 2020</td>\n",
       "      <td>The 2020 FIFA World Cup, a globally anticipated event, brought together nations from around the world.</td>\n",
       "      <td>[-0.42515686, -0.17480914, 1.8467963, 0.15087691, -0.009726069, -1.5424263, -0.6151803, 0.14795646, 0.2542171, -1.0142606, 0.27748397, -0.29301974, 0.15616056, 1.4512328, 1.20133, 0.12567022, 0.04...</td>\n",
       "    </tr>\n",
       "    <tr>\n",
       "      <th>1</th>\n",
       "      <td>1</td>\n",
       "      <td>Soccer World Cup 2020</td>\n",
       "      <td>Hosted in multiple cities, the 2020 Soccer World Cup was a month-long celebration of the beautiful game.</td>\n",
       "      <td>[-0.87892085, -0.20032081, 1.4006628, 0.29781196, 0.30973944, -1.5553259, -0.3482714, 0.84209317, 0.018096512, -0.5282332, 0.15362588, -1.0313705, 0.62738407, 0.63816476, 0.55353403, 0.25887442, 0...</td>\n",
       "    </tr>\n",
       "    <tr>\n",
       "      <th>2</th>\n",
       "      <td>2</td>\n",
       "      <td>Soccer World Cup 2020</td>\n",
       "      <td>It featured the world's top soccer teams, each vying for the coveted championship title in the Soccer World Cup.</td>\n",
       "      <td>[-0.9164636, 0.485734, 0.835597, 0.25221008, -0.4458836, -1.3331833, 0.011776918, 0.1932823, 0.32765415, -0.14176689, 0.96953464, -1.0926019, 0.79956025, 1.0075784, 0.4447724, 0.354306, 0.48823276...</td>\n",
       "    </tr>\n",
       "  </tbody>\n",
       "</table>\n",
       "</div>"
      ],
      "text/plain": [
       "   index                  Topic  \\\n",
       "0      0  Soccer World Cup 2020   \n",
       "1      1  Soccer World Cup 2020   \n",
       "2      2  Soccer World Cup 2020   \n",
       "\n",
       "                                                                                                           Sentence  \\\n",
       "0            The 2020 FIFA World Cup, a globally anticipated event, brought together nations from around the world.   \n",
       "1          Hosted in multiple cities, the 2020 Soccer World Cup was a month-long celebration of the beautiful game.   \n",
       "2  It featured the world's top soccer teams, each vying for the coveted championship title in the Soccer World Cup.   \n",
       "\n",
       "                                                                                                                                                                                                 embedding  \n",
       "0  [-0.42515686, -0.17480914, 1.8467963, 0.15087691, -0.009726069, -1.5424263, -0.6151803, 0.14795646, 0.2542171, -1.0142606, 0.27748397, -0.29301974, 0.15616056, 1.4512328, 1.20133, 0.12567022, 0.04...  \n",
       "1  [-0.87892085, -0.20032081, 1.4006628, 0.29781196, 0.30973944, -1.5553259, -0.3482714, 0.84209317, 0.018096512, -0.5282332, 0.15362588, -1.0313705, 0.62738407, 0.63816476, 0.55353403, 0.25887442, 0...  \n",
       "2  [-0.9164636, 0.485734, 0.835597, 0.25221008, -0.4458836, -1.3331833, 0.011776918, 0.1932823, 0.32765415, -0.14176689, 0.96953464, -1.0926019, 0.79956025, 1.0075784, 0.4447724, 0.354306, 0.48823276...  "
      ]
     },
     "execution_count": 63,
     "metadata": {},
     "output_type": "execute_result"
    }
   ],
   "source": [
    "df.head(3)"
   ]
  },
  {
   "cell_type": "code",
   "execution_count": 64,
   "metadata": {},
   "outputs": [
    {
     "name": "stderr",
     "output_type": "stream",
     "text": [
      "c:\\Users\\kbdhu\\anaconda3\\envs\\langchain\\lib\\site-packages\\sklearn\\cluster\\_kmeans.py:1412: FutureWarning: The default value of `n_init` will change from 10 to 'auto' in 1.4. Set the value of `n_init` explicitly to suppress the warning\n",
      "  super()._check_params_vs_input(X, default_n_init=10)\n"
     ]
    }
   ],
   "source": [
    "matrix = np.vstack(df.embedding.values)\n",
    "\n",
    "from sklearn.cluster import KMeans\n",
    "km_model = KMeans(n_clusters = 5, init ='k-means++', random_state = 42)\n",
    "y = km_model.fit_predict(matrix)\n",
    "df['Cluster']=y"
   ]
  },
  {
   "cell_type": "code",
   "execution_count": 68,
   "metadata": {},
   "outputs": [
    {
     "data": {
      "text/html": [
       "<div>\n",
       "<style scoped>\n",
       "    .dataframe tbody tr th:only-of-type {\n",
       "        vertical-align: middle;\n",
       "    }\n",
       "\n",
       "    .dataframe tbody tr th {\n",
       "        vertical-align: top;\n",
       "    }\n",
       "\n",
       "    .dataframe thead th {\n",
       "        text-align: right;\n",
       "    }\n",
       "</style>\n",
       "<table border=\"1\" class=\"dataframe\">\n",
       "  <thead>\n",
       "    <tr style=\"text-align: right;\">\n",
       "      <th></th>\n",
       "      <th>index</th>\n",
       "      <th>Topic</th>\n",
       "      <th>Sentence</th>\n",
       "      <th>embedding</th>\n",
       "      <th>Cluster</th>\n",
       "    </tr>\n",
       "  </thead>\n",
       "  <tbody>\n",
       "    <tr>\n",
       "      <th>0</th>\n",
       "      <td>0</td>\n",
       "      <td>Soccer World Cup 2020</td>\n",
       "      <td>The 2020 FIFA World Cup, a globally anticipated event, brought together nations from around the world.</td>\n",
       "      <td>[-0.42515686, -0.17480914, 1.8467963, 0.15087691, -0.009726069, -1.5424263, -0.6151803, 0.14795646, 0.2542171, -1.0142606, 0.27748397, -0.29301974, 0.15616056, 1.4512328, 1.20133, 0.12567022, 0.04...</td>\n",
       "      <td>0</td>\n",
       "    </tr>\n",
       "    <tr>\n",
       "      <th>1</th>\n",
       "      <td>1</td>\n",
       "      <td>Soccer World Cup 2020</td>\n",
       "      <td>Hosted in multiple cities, the 2020 Soccer World Cup was a month-long celebration of the beautiful game.</td>\n",
       "      <td>[-0.87892085, -0.20032081, 1.4006628, 0.29781196, 0.30973944, -1.5553259, -0.3482714, 0.84209317, 0.018096512, -0.5282332, 0.15362588, -1.0313705, 0.62738407, 0.63816476, 0.55353403, 0.25887442, 0...</td>\n",
       "      <td>0</td>\n",
       "    </tr>\n",
       "  </tbody>\n",
       "</table>\n",
       "</div>"
      ],
      "text/plain": [
       "   index                  Topic  \\\n",
       "0      0  Soccer World Cup 2020   \n",
       "1      1  Soccer World Cup 2020   \n",
       "\n",
       "                                                                                                   Sentence  \\\n",
       "0    The 2020 FIFA World Cup, a globally anticipated event, brought together nations from around the world.   \n",
       "1  Hosted in multiple cities, the 2020 Soccer World Cup was a month-long celebration of the beautiful game.   \n",
       "\n",
       "                                                                                                                                                                                                 embedding  \\\n",
       "0  [-0.42515686, -0.17480914, 1.8467963, 0.15087691, -0.009726069, -1.5424263, -0.6151803, 0.14795646, 0.2542171, -1.0142606, 0.27748397, -0.29301974, 0.15616056, 1.4512328, 1.20133, 0.12567022, 0.04...   \n",
       "1  [-0.87892085, -0.20032081, 1.4006628, 0.29781196, 0.30973944, -1.5553259, -0.3482714, 0.84209317, 0.018096512, -0.5282332, 0.15362588, -1.0313705, 0.62738407, 0.63816476, 0.55353403, 0.25887442, 0...   \n",
       "\n",
       "   Cluster  \n",
       "0        0  \n",
       "1        0  "
      ]
     },
     "execution_count": 68,
     "metadata": {},
     "output_type": "execute_result"
    }
   ],
   "source": [
    "df.head(2)"
   ]
  },
  {
   "cell_type": "code",
   "execution_count": 71,
   "metadata": {},
   "outputs": [],
   "source": [
    "#plt.rcParams['figure.figsize'] = (15, 8) \n",
    "\n",
    "tsne = TSNE(n_components=2, perplexity=15, random_state=42, init='random', learning_rate=200)\n",
    "vis_dims2 = tsne.fit_transform(matrix)\n",
    "\n",
    "x = [x for x,y in vis_dims2]\n",
    "y = [y for x,y in vis_dims2]\n",
    "\n",
    "palette = sns.color_palette(\"husl\", 5).as_hex()\n",
    "\n",
    "lst=[]\n",
    "for category, color in enumerate(palette):\n",
    "    xs = np.array(x)[df.Cluster==category]\n",
    "    ys = np.array(y)[df.Cluster==category]\n",
    "    #plt.scatter(xs, ys, color=color, alpha=0.3, s=50)\n",
    "\n",
    "    avg_x = xs.mean()\n",
    "    avg_y = ys.mean()\n",
    "\n",
    "    lst.append([avg_x, avg_y])\n",
    "    \n",
    "    #plt.scatter(avg_x, avg_y, marker='*', color='black', s=300)\n",
    "\n",
    "lst=np.array(lst)\n"
   ]
  },
  {
   "cell_type": "code",
   "execution_count": 74,
   "metadata": {},
   "outputs": [],
   "source": [
    "from scipy.spatial import Voronoi, voronoi_plot_2d\n"
   ]
  },
  {
   "cell_type": "code",
   "execution_count": 79,
   "metadata": {},
   "outputs": [
    {
     "data": {
      "text/plain": [
       "Text(0, 0.5, 'X2')"
      ]
     },
     "execution_count": 79,
     "metadata": {},
     "output_type": "execute_result"
    },
    {
     "data": {
      "image/png": "[encoded data removed]",
      "text/plain": [
       "<Figure size 1200x600 with 1 Axes>"
      ]
     },
     "metadata": {},
     "output_type": "display_data"
    }
   ],
   "source": [
    "vor = Voronoi(lst)\n",
    "\n",
    "# Plot Voronoi diagram\n",
    "voronoi_plot_2d(vor, show_vertices=False, show_points=False, line_colors='gray', line_width=1, line_alpha=0.5)\n",
    "\n",
    "palette = sns.color_palette(\"husl\", 5).as_hex()\n",
    "\n",
    "lst=[]\n",
    "for category, color in enumerate(palette):\n",
    "    xs = np.array(x)[df.Cluster==category]\n",
    "    ys = np.array(y)[df.Cluster==category]\n",
    "    plt.scatter(xs, ys, color=color, alpha=0.3, s=50)\n",
    "\n",
    "    avg_x = xs.mean()\n",
    "    avg_y = ys.mean()\n",
    "\n",
    "    lst.append([avg_x, avg_y])\n",
    "    \n",
    "    plt.scatter(avg_x, avg_y, marker='*', color='black', s=300)\n",
    "\n",
    "plt.xlim(-120,120)\n",
    "\n",
    "#plt.title(\"Reduced Dimension: Embeddings visualized using t-SNE\", size=17, fontweight=\"bold\")\n",
    "plt.xlabel('X1',size=13, fontweight=\"bold\")\n",
    "plt.ylabel('X2',size=13, fontweight=\"bold\")"
   ]
  },
  {
   "cell_type": "code",
   "execution_count": null,
   "metadata": {},
   "outputs": [],
   "source": []
  },
  {
   "cell_type": "code",
   "execution_count": 72,
   "metadata": {},
   "outputs": [
    {
     "data": {
      "text/plain": [
       "array([[   6.555936,  -81.40666 ],\n",
       "       [  26.628607,   43.57777 ],\n",
       "       [  66.75273 ,   91.81255 ],\n",
       "       [ -79.65934 , -102.71316 ],\n",
       "       [ -64.92116 ,  -22.059519]], dtype=float32)"
      ]
     },
     "execution_count": 72,
     "metadata": {},
     "output_type": "execute_result"
    }
   ],
   "source": [
    "lst"
   ]
  },
  {
   "cell_type": "code",
   "execution_count": null,
   "metadata": {},
   "outputs": [],
   "source": []
  },
  {
   "cell_type": "code",
   "execution_count": null,
   "metadata": {},
   "outputs": [],
   "source": []
  },
  {
   "cell_type": "code",
   "execution_count": 66,
   "metadata": {},
   "outputs": [
    {
     "data": {
      "text/html": [
       "<div>\n",
       "<style scoped>\n",
       "    .dataframe tbody tr th:only-of-type {\n",
       "        vertical-align: middle;\n",
       "    }\n",
       "\n",
       "    .dataframe tbody tr th {\n",
       "        vertical-align: top;\n",
       "    }\n",
       "\n",
       "    .dataframe thead th {\n",
       "        text-align: right;\n",
       "    }\n",
       "</style>\n",
       "<table border=\"1\" class=\"dataframe\">\n",
       "  <thead>\n",
       "    <tr style=\"text-align: right;\">\n",
       "      <th></th>\n",
       "      <th>index</th>\n",
       "      <th>Topic</th>\n",
       "      <th>Sentence</th>\n",
       "      <th>embedding</th>\n",
       "      <th>Cluster</th>\n",
       "    </tr>\n",
       "  </thead>\n",
       "  <tbody>\n",
       "    <tr>\n",
       "      <th>0</th>\n",
       "      <td>0</td>\n",
       "      <td>Soccer World Cup 2020</td>\n",
       "      <td>The 2020 FIFA World Cup, a globally anticipated event, brought together nations from around the world.</td>\n",
       "      <td>[-0.42515686, -0.17480914, 1.8467963, 0.15087691, -0.009726069, -1.5424263, -0.6151803, 0.14795646, 0.2542171, -1.0142606, 0.27748397, -0.29301974, 0.15616056, 1.4512328, 1.20133, 0.12567022, 0.04...</td>\n",
       "      <td>0</td>\n",
       "    </tr>\n",
       "    <tr>\n",
       "      <th>1</th>\n",
       "      <td>1</td>\n",
       "      <td>Soccer World Cup 2020</td>\n",
       "      <td>Hosted in multiple cities, the 2020 Soccer World Cup was a month-long celebration of the beautiful game.</td>\n",
       "      <td>[-0.87892085, -0.20032081, 1.4006628, 0.29781196, 0.30973944, -1.5553259, -0.3482714, 0.84209317, 0.018096512, -0.5282332, 0.15362588, -1.0313705, 0.62738407, 0.63816476, 0.55353403, 0.25887442, 0...</td>\n",
       "      <td>0</td>\n",
       "    </tr>\n",
       "  </tbody>\n",
       "</table>\n",
       "</div>"
      ],
      "text/plain": [
       "   index                  Topic  \\\n",
       "0      0  Soccer World Cup 2020   \n",
       "1      1  Soccer World Cup 2020   \n",
       "\n",
       "                                                                                                   Sentence  \\\n",
       "0    The 2020 FIFA World Cup, a globally anticipated event, brought together nations from around the world.   \n",
       "1  Hosted in multiple cities, the 2020 Soccer World Cup was a month-long celebration of the beautiful game.   \n",
       "\n",
       "                                                                                                                                                                                                 embedding  \\\n",
       "0  [-0.42515686, -0.17480914, 1.8467963, 0.15087691, -0.009726069, -1.5424263, -0.6151803, 0.14795646, 0.2542171, -1.0142606, 0.27748397, -0.29301974, 0.15616056, 1.4512328, 1.20133, 0.12567022, 0.04...   \n",
       "1  [-0.87892085, -0.20032081, 1.4006628, 0.29781196, 0.30973944, -1.5553259, -0.3482714, 0.84209317, 0.018096512, -0.5282332, 0.15362588, -1.0313705, 0.62738407, 0.63816476, 0.55353403, 0.25887442, 0...   \n",
       "\n",
       "   Cluster  \n",
       "0        0  \n",
       "1        0  "
      ]
     },
     "execution_count": 66,
     "metadata": {},
     "output_type": "execute_result"
    }
   ],
   "source": [
    "df.head(2)"
   ]
  },
  {
   "cell_type": "code",
   "execution_count": null,
   "metadata": {},
   "outputs": [],
   "source": [
    "#plt.rcParams['figure.figsize'] = (15, 8) \n",
    "# Create a Voronoi diagram\n",
    "vor = Voronoi(lst)\n",
    "\n",
    "# Plot Voronoi diagram\n",
    "voronoi_plot_2d(vor, show_vertices=False, show_points=False, line_colors='gray', line_width=1, line_alpha=0.5)\n",
    "\n",
    "\n",
    "\n",
    "palette = sns.color_palette(\"husl\", 5).as_hex()\n",
    "\n",
    "lst=[]\n",
    "for category, color in enumerate(palette):\n",
    "    xs = np.array(x)[df.Cluster==category]\n",
    "    ys = np.array(y)[df.Cluster==category]\n",
    "    plt.scatter(xs, ys, color=color, alpha=0.3, s=50)\n",
    "\n",
    "    avg_x = xs.mean()\n",
    "    avg_y = ys.mean()\n",
    "\n",
    "    lst.append([avg_x, avg_y])\n",
    "    \n",
    "    plt.scatter(avg_x, avg_y, marker='*', color='black', s=300)\n",
    "\n",
    "plt.xlim(-120,120)\n",
    "\n",
    "\n",
    "    "
   ]
  },
  {
   "cell_type": "code",
   "execution_count": null,
   "metadata": {},
   "outputs": [],
   "source": []
  },
  {
   "cell_type": "code",
   "execution_count": null,
   "metadata": {},
   "outputs": [],
   "source": []
  },
  {
   "cell_type": "code",
   "execution_count": null,
   "metadata": {},
   "outputs": [],
   "source": []
  },
  {
   "cell_type": "code",
   "execution_count": null,
   "metadata": {},
   "outputs": [],
   "source": []
  },
  {
   "cell_type": "code",
   "execution_count": null,
   "metadata": {},
   "outputs": [],
   "source": []
  },
  {
   "cell_type": "code",
   "execution_count": null,
   "metadata": {},
   "outputs": [],
   "source": []
  },
  {
   "cell_type": "code",
   "execution_count": null,
   "metadata": {},
   "outputs": [],
   "source": []
  },
  {
   "cell_type": "code",
   "execution_count": null,
   "metadata": {},
   "outputs": [],
   "source": []
  },
  {
   "cell_type": "code",
   "execution_count": null,
   "metadata": {},
   "outputs": [],
   "source": []
  },
  {
   "cell_type": "code",
   "execution_count": null,
   "metadata": {},
   "outputs": [],
   "source": []
  },
  {
   "cell_type": "code",
   "execution_count": 26,
   "metadata": {},
   "outputs": [],
   "source": [
    "from scipy.cluster.vq import kmeans2\n",
    "import numpy as np"
   ]
  },
  {
   "cell_type": "code",
   "execution_count": 31,
   "metadata": {},
   "outputs": [],
   "source": [
    "matrix = np.vstack(df.embedding.values)\n"
   ]
  },
  {
   "cell_type": "code",
   "execution_count": 32,
   "metadata": {},
   "outputs": [],
   "source": [
    "from sklearn.cluster import KMeans"
   ]
  },
  {
   "cell_type": "code",
   "execution_count": 33,
   "metadata": {},
   "outputs": [
    {
     "name": "stderr",
     "output_type": "stream",
     "text": [
      "c:\\Users\\kbdhu\\anaconda3\\envs\\langchain\\lib\\site-packages\\sklearn\\cluster\\_kmeans.py:1412: FutureWarning: The default value of `n_init` will change from 10 to 'auto' in 1.4. Set the value of `n_init` explicitly to suppress the warning\n",
      "  super()._check_params_vs_input(X, default_n_init=10)\n"
     ]
    }
   ],
   "source": [
    "km_model = KMeans(n_clusters = 5, init ='k-means++', random_state = 42)\n",
    "y = km_model.fit_predict(matrix)\n",
    "df['Cluster']=y"
   ]
  },
  {
   "cell_type": "code",
   "execution_count": 35,
   "metadata": {},
   "outputs": [
    {
     "data": {
      "text/plain": [
       "array([0, 2, 1, 4, 3])"
      ]
     },
     "execution_count": 35,
     "metadata": {},
     "output_type": "execute_result"
    }
   ],
   "source": [
    "df['Cluster'].unique()"
   ]
  },
  {
   "cell_type": "code",
   "execution_count": 40,
   "metadata": {},
   "outputs": [],
   "source": [
    "centroids = km_model.cluster_centers_\n",
    "cluster_lables=km_model.labels_"
   ]
  },
  {
   "cell_type": "code",
   "execution_count": 41,
   "metadata": {},
   "outputs": [
    {
     "data": {
      "text/plain": [
       "array([[-0.41817066,  0.13105027,  1.1183399 , ..., -0.28363967,\n",
       "         0.09699684,  0.20333867],\n",
       "       [-0.18692432,  0.26072162,  0.97205603, ...,  0.51830906,\n",
       "        -0.53757656,  0.03525034],\n",
       "       [-0.02437347,  0.2225582 ,  1.2443924 , ...,  0.24219632,\n",
       "        -0.8283535 ,  0.2883847 ],\n",
       "       [-0.47402304,  0.44249922,  0.913081  , ..., -0.6843335 ,\n",
       "        -0.7435417 , -0.04688117],\n",
       "       [-0.5432697 ,  0.57533014,  0.5941038 , ..., -0.5653111 ,\n",
       "        -0.36119413, -0.520774  ]], dtype=float32)"
      ]
     },
     "execution_count": 41,
     "metadata": {},
     "output_type": "execute_result"
    }
   ],
   "source": [
    "centroids"
   ]
  },
  {
   "cell_type": "code",
   "execution_count": 42,
   "metadata": {},
   "outputs": [
    {
     "data": {
      "text/plain": [
       "array([0, 0, 0, 0, 0, 0, 0, 0, 0, 0, 2, 2, 2, 2, 2, 2, 1, 2, 2, 2, 4, 4,\n",
       "       4, 4, 4, 4, 4, 4, 4, 1, 1, 1, 1, 1, 1, 1, 1, 1, 1, 3, 3, 3, 3, 3,\n",
       "       3, 3, 3, 3, 3])"
      ]
     },
     "execution_count": 42,
     "metadata": {},
     "output_type": "execute_result"
    }
   ],
   "source": [
    "cluster_lables"
   ]
  },
  {
   "cell_type": "code",
   "execution_count": 44,
   "metadata": {},
   "outputs": [
    {
     "name": "stdout",
     "output_type": "stream",
     "text": [
      "Cluster 0 Centroid: [-4.18170661e-01  1.31050274e-01  1.11833990e+00  5.76511770e-03\n",
      " -3.77405971e-01 -1.54999804e+00 -4.78265166e-01  1.70943469e-01\n",
      "  4.64320332e-01 -4.06400561e-01  7.79879570e-01 -6.73810065e-01\n",
      "  4.39269334e-01  9.83824849e-01  5.77717423e-01  2.92293668e-01\n",
      "  3.10103238e-01 -9.34894830e-02 -1.02232322e-01 -5.21647930e-02\n",
      " -4.37154353e-01 -6.30432427e-01  4.44840223e-01  2.62684286e-01\n",
      "  5.97150624e-01  6.40637279e-01 -2.42812932e-01 -1.23232603e-03\n",
      " -8.81475732e-02  8.76813531e-01 -3.52393627e-01 -2.54313707e-01\n",
      " -4.31921482e-01 -5.86851239e-01 -1.23344898e+00  3.94310534e-01\n",
      "  2.28988335e-01 -2.08539993e-01 -2.37918243e-01 -5.94864070e-01\n",
      " -8.09837222e-01 -3.17838520e-01  3.11210573e-01 -1.08033031e-01\n",
      " -5.49015880e-01 -3.65329742e-01 -1.39510703e+00  5.99575281e-01\n",
      "  6.13166451e-01 -3.16416711e-01  1.20753646e-01  5.13429821e-01\n",
      " -5.65159559e-01 -2.78084278e-01 -4.60709870e-01  4.39810812e-01\n",
      " -1.58710197e-01 -3.16892624e-01 -1.21885240e+00 -7.10301518e-01\n",
      " -2.65342772e-01  6.29271030e-01 -2.83552647e-01 -5.91980457e-01\n",
      "  2.21025079e-01 -2.07193643e-01  3.88034135e-01  1.49715513e-01\n",
      " -9.95334268e-01 -9.63123620e-01 -9.60348397e-02 -2.65263200e-01\n",
      " -5.68885684e-01 -1.23749137e-01  4.08112943e-01 -8.50315452e-01\n",
      "  1.00767061e-01  9.74834412e-02  9.88907456e-01  9.47577834e-01\n",
      " -1.07291043e-01 -2.10897386e-01  4.24929976e-01  3.50814223e-01\n",
      "  2.19186366e-01  1.76426455e-01  1.00614691e+00 -6.14909291e-01\n",
      "  1.09718263e-01  1.30903393e-01  6.21372640e-01 -7.00835705e-01\n",
      "  4.18649226e-01 -9.83041406e-01 -2.11368740e-01 -3.34389180e-01\n",
      "  6.54660463e-01 -8.45071793e-01 -1.12433767e+00 -1.30899355e-01\n",
      " -3.15062642e-01 -4.70321178e-01 -7.74225116e-01  1.60857767e-01\n",
      " -5.37615240e-01  4.69480217e-01 -3.81788373e-01 -8.53637278e-01\n",
      "  1.35920513e+00  7.64067173e-02  8.80332530e-01 -7.39653349e-01\n",
      " -5.31447649e-01 -2.98186600e-01 -3.68742853e-01 -3.63449872e-01\n",
      " -1.09645128e-01  8.96806002e-01  5.60800791e-01  2.20879555e-01\n",
      " -2.25318491e-01 -5.77285469e-01  5.56167960e-02 -2.39382222e-01\n",
      " -4.63038892e-01  1.62706971e-02  2.37346470e-01  1.08761549e+00\n",
      " -1.06822908e+00  6.39109984e-02 -5.85952878e-01  4.57454979e-01\n",
      "  7.61178851e-01 -7.75050521e-02  2.77480185e-01  6.93016827e-01\n",
      "  3.82051244e-02 -1.14000869e+00 -6.88204110e-01  2.39474311e-01\n",
      "  2.81223059e-02 -9.32344347e-02  5.13724923e-01 -5.11299610e-01\n",
      " -8.28993917e-02 -3.98827612e-01  3.52622151e-01 -7.77644396e-01\n",
      " -3.55135024e-01 -1.74294963e-01  3.47732037e-01 -3.79906505e-01\n",
      " -9.57125187e-01  1.24983296e-01  2.19758391e-01  8.31626058e-01\n",
      " -7.26257205e-01 -3.44759107e-01 -3.17840070e-01  3.29625547e-01\n",
      "  1.49424970e-01 -2.15383500e-01  7.29810297e-02  7.58359194e-01\n",
      " -4.78481650e-02 -2.11840898e-01  8.07003379e-01  3.29757214e-01\n",
      "  1.94483042e-01 -6.65232658e-01  6.93363547e-02  8.03848624e-01\n",
      "  1.70115077e+00  8.37823510e-01  1.25119042e+00 -1.78390250e-01\n",
      "  4.14156914e-01 -7.38906980e-01 -7.89563537e-01 -1.73082903e-01\n",
      "  1.67048395e-01 -8.85184884e-01 -9.46098804e-01  1.12477171e+00\n",
      "  3.52166414e-01 -5.15850425e-01  7.41053700e-01 -1.32957995e-02\n",
      "  3.53935361e-02 -4.53676790e-01 -2.12231219e-01  1.25758708e-01\n",
      " -6.29791498e-01 -2.39485607e-01  7.27167428e-02  1.82961561e-02\n",
      "  3.64582166e-02  5.84064841e-01  2.13030010e-01 -1.03153013e-01\n",
      " -1.88341662e-01  3.78075004e-01  8.97323936e-02 -9.71915051e-02\n",
      " -3.92305970e-01  2.05950335e-01  1.42318577e-01 -2.83079222e-03\n",
      " -8.25128019e-01 -2.76840776e-01 -3.65689933e-01  4.41319495e-01\n",
      "  4.08721805e-01 -3.40442061e-01 -2.59693861e-01 -5.58774590e-01\n",
      " -2.55976468e-01 -2.74042279e-01  5.56571066e-01 -3.98171484e-01\n",
      "  2.03324750e-01 -6.22754246e-02 -1.90012544e-01  3.62549037e-01\n",
      "  3.56701836e-02  5.47925830e-01 -5.82263350e-01 -8.53329420e-01\n",
      " -1.45936698e-01  5.90199351e-01  8.18979964e-02  3.34272444e-01\n",
      " -1.18885741e-01 -5.46837449e-01  3.87630910e-01 -5.71985543e-02\n",
      " -1.15144074e+00  5.91274261e-01  9.44140017e-01 -4.56061989e-01\n",
      "  7.45299339e-01  1.04595959e+00 -1.04980588e-01  2.44138330e-01\n",
      "  3.27308416e-01 -1.12357266e-01  5.71472347e-01 -2.17322737e-01\n",
      " -1.73388422e-02  2.50757366e-01 -3.37249756e-01  2.33473629e-01\n",
      " -6.84423089e-01 -4.45563912e-01 -3.02034020e-01  2.98830152e-01\n",
      " -1.94892615e-01  7.18835115e-01 -3.59957457e-01  1.55433640e-01\n",
      "  6.70243740e-01 -2.04206079e-01 -4.01275307e-01  1.18222332e+00\n",
      " -1.31598696e-01 -7.50109434e-01 -7.06135690e-01 -4.52788100e-02\n",
      "  1.01622716e-01  3.84244084e-01 -3.93275321e-01 -3.50299448e-01\n",
      " -4.41573381e-01  1.10623205e+00  1.40677750e-01 -3.56352270e-01\n",
      " -7.47139812e-01 -2.33053267e-02  8.02357554e-01  4.90760386e-01\n",
      " -2.18212277e-01  3.48178208e-01 -3.80628288e-01 -6.72640145e-01\n",
      " -4.45265621e-01  5.81603527e-01 -2.55629063e-01  4.50676173e-01\n",
      "  7.64113009e-01 -3.62815589e-01  2.82495975e-01 -9.66504216e-01\n",
      "  3.29798460e-01 -2.24606931e-01  3.28177184e-01 -4.97391462e-01\n",
      "  6.55615628e-01 -3.39494020e-01  9.23988163e-01 -7.81990588e-04\n",
      " -5.15999615e-01  8.15245733e-02 -7.47664034e-01 -8.32665980e-01\n",
      "  3.95700336e-01  3.34168851e-01  6.08182430e-01  5.57927787e-01\n",
      "  5.75588226e-01 -4.14939821e-02 -7.25458488e-02 -4.22039330e-01\n",
      "  3.17931056e-01  6.23408318e-01 -7.19996750e-01  9.51945066e-01\n",
      " -5.29587805e-01 -6.88658714e-01 -1.33369625e-01 -1.13866001e-01\n",
      " -5.94064653e-01 -4.96603996e-01 -8.99498314e-02  2.25239545e-01\n",
      "  3.21637243e-01 -6.45764291e-01 -1.56794816e-01  3.71386200e-01\n",
      " -4.08692151e-01 -6.29458576e-03  9.64021206e-01 -3.64976883e-01\n",
      "  6.87393785e-01  1.64092302e+00 -1.32506147e-01  1.57544523e-01\n",
      " -4.26701933e-01  5.80701828e-01  2.18534879e-02  3.47224504e-01\n",
      "  1.79984212e+00  3.45406681e-01 -3.06392312e-01 -8.35812986e-02\n",
      "  4.32715237e-01 -6.53269291e-01 -7.76983261e-01  3.40095639e-01\n",
      " -1.09583759e+00 -2.30449095e-01  7.24193513e-01 -5.02919137e-01\n",
      "  1.25398791e+00 -1.21030629e+00 -3.23366821e-02  1.25524247e+00\n",
      " -4.89331543e-01  1.80358529e-01  2.05188990e-03 -7.56780565e-01\n",
      "  9.52363759e-02 -2.17915908e-01 -1.50748715e-01 -4.64670777e-01\n",
      "  1.11398265e-01  1.00998998e-01 -8.37743402e-01 -6.04997873e-01\n",
      "  9.02079567e-02 -5.47322154e-01  2.92753518e-01  1.17851377e+00\n",
      " -2.51432508e-01 -3.11351240e-01  3.35901409e-01 -7.19722748e-01\n",
      " -1.18227625e+00  3.26004773e-01  1.07451364e-01  4.52161610e-01\n",
      " -1.98408246e-01 -3.06699783e-01  2.84019709e-01  2.54185766e-01\n",
      " -2.78871119e-01 -3.23681295e-01 -1.18938372e-01 -3.39539587e-01\n",
      "  3.01748663e-01  7.87079856e-02  3.01144093e-01  3.80755454e-01\n",
      "  1.36660337e-02 -7.29146153e-02  4.90141034e-01 -9.74995792e-02\n",
      "  3.03100735e-01  2.50203609e-01  4.88434136e-01 -5.06084144e-01\n",
      "  8.26492012e-02  2.25140303e-01  1.44040942e-01 -3.66383582e-01\n",
      "  3.05620760e-01  1.97738037e-01  7.56521821e-01 -2.52257288e-01\n",
      " -1.31108537e-01 -4.40395623e-03  1.96476936e-01 -1.43512160e-01\n",
      "  5.89374900e-01  8.49717259e-01 -2.67984658e-01 -5.04673347e-02\n",
      "  5.36140144e-01 -1.14373803e-01 -5.42817950e-01  7.80015767e-01\n",
      " -2.92386919e-01  7.45625198e-02  2.79286891e-01 -8.14949393e-01\n",
      "  4.58380044e-01 -2.64581710e-01  9.62447822e-01 -1.06529629e+00\n",
      " -5.96249163e-01  4.73836899e-01 -9.09270346e-01  6.88547730e-01\n",
      " -8.34320068e-01  1.05513203e+00  9.41187143e-01 -2.44772404e-01\n",
      "  9.86428499e-01 -7.07834661e-01  4.42523032e-01 -3.98269236e-01\n",
      " -7.73403943e-01 -2.05288157e-01  6.19641900e-01  1.08930148e-01\n",
      "  8.30631629e-02 -5.67133427e-01 -1.14776030e-01 -1.62721530e-01\n",
      " -9.29512084e-04  5.51065564e-01  3.02536368e-01 -4.72521871e-01\n",
      " -3.57137442e-01  6.77443668e-02 -1.11766607e-02  4.03854907e-01\n",
      " -3.68814409e-01  1.83298856e-01 -6.54787123e-01  1.53115511e-01\n",
      " -9.00270641e-01 -5.33785224e-01 -1.81746662e-01 -5.70384488e-02\n",
      "  3.77309889e-01  6.07343018e-03 -4.77728873e-01 -4.60258842e-01\n",
      "  1.77752316e-01 -5.65851390e-01 -8.28448012e-02  1.53123870e-01\n",
      "  3.43419820e-01  1.00236344e+00  9.36888933e-01 -5.59276164e-01\n",
      " -5.47562599e-01  8.16148043e-01  1.60006642e-01  3.44809175e-01\n",
      " -7.41864890e-02 -6.83495104e-01 -1.20472059e-01  2.36540139e-02\n",
      " -2.54644573e-01  4.37803537e-01  2.24854559e-01 -8.96840692e-02\n",
      "  1.67860821e-01 -4.34170216e-01  3.02609622e-01  1.11455095e+00\n",
      " -3.29422891e-01 -8.61187756e-01 -2.83174396e-01 -1.05186725e+00\n",
      " -7.09486723e-01  6.87013507e-01  4.35432613e-01  7.58779347e-01\n",
      " -2.82032043e-01 -2.45179795e-03  2.81452656e-01 -4.32950318e-01\n",
      " -5.27047515e-01 -8.28987509e-02  9.37566996e-01 -3.39250565e-02\n",
      "  3.59831154e-02  2.59570211e-01  1.81286782e-01 -1.49813965e-01\n",
      "  5.80938220e-01  9.32221055e-01 -1.46671623e-01  3.37216616e-01\n",
      " -2.74303257e-01 -5.95981956e-01 -6.05130196e-01  1.04448907e-01\n",
      " -2.06713766e-01 -2.31936276e-01  5.11586368e-01 -4.10727799e-01\n",
      " -1.21334776e-01  9.46965516e-01  1.58860415e-01  4.27167773e-01\n",
      "  7.95634091e-03  2.42294669e-01 -1.74469560e-01 -3.48083913e-01\n",
      "  1.08792245e-01 -2.83881754e-01 -6.52440488e-01  4.25661504e-01\n",
      " -5.08847237e-01 -3.71961206e-01  1.98125005e-01  6.12582937e-02\n",
      "  6.13586903e-01  3.08921874e-01  4.20989394e-02 -1.10014364e-01\n",
      " -5.76548219e-01  3.41377854e-02  6.54290736e-01 -3.30891401e-01\n",
      " -5.82574010e-01 -1.20507026e+00 -3.16535264e-01 -2.83687115e-01\n",
      "  1.14292789e+00  5.12046278e-01 -6.97116733e-01  6.41645074e-01\n",
      "  2.34839544e-01 -1.15994290e-01 -6.76415339e-02  1.05273938e+00\n",
      " -2.87778467e-01  6.75890148e-01 -5.02716482e-01 -3.16553831e-01\n",
      "  7.71035254e-02 -2.03837454e-01 -2.87024826e-02 -9.23257649e-01\n",
      " -7.71622062e-01  6.53715611e-01 -6.26763940e-01  2.43519485e-01\n",
      "  5.14490068e-01 -1.23983026e-01 -1.72678530e-01 -5.38332760e-01\n",
      " -6.11743703e-02 -5.65067530e-02  1.26593068e-01  4.50162292e-02\n",
      "  8.09694007e-02  5.70453741e-02 -2.81691670e-01 -5.00351489e-02\n",
      " -7.20911384e-01  5.54112315e-01 -2.07950532e-01  9.25826669e-01\n",
      " -4.96584833e-01 -7.76398659e-01  2.74603069e-01  1.04720891e-02\n",
      "  6.02572978e-01  4.64982152e-01 -2.40704864e-01  1.31289661e-01\n",
      " -2.52792954e-01 -2.67163545e-01  7.83600211e-01 -6.63830400e-01\n",
      "  3.30787539e-01 -1.07534051e+00 -5.42521238e-01 -2.87769467e-01\n",
      " -3.94213378e-01  1.69306487e-01  4.22226936e-02 -1.05967224e-02\n",
      " -8.52303207e-02  4.04389024e-01  5.78371525e-01 -8.56884003e-01\n",
      " -2.22004279e-01 -6.36132598e-01  9.28463414e-02 -2.98328608e-01\n",
      " -5.08561730e-03 -3.16766798e-01 -3.18612933e-01  2.62069821e-01\n",
      " -3.35214704e-01  1.87440023e-01 -6.13320470e-01  3.12537104e-01\n",
      "  1.83119103e-01 -3.22539151e-01  1.83319896e-01 -1.52254626e-01\n",
      " -3.72602671e-01 -7.42961884e-01  2.23694593e-01  5.30709736e-02\n",
      "  1.31476760e-01 -4.41020429e-01  2.47635454e-01  3.02084029e-01\n",
      " -5.66069007e-01  6.02287591e-01  3.67648900e-03  1.38923600e-01\n",
      " -1.04520583e+00  1.37970722e+00 -6.37535095e-01 -8.19969699e-02\n",
      " -2.70308733e-01  4.11807656e-01 -4.39403951e-01  2.47094363e-01\n",
      "  8.63099337e-01  6.00870311e-01  3.99441391e-01  9.19361591e-01\n",
      " -1.69160292e-01 -5.54102123e-01 -5.97019851e-01  2.14535654e-01\n",
      " -1.81286290e-01 -2.88505197e-01  8.24961543e-01  5.34952879e-01\n",
      " -9.19329226e-02  3.83815587e-01  3.51820409e-01  2.44853050e-02\n",
      "  4.98712182e-01 -5.11398971e-01 -2.07974166e-01  9.97446179e-01\n",
      " -2.28550211e-01  8.22891891e-02  1.74049005e-01 -7.49741018e-01\n",
      "  4.41051349e-02 -8.11930299e-02  3.93061370e-01 -3.00003380e-01\n",
      " -4.20437902e-01  2.38851503e-01  2.33267650e-01 -1.02176023e+00\n",
      " -9.23817903e-02 -8.55030179e-01  1.82928339e-01 -2.74375737e-01\n",
      "  1.30214870e-01  1.89332843e-01  2.78404772e-01  1.83721751e-01\n",
      " -1.16787851e-01  5.07852018e-01 -4.69427556e-02  3.61789286e-01\n",
      " -2.28601754e-01 -5.25413454e-01 -1.24834970e-01  2.18420893e-01\n",
      " -2.06787229e-01  2.01869950e-01  1.22229886e+00  2.07902268e-01\n",
      " -9.38676953e-01  7.42061377e-01  5.08441269e-01 -1.19574547e+00\n",
      "  7.64345825e-02  1.61470011e-01 -4.08085287e-01  1.50094718e-01\n",
      " -3.04551899e-01 -4.71433759e-01  4.70500886e-02  3.70003521e-01\n",
      "  5.17624199e-01 -1.40549093e-02  4.64078069e-01 -3.36605012e-02\n",
      "  8.95126164e-02  2.03636497e-01  1.06275454e-02 -3.79956186e-01\n",
      "  1.45477146e-01 -1.76387131e-02 -2.95411885e-01 -1.29518890e+00\n",
      "  1.70302793e-01 -3.49133581e-01  6.16827726e-01 -2.03147396e-01\n",
      " -5.44182062e-01 -2.80705333e-01  4.31198478e-01 -3.12466800e-01\n",
      " -8.04868937e-01  2.60819435e-01  2.64121830e-01  6.13360524e-01\n",
      " -1.50356442e-01 -1.85310394e-01 -2.03572094e-01 -9.51117516e-01\n",
      " -8.54222924e-02 -5.43007791e-01 -9.76060092e-01 -3.38474691e-01\n",
      " -2.73806572e-01 -1.29657462e-02 -8.61480236e-01 -1.79168135e-01\n",
      " -1.00191869e-02  3.42304379e-01  5.28015137e-01 -2.29425192e-01\n",
      "  4.59427349e-02  7.88421810e-01 -9.15128440e-02  9.01835442e-01\n",
      " -1.18781686e-01 -2.14374915e-01  3.16831023e-01 -7.01813042e-01\n",
      " -4.18870330e-01 -1.04946995e+00  3.44343573e-01 -5.01447439e-01\n",
      " -2.11550683e-01 -2.83639669e-01  9.69968438e-02  2.03338668e-01]\n",
      "Cluster 1 Centroid: [-1.86924323e-01  2.60721624e-01  9.72056031e-01  5.55280484e-02\n",
      " -7.66684115e-03 -4.04235244e-01 -4.19747561e-01 -5.58417320e-01\n",
      "  5.49971819e-01 -6.85772419e-01 -3.41011167e-01  3.41737300e-01\n",
      "  1.55779779e-01  5.85761189e-01 -3.76705825e-01 -1.33486614e-02\n",
      "  6.26635551e-01 -4.53761041e-01  1.30802169e-01 -4.00527418e-02\n",
      " -7.73459315e-01 -6.86827064e-01 -8.05793166e-01 -1.32512718e-01\n",
      "  7.04627633e-02  7.60520220e-01  1.04522049e-01  1.01634431e+00\n",
      " -1.68848872e-01  4.43994015e-01  1.28515258e-01  7.91221410e-02\n",
      "  2.43222594e-01 -7.61418521e-01  2.75668979e-01  4.45412815e-01\n",
      "  4.22849298e-01  2.46288002e-01 -2.65344948e-01 -4.48681921e-01\n",
      "  1.13428235e-02 -6.72473431e-01  7.06439018e-01 -1.08318672e-01\n",
      " -1.00435603e+00 -5.68304718e-01 -8.28549802e-01  4.66561139e-01\n",
      "  9.61348891e-01 -4.22074109e-01  7.32685030e-01 -2.59603858e-01\n",
      " -1.92154020e-01 -1.06472954e-01 -2.35926896e-01  8.77465606e-01\n",
      " -3.42381299e-01 -1.08358586e+00  3.12667966e-01 -2.40149647e-01\n",
      " -3.33564848e-01  2.64913917e-01  6.03034258e-01  3.77365440e-01\n",
      " -1.09764040e+00  8.00340652e-01  5.68821311e-01 -3.15118313e-01\n",
      "  2.34877139e-01 -3.45945656e-02  2.98946470e-01 -4.28204596e-01\n",
      " -3.41221631e-01 -2.31729120e-01 -6.10731661e-01 -1.52170956e-02\n",
      " -2.20382661e-02 -8.91871452e-02  1.13470018e+00  9.38942909e-01\n",
      "  1.30609810e-01  4.60542738e-01  3.96835357e-02 -1.71617299e-01\n",
      "  2.71008044e-01  2.18099415e-01  5.72970986e-01 -2.17695773e-01\n",
      " -2.31959164e-01  2.07260147e-01  8.43263030e-01 -5.13702929e-01\n",
      "  1.04323864e+00 -5.11481166e-01 -4.31568980e-01 -5.85769266e-02\n",
      "  2.38236755e-01 -2.41855204e-01 -3.54186088e-01  3.51120144e-01\n",
      " -7.59649932e-01  4.38605130e-01 -7.13008583e-01 -2.67854601e-01\n",
      " -3.54248255e-01  1.78583354e-01  4.61872593e-02 -6.49236798e-01\n",
      " -7.91428924e-01  3.31215441e-01  1.55354068e-01 -4.00123686e-01\n",
      "  2.09208250e-01  3.45927119e-01 -8.76876593e-01  3.67336661e-01\n",
      " -7.73833930e-01  4.16685164e-01 -1.38466060e-01  4.96409059e-01\n",
      " -2.40080073e-01 -4.40142751e-01 -4.32126164e-01  3.55774105e-01\n",
      " -8.05343986e-02 -1.03732967e+00 -3.83972347e-01  9.22364235e-01\n",
      " -3.13647926e-01  3.54621738e-01  1.94498718e-01  5.32198131e-01\n",
      "  5.06952822e-01 -4.23314095e-01  2.85812765e-01  9.47473943e-01\n",
      "  1.37177572e-01 -9.78486478e-01 -5.34065843e-01  6.22437477e-01\n",
      " -1.65602431e-01 -2.13271022e-01  9.88472342e-01 -5.02704024e-01\n",
      " -1.68849409e-01 -6.23299479e-01  7.07814455e-01  1.00442350e-01\n",
      " -3.00137639e-01 -2.09594607e-01  1.75340191e-01 -6.85788542e-02\n",
      " -5.22000551e-01 -2.33808339e-01  2.99546301e-01 -1.26193538e-01\n",
      " -1.36961603e+00 -1.87551230e-01  6.56056777e-02  1.36155173e-01\n",
      "  1.50315464e-03  7.32973516e-01 -9.49418426e-01  8.64305198e-02\n",
      " -2.21639454e-01 -8.33095968e-01 -4.85025048e-02  2.77965337e-01\n",
      " -8.78956258e-01  7.04848647e-01  1.00261211e+00  5.41947663e-01\n",
      "  2.54368752e-01  4.82594460e-01  4.93703783e-01 -6.64228082e-01\n",
      "  5.82545251e-02 -5.40229201e-01 -2.20613047e-01 -5.30013442e-01\n",
      "  5.90348721e-01 -3.90097320e-01 -4.99590188e-01 -7.93464780e-02\n",
      "  6.99513495e-01 -9.02122378e-01  2.84679651e-01 -3.79947513e-01\n",
      "  5.05538583e-01 -8.34698319e-01 -5.69265932e-02 -2.94681728e-01\n",
      "  1.96969613e-01 -4.63875800e-01  2.73973793e-02 -5.82566895e-02\n",
      "  9.43349972e-02  7.40514696e-01 -4.66865212e-01 -7.98283339e-01\n",
      " -4.11639571e-01 -6.63255006e-02 -1.71644956e-01  2.84249753e-01\n",
      " -5.12993991e-01  4.04082835e-02 -2.31315941e-02 -2.20458165e-01\n",
      " -1.20906484e+00 -4.48543817e-01 -8.53765681e-02  8.08764517e-01\n",
      "  3.82278800e-01 -9.34760645e-02  2.84606945e-02 -1.59275681e-01\n",
      "  2.72081733e-01 -1.77827194e-01  9.81441289e-02 -4.36663032e-01\n",
      "  3.52339625e-01  1.08079091e-02  1.89461961e-01  8.94634843e-01\n",
      "  1.38544679e-01  3.46105933e-01  2.51228034e-01 -4.83841270e-01\n",
      " -3.96286905e-01  8.19945812e-01 -4.88770396e-01 -5.13765335e-01\n",
      " -1.33750886e-01 -2.91755855e-01  1.64453700e-01  4.40775275e-01\n",
      "  4.44252461e-01  2.07469925e-01  1.23812795e+00 -6.92703128e-02\n",
      "  2.17429802e-01  5.76312900e-01 -2.94759989e-01 -7.15434909e-01\n",
      " -2.31069535e-01 -2.88751572e-02  4.34142351e-03  1.81357846e-01\n",
      " -5.75898647e-01 -1.30316094e-01 -5.88494420e-01 -5.12492776e-01\n",
      "  4.86905307e-01  2.83237755e-01  5.42374074e-01 -4.78943527e-01\n",
      " -6.98672235e-01 -2.85632759e-01 -7.50667989e-01 -5.93660548e-02\n",
      "  1.51164502e-01 -1.42135471e-03 -8.61175418e-01 -7.96000063e-01\n",
      " -2.04623908e-01 -7.84732103e-02 -3.14363807e-01 -6.54615462e-02\n",
      "  1.71237528e-01  5.33732295e-01 -2.62906790e-01  9.42808390e-02\n",
      " -4.36287224e-01  4.00281280e-01  9.77142155e-03 -4.55043107e-01\n",
      "  6.56184256e-01 -4.87546325e-01  8.02696466e-01 -7.09961116e-01\n",
      " -1.71409443e-01 -2.51320511e-01 -6.36366367e-01  4.79603186e-02\n",
      "  1.31761655e-01  1.58692911e-01  2.80956507e-01 -3.92619103e-01\n",
      " -2.73198128e-01 -4.50019062e-01 -3.93180102e-02 -3.19466591e-02\n",
      " -2.53513098e-01 -6.71763778e-01  4.80896950e-01  4.88600969e-01\n",
      "  1.07063913e+00 -1.82513490e-01  3.37336659e-02 -2.52956986e-01\n",
      " -5.15668988e-01 -1.33820325e-01  8.69058967e-02 -3.46218646e-02\n",
      "  4.28447425e-01  4.68440354e-03  4.94030982e-01 -3.34992290e-01\n",
      "  2.45152488e-01 -3.20458025e-01 -3.69280279e-02 -1.65149570e-03\n",
      " -3.08518887e-01  9.22419608e-01  6.65434182e-01 -2.14816123e-01\n",
      " -7.68857181e-01  1.59679496e+00 -1.09428585e-01 -3.33865523e-01\n",
      "  5.78301251e-01 -8.32289644e-03  7.61366129e-01  1.86071500e-01\n",
      "  5.50164819e-01 -8.14351588e-02 -4.23747778e-01  4.61329281e-01\n",
      "  1.08119756e-01  1.30960956e-01  9.18133259e-01  2.78619856e-01\n",
      "  1.22968912e-01  6.48706853e-01 -2.90414333e-01  4.24047470e-01\n",
      " -1.16494691e+00  2.34203190e-02 -3.68757188e-01  4.26380575e-01\n",
      "  4.01999533e-01  1.46922052e-01  7.77990341e-01  1.28127575e-01\n",
      "  8.18415284e-01 -1.44463614e-01 -1.67307988e-01  1.12101123e-01\n",
      " -2.03682184e-02 -1.06288955e-01  4.67553318e-01 -8.58199716e-01\n",
      " -3.27323377e-01 -1.66349411e-01 -8.48982334e-01 -1.75455093e-01\n",
      "  3.72185409e-02  2.45091766e-01 -6.42841399e-01  1.07241079e-01\n",
      "  1.76233366e-01  1.12277555e+00  2.81503275e-02 -3.72556597e-01\n",
      "  7.31599689e-01  1.81932732e-01 -2.70450413e-01 -5.09195805e-01\n",
      "  2.05536485e-02 -3.53684157e-01 -1.61737576e-01 -2.70359039e-01\n",
      "  2.15871558e-02  4.32879865e-01  4.42684479e-02 -1.02171749e-01\n",
      " -1.45145226e+00 -7.89134353e-02  2.46491805e-01 -1.61150962e-01\n",
      "  4.45707262e-01 -5.02236068e-01  5.20462394e-01 -5.86894989e-01\n",
      " -6.09180808e-01 -3.93707722e-01  2.24945188e-01 -1.91407353e-02\n",
      "  3.55306715e-01 -4.73607898e-01 -1.45560175e-01  2.81904072e-01\n",
      " -2.42017075e-01 -7.52667725e-01  1.90834433e-01 -3.91847193e-01\n",
      " -1.29981086e-01 -1.76332384e-01 -5.25462270e-01 -2.11199224e-01\n",
      " -3.52428675e-01 -7.41820335e-02  1.33008313e+00 -9.22008276e-01\n",
      " -2.14385793e-01 -2.78893143e-01  8.22304547e-01 -4.35854226e-01\n",
      "  1.00495934e-01  3.71353388e-01  5.05918086e-01  1.22969568e-01\n",
      "  7.40940213e-01  2.46101871e-01 -1.54432461e-01 -6.90408051e-04\n",
      "  9.02734041e-01 -3.55320513e-01 -4.72716123e-01  1.33522809e-01\n",
      " -9.98143017e-01  1.25472680e-01  6.32282615e-01 -2.34238535e-01\n",
      "  6.26486540e-01 -5.73085904e-01 -2.81418979e-01 -5.00309229e-01\n",
      " -2.24699587e-01 -1.71798974e-01  1.69424325e-01  7.83453584e-01\n",
      " -1.07143605e+00 -3.14196944e-02  1.30149877e+00 -4.84570622e-01\n",
      " -2.74840057e-01 -1.13496900e+00  1.03028607e+00  2.10361257e-01\n",
      "  3.82656008e-01  6.78617135e-03  6.08507216e-01  5.72629929e-01\n",
      "  1.69583231e-01 -7.50805318e-01  3.31878483e-01  5.16058505e-03\n",
      " -1.97957277e-01  1.87799066e-01 -4.37464774e-01 -4.56626177e-01\n",
      " -4.35850978e-01 -1.88255683e-02  3.43037963e-01  3.17008466e-01\n",
      " -2.02862635e-01  5.97350478e-01  3.50495845e-01 -5.66645384e-01\n",
      " -1.34720027e-01 -3.54186714e-01  6.31754637e-01 -3.03543180e-01\n",
      "  4.38921601e-01 -5.24669886e-03 -1.81186914e-01  2.32240155e-01\n",
      " -1.95811912e-01  1.75218582e-01  3.12434882e-01  1.76251650e-01\n",
      " -6.49034619e-01  7.53696918e-01  6.76741481e-01 -7.56753206e-01\n",
      " -1.15192318e+00  8.67338181e-01  4.17547792e-01  1.45207286e+00\n",
      "  3.35785151e-01  3.48223478e-01 -1.08897410e-01 -6.54128611e-01\n",
      " -2.29155868e-01  7.11941481e-01 -2.28496403e-01  1.31952599e-01\n",
      "  3.12504053e-01 -1.37485445e-01 -1.00464508e-01 -1.53659463e-01\n",
      " -2.24411160e-01 -2.76631355e-01  1.46326303e-01 -1.25522637e+00\n",
      " -3.41817290e-01  3.62486720e-01  4.05413121e-01  9.39299583e-01\n",
      "  3.88203204e-01 -2.88765114e-02  7.79510885e-02 -2.32493564e-01\n",
      "  1.74051285e-01  2.56973803e-01 -1.78444356e-01 -4.58097994e-01\n",
      " -3.20626825e-01  2.46158749e-01 -7.73412347e-01 -5.84829450e-01\n",
      "  9.51213717e-01 -4.63155240e-01  3.05789709e-01  2.96838582e-02\n",
      " -2.48467058e-01  8.83012265e-02 -3.48434210e-01  3.49018052e-02\n",
      " -1.92086011e-01 -3.39950085e-01 -3.59111607e-01  4.48651016e-02\n",
      " -3.03219408e-01  8.86720657e-01  1.12944376e+00 -8.26383948e-01\n",
      " -3.32241386e-01 -1.07372963e+00 -5.33444047e-01 -4.47653949e-01\n",
      " -5.07815123e-01 -8.89224231e-01 -1.09481919e+00  7.74158955e-01\n",
      " -1.03135681e+00 -2.82198906e-01 -3.82460088e-01  3.40784252e-01\n",
      "  5.99826217e-01 -1.13189340e-01 -5.54752588e-01  3.64323445e-02\n",
      " -6.09841883e-01 -4.79058206e-01  5.51684380e-01  9.35375541e-02\n",
      " -3.23431551e-01  3.93184274e-01  1.87191278e-01 -1.72133818e-02\n",
      " -4.71348703e-01  1.15930900e-01 -9.39260721e-01  1.49924845e-01\n",
      " -7.00567842e-01  1.74053192e-01 -9.67502519e-02 -3.35498929e-01\n",
      "  4.17076051e-01  3.66242498e-01 -5.69316566e-01  7.89075017e-01\n",
      "  1.41644552e-01 -3.73083293e-01  3.65519285e-01 -1.04728699e-01\n",
      " -3.83567423e-01  5.36801338e-01 -3.49890023e-01  2.25181356e-02\n",
      "  4.06476051e-01  5.36676526e-01 -7.47859657e-01 -6.42124116e-02\n",
      " -1.58055559e-01 -7.41992950e-01 -3.40433717e-01  8.38475406e-01\n",
      "  6.89557269e-02  2.74513960e-01  4.19962108e-01  3.89281958e-01\n",
      "  2.98213571e-01 -5.57738692e-02 -3.51470351e-01  2.34937668e-02\n",
      "  4.21912253e-01 -7.27356553e-01  2.92803556e-01 -5.14777064e-01\n",
      " -3.56152117e-01 -3.10686350e-01 -1.06088614e+00 -1.29735321e-01\n",
      "  1.73234791e-01  5.02886117e-01  8.56499910e-01 -2.73061603e-01\n",
      "  4.63758886e-01 -7.05348730e-01  1.73946023e-02  4.99230981e-01\n",
      " -4.84876722e-01 -3.34236026e-02  7.89339542e-01 -4.04134214e-01\n",
      " -3.32345128e-01  7.02206373e-01  1.09329522e-02 -9.92213011e-01\n",
      " -6.51525781e-02 -2.29030102e-01 -2.39806950e-01 -5.84604979e-01\n",
      " -4.87640977e-01  3.89556229e-01 -4.39466476e-01  5.30974939e-02\n",
      "  2.23272890e-01  6.16741419e-01 -3.00767303e-01 -3.94778430e-01\n",
      "  8.55976343e-02 -1.06676924e+00  3.29978883e-01  3.60159695e-01\n",
      "  7.37787724e-01 -4.25013244e-01  8.50539654e-02  1.86696246e-01\n",
      " -1.01590252e+00 -1.69346184e-01 -6.97677374e-01  6.54311895e-01\n",
      "  4.84532267e-01  4.30032462e-01  2.94174105e-01  1.09076932e-01\n",
      "  3.36710006e-01 -3.52170646e-01 -2.19740376e-01  9.02547911e-02\n",
      " -2.67512500e-01  7.95244098e-01 -2.49303967e-01  7.68876910e-01\n",
      "  9.02369320e-02 -2.66640037e-01  3.61105442e-01  4.15859699e-01\n",
      " -8.55802000e-02 -1.36463642e-02 -9.04088378e-01 -2.25477427e-01\n",
      " -6.75575674e-01 -3.18841487e-01  7.85260558e-01  9.83131230e-02\n",
      "  6.25140190e-01  5.47599256e-01 -2.35029578e-01 -4.72717762e-01\n",
      "  1.22412121e+00 -8.13510001e-01 -3.12814176e-01  3.08294833e-01\n",
      "  2.82819778e-01 -1.68057531e-01  6.23072624e-01 -5.13290703e-01\n",
      "  1.28047794e-01 -8.72780681e-02  1.39278710e-01 -4.34593260e-01\n",
      "  5.41413367e-01  7.76393235e-01 -4.31185186e-01  6.14023447e-01\n",
      " -7.30210543e-01 -9.71551836e-02  1.88000739e-01 -2.94339836e-01\n",
      " -2.10117638e-01  1.77069977e-01 -2.45699659e-01  8.54276866e-03\n",
      "  8.31387639e-01  7.71155715e-01  1.67822331e-01 -1.40592456e-03\n",
      "  1.87934145e-01 -4.40053046e-02 -4.10310477e-01 -2.85227954e-01\n",
      " -1.75796315e-01  1.32953063e-01  1.02982426e+00  5.01264811e-01\n",
      " -7.95008838e-02  7.23928452e-01  7.49061942e-01 -5.97351193e-02\n",
      "  1.53876945e-01  1.64219588e-01  1.22589543e-01 -8.22969079e-01\n",
      " -5.97372890e-01 -1.09393016e-01  5.27788699e-01 -2.47285813e-01\n",
      "  8.64483118e-01 -1.36179954e-01 -2.34542355e-01 -5.24931908e-01\n",
      "  3.05647016e-01  3.12137790e-02  9.34995115e-02 -2.20066845e-01\n",
      " -1.32609576e-01 -1.59863621e-01  1.58572704e-01  5.24942279e-02\n",
      "  5.46147227e-01 -5.17012596e-01  3.42879057e-01  2.28334382e-01\n",
      "  3.45331192e-01 -5.81023693e-01  1.44100118e+00 -3.77115339e-01\n",
      "  5.21302223e-04 -1.74168646e-01  3.45822543e-01 -1.03969783e-01\n",
      " -6.22703075e-01 -5.63953280e-01 -5.26583195e-01  1.99575543e-01\n",
      " -1.62656009e-02 -6.03633761e-01 -6.40109181e-02 -8.31539452e-01\n",
      " -7.59463757e-03 -1.09701142e-01  4.99346733e-01 -1.45365775e-01\n",
      " -1.20552927e-02 -5.02479851e-01  8.56130242e-01 -4.33806777e-01\n",
      "  6.15018979e-03  4.11028534e-01 -1.17588788e-01  6.50579453e-01\n",
      " -7.49382854e-01 -3.25831503e-01 -5.82546592e-01 -4.22175437e-01\n",
      " -1.57748908e-01 -1.46991169e+00 -1.63475215e-01 -9.71034408e-01\n",
      "  2.08186969e-01  5.18309057e-01 -5.37576556e-01  3.52503397e-02]\n",
      "Cluster 2 Centroid: [-2.43734717e-02  2.22558200e-01  1.24439240e+00  4.35615242e-01\n",
      " -8.05679858e-02 -4.50796783e-01 -3.77005279e-01 -2.72306383e-01\n",
      "  4.92501438e-01 -9.38674927e-01 -4.82816577e-01  1.69094682e-01\n",
      "  3.56089741e-01  9.58771467e-01 -1.07544529e+00  1.66326985e-01\n",
      "  9.00204182e-01 -1.94933936e-01 -1.63447157e-01 -3.75737935e-01\n",
      " -3.12644601e-01 -7.68730521e-01  4.03494723e-02  8.70053172e-02\n",
      "  4.25387084e-01  1.17756575e-01 -3.08268070e-02  8.66690934e-01\n",
      "  3.97496074e-02 -4.40100044e-01 -4.85697538e-02  3.74213576e-01\n",
      "  6.28359556e-01 -5.16714454e-01 -1.33394152e-01  3.52701247e-01\n",
      "  6.34172559e-01  3.49514484e-01 -4.10488397e-01 -1.07618189e+00\n",
      " -3.35922271e-01 -7.70962417e-01 -5.20958006e-01 -3.11431408e-01\n",
      " -6.31146312e-01 -4.09854889e-01 -7.68591285e-01  1.97710097e-02\n",
      "  9.90240693e-01 -7.46963620e-01  1.22506201e-01  5.91891468e-01\n",
      "  7.59350479e-01 -2.85220385e-01 -6.34043276e-01  1.30559742e-01\n",
      "  1.96353436e-01 -1.07531583e+00  6.83628857e-01  3.00405890e-01\n",
      " -2.51527607e-01  3.32623065e-01  6.25175774e-01  2.87536651e-01\n",
      " -7.92303681e-01 -1.67704463e-01  9.17074323e-01 -2.83622980e-01\n",
      "  2.26683646e-01 -2.37061888e-01 -3.20735097e-01 -5.04083514e-01\n",
      " -4.06032801e-01 -5.52915275e-01 -7.38750756e-01 -2.01843679e-01\n",
      "  1.54114783e-01  1.00953072e-01  1.60316658e+00  7.53198743e-01\n",
      "  4.48793843e-02  5.67312121e-01  2.88251013e-01 -4.98788774e-01\n",
      "  6.20905817e-01 -2.71532834e-01  1.08137786e+00 -5.74642897e-01\n",
      " -1.75215304e-02  2.36025095e-01  9.86341715e-01  2.35036403e-01\n",
      "  8.91920507e-01 -3.21141928e-01  9.32557955e-02 -1.63236111e-01\n",
      "  3.32233250e-01 -2.98953235e-01 -5.77642739e-01  1.66039735e-01\n",
      " -9.52907264e-01  3.87659073e-01 -4.52040344e-01  5.02157211e-03\n",
      " -1.81038573e-01  4.20936048e-01  8.87736440e-01 -9.59628582e-01\n",
      " -1.42919481e+00 -3.63169938e-01  3.79307657e-01 -4.37355042e-01\n",
      " -3.25109988e-01  3.11238855e-01 -2.81319946e-01 -2.55429428e-02\n",
      " -4.58059520e-01  8.59990716e-01  6.05420768e-02  4.63839591e-01\n",
      " -1.99800685e-01 -1.35228455e-01 -4.46929753e-01  2.33570635e-01\n",
      " -4.91162762e-02 -3.75974894e-01 -5.94936609e-02  4.87781167e-01\n",
      " -2.58606285e-01 -5.25258631e-02  3.86533201e-01  4.37450945e-01\n",
      "  1.01196837e+00 -6.66282415e-01  4.42514420e-02  1.12055278e+00\n",
      "  6.96144775e-02 -5.99536300e-01 -2.74072200e-01  5.20214081e-01\n",
      " -5.08673489e-02 -9.43897814e-02  1.06104720e+00 -7.30620027e-01\n",
      " -1.59201771e-01 -8.46663952e-01  1.69808984e-01 -5.81201017e-02\n",
      " -6.09541655e-01  1.30474865e-02 -2.51049012e-01 -9.33217406e-02\n",
      " -7.17088759e-01 -2.07106531e-01 -7.06397891e-02 -5.00344276e-01\n",
      " -1.27055013e+00  2.36631297e-02  3.09300739e-02  2.86141783e-01\n",
      " -3.98751378e-01  1.08184481e+00 -7.81456709e-01  8.07682872e-02\n",
      " -7.86016762e-01 -5.31324148e-01  4.37523842e-01  9.41835493e-02\n",
      "  3.70468318e-01  1.21536255e-01  1.40063202e+00  2.60282755e-01\n",
      "  6.12987697e-01  1.04396462e-01  4.72351432e-01 -4.92888063e-01\n",
      " -1.66373163e-01 -4.15538371e-01 -8.43006074e-02 -8.15861404e-01\n",
      "  7.91205406e-01 -1.32367954e-01 -9.11572039e-01  4.90577817e-02\n",
      " -4.25402522e-01 -7.15297222e-01  7.39726424e-02 -6.52477860e-01\n",
      "  4.43274140e-01 -9.00028825e-01  4.93479490e-01  2.65384495e-01\n",
      " -8.36573094e-02 -2.80520707e-01  1.12895109e-01 -2.66942561e-01\n",
      "  1.46644577e-01  9.22193348e-01 -4.98107821e-03 -2.55365640e-01\n",
      " -3.16292763e-01 -2.65081882e-01 -1.87773004e-01  6.78339124e-01\n",
      " -3.56080472e-01  2.27631629e-01 -2.81475782e-01  6.15617156e-01\n",
      " -1.44999039e+00 -8.51780534e-01 -1.02392383e-01  1.12182629e+00\n",
      "  7.38196194e-01  3.96668732e-01  3.02061051e-01 -8.33601356e-02\n",
      "  2.37204120e-01  1.82944521e-01 -6.89203590e-02  2.34533966e-01\n",
      "  1.77346706e-01 -6.42114639e-01  3.72265369e-01  5.37386715e-01\n",
      " -1.41984314e-01  6.76100910e-01  1.92474544e-01  1.54169828e-01\n",
      "  7.56429732e-02  3.30918074e-01 -4.31743830e-01 -2.36410618e-01\n",
      " -2.58985460e-01  1.67730004e-02  8.90261680e-03 -1.04010835e-01\n",
      " -2.01265275e-01  5.93589246e-02  4.22606409e-01 -3.73634100e-01\n",
      " -8.53007436e-02  1.37801957e+00  4.47975248e-01 -1.72873497e-01\n",
      " -9.51451659e-02 -1.61131412e-01  9.96906757e-02  1.01546979e+00\n",
      " -6.13115847e-01 -5.26535511e-02 -9.09865558e-01 -6.55841947e-01\n",
      "  3.33936453e-01  1.37772173e-01  1.24707073e-02 -3.16608131e-01\n",
      " -1.25564790e+00 -6.06341124e-01 -5.46475947e-01  1.37563989e-01\n",
      "  2.56142318e-02  1.40154630e-01 -1.12841511e+00 -5.15369773e-01\n",
      " -4.33448255e-01 -6.70905888e-01 -2.17388928e-01  1.16451085e-01\n",
      " -3.65136623e-01  2.47909933e-01  1.32663220e-01 -7.53606558e-01\n",
      " -3.61565918e-01  3.04875106e-01  2.85185456e-01 -2.92852640e-01\n",
      "  8.17535639e-01 -7.43518844e-02  6.10148132e-01 -5.00384450e-01\n",
      " -8.16916883e-01 -2.68038452e-01 -1.70465678e-01  2.03974038e-01\n",
      "  2.64815658e-01  5.38270116e-01  2.02961057e-01 -3.24639142e-01\n",
      "  2.36285329e-02 -2.63936132e-01  2.29618236e-01 -3.72738630e-01\n",
      " -2.02369988e-01 -8.07216406e-01  9.88882780e-01  1.10287428e+00\n",
      "  1.05674887e+00  4.95113060e-03  1.79098934e-01 -3.94397415e-02\n",
      " -5.30738056e-01  5.78883290e-01 -7.67207980e-01  8.34944546e-02\n",
      " -6.56362474e-02  9.78831425e-02  5.85389495e-01 -4.36833233e-01\n",
      " -3.75042915e-01 -1.08078134e+00 -3.23475480e-01  3.66998434e-01\n",
      " -9.47919637e-02  1.94579214e-01  2.47916579e-01 -4.13685828e-01\n",
      " -3.64892870e-01  1.36982644e+00  1.02494344e-01 -1.60315230e-01\n",
      "  5.27702272e-02  5.99669576e-01  5.13001263e-01 -7.76810795e-02\n",
      "  4.46126789e-01  5.59082508e-01 -2.41422474e-01  8.90937448e-03\n",
      " -5.04251458e-02  4.81876023e-02  4.79706228e-01 -8.31765607e-02\n",
      " -8.84965658e-02  7.81475306e-02  8.37155819e-01  1.69911236e-01\n",
      " -1.38556957e+00  1.85991317e-01 -4.19825345e-01  1.49721444e-01\n",
      "  4.46680814e-01  2.36589402e-01  2.26603448e-01  3.96796942e-01\n",
      "  6.87137008e-01  5.53640723e-02 -2.06831366e-01 -1.21317267e-01\n",
      "  1.33395046e-01 -5.66915274e-01  7.52606869e-01 -6.59612715e-01\n",
      " -2.79979885e-01  1.97489083e-01 -1.27139473e+00 -6.80210710e-01\n",
      " -3.68976116e-01  1.96563363e-01 -4.91130650e-01  3.04925293e-01\n",
      "  4.60574090e-01  7.34973624e-02 -1.83959678e-02 -4.91026759e-01\n",
      "  8.37240458e-01 -2.80217260e-01 -3.66650581e-01 -5.65268576e-01\n",
      "  2.18053162e-02  1.71142668e-01 -2.82799244e-01 -4.20380831e-01\n",
      "  3.71053189e-01 -3.35792810e-01 -3.19913387e-01 -8.29762816e-02\n",
      " -6.84367478e-01  3.05240184e-01  5.06094277e-01 -1.06088305e+00\n",
      "  7.81678855e-01 -3.54034156e-01  1.37806833e-02 -2.47524217e-01\n",
      " -5.39549589e-02 -5.33355296e-01  2.32664257e-01  5.83660126e-01\n",
      "  1.18478224e-01 -2.82299519e-01  5.04787385e-01  4.51522291e-01\n",
      " -6.47031069e-02 -6.86968446e-01 -2.55157351e-01 -5.18628299e-01\n",
      " -7.73825824e-01  6.77819788e-01 -4.05189872e-01 -3.79016221e-01\n",
      " -6.28805280e-01  4.08826828e-01  1.75959241e+00 -1.28562391e-01\n",
      "  7.56213255e-03  1.45538241e-01  1.23708093e+00 -5.53744912e-01\n",
      " -3.74862641e-01 -3.37825149e-01 -2.37976611e-02  2.81788737e-01\n",
      "  5.54249883e-01  2.61159390e-01 -2.42567316e-01  2.78814822e-01\n",
      "  1.05298007e+00 -9.87570167e-01 -7.43579626e-01  6.52305126e-01\n",
      " -1.21840072e+00 -6.65597498e-01  2.20169559e-01 -1.14651024e-01\n",
      "  9.64436233e-02  3.19089085e-01 -4.38813388e-01 -6.08558834e-01\n",
      " -6.33281112e-01 -5.98952889e-01 -1.16053134e-01  4.52841461e-01\n",
      " -1.18989456e+00  5.84590495e-01  1.21942163e+00 -6.47431970e-01\n",
      "  5.25106788e-01 -3.03504497e-01  5.27752519e-01 -2.82203972e-01\n",
      "  4.69342679e-01 -3.08353771e-02  3.36228967e-01  5.21399826e-02\n",
      "  6.60000220e-02  2.30792165e-03  9.52681750e-02 -6.70793831e-01\n",
      " -4.79015023e-01 -1.80478051e-01  4.88741457e-01 -4.48334575e-01\n",
      " -3.56381357e-01 -5.05758047e-01 -2.96408683e-02  5.39056420e-01\n",
      " -5.46316862e-01 -2.63422012e-01  8.57105196e-01 -4.65859950e-01\n",
      "  3.35038006e-01  6.05759025e-02  4.79364395e-01 -1.76510528e-01\n",
      "  1.78481966e-01  8.51636305e-02 -1.50295883e-01 -1.72727779e-01\n",
      "  1.93801671e-01  6.55824304e-01  4.75160539e-01 -6.12469077e-01\n",
      " -3.53738591e-02  4.73499417e-01  4.92390096e-01 -7.11449146e-01\n",
      " -8.61331880e-01  6.47894740e-01  9.23830390e-01  2.13611752e-01\n",
      "  5.53883016e-01  5.17557740e-01  2.24121124e-01 -4.54472423e-01\n",
      "  4.28885221e-02  4.04918730e-01  7.71080256e-02  7.18603879e-02\n",
      "  3.37613583e-01 -1.90803930e-01  1.75013334e-01  2.79223561e-01\n",
      " -5.14250100e-01 -2.44446933e-01 -1.64601952e-01 -1.04514027e+00\n",
      " -7.58494854e-01  1.21927559e-01  6.02043986e-01  8.79432678e-01\n",
      "  5.00900924e-01  2.19898805e-01  4.42539573e-01 -9.99850333e-02\n",
      "  3.30827594e-01  5.78806341e-01  6.37801886e-01 -6.14805147e-02\n",
      " -5.01791596e-01  1.27291381e-01 -1.06485939e+00 -2.33504176e-01\n",
      "  1.03389597e+00 -4.40523744e-01  5.78786910e-01  3.34775954e-01\n",
      " -5.26077449e-01  7.22318530e-01 -6.76698089e-02  7.71925226e-02\n",
      " -2.29519397e-01 -3.03222984e-01  4.18268651e-01 -6.26393080e-01\n",
      " -4.77906674e-01  7.02361822e-01  1.81902122e+00 -1.76789939e-01\n",
      "  2.40161747e-01 -3.60984027e-01  1.15125179e-01  2.49427542e-01\n",
      " -1.53342932e-01 -5.04378319e-01 -1.00564623e+00 -1.02784991e-01\n",
      " -1.80025458e-01 -1.19366050e-01  5.91753423e-01  6.55546859e-02\n",
      "  1.16681933e+00 -1.47366121e-01 -9.37574446e-01 -3.92126828e-01\n",
      " -1.23122263e+00 -1.73007578e-01  4.20216262e-01  2.28361890e-01\n",
      " -6.48602843e-01 -8.62408996e-01 -3.55886877e-01  2.47632921e-01\n",
      " -2.32831419e-01  6.84158504e-02 -9.69588399e-01 -2.98166484e-01\n",
      " -2.93189943e-01  5.62366605e-01 -1.87387615e-01 -7.28966117e-01\n",
      "  5.45463562e-01  3.65772426e-01 -2.07256973e-01  3.83376628e-01\n",
      " -1.70148134e-01 -4.32475239e-01  5.43170750e-01 -6.88561797e-03\n",
      " -6.26106679e-01 -2.64530361e-01 -1.82287619e-01 -1.24046594e-01\n",
      "  3.88742775e-01  6.83359563e-01 -5.83578110e-01 -4.71934885e-01\n",
      " -7.69815326e-01 -5.54651439e-01 -6.61012053e-01  2.59811223e-01\n",
      "  1.97745711e-01  1.83244258e-01  6.60576880e-01 -1.50206566e-01\n",
      "  8.02115560e-01 -1.68984935e-01 -2.84861863e-01  1.30374074e-01\n",
      "  2.53265828e-01 -5.72343349e-01  4.31068033e-01 -2.13997960e-01\n",
      "  3.20644438e-01  2.06701159e-01 -1.36626720e+00 -7.28140473e-01\n",
      "  5.27188838e-01  5.21042168e-01  8.42767477e-01  6.92154765e-02\n",
      "  6.30833954e-02 -5.49810529e-01 -5.60087919e-01  1.40615493e-01\n",
      " -4.06024098e-01  3.04924518e-01  3.77555609e-01 -3.01770598e-01\n",
      " -7.79978871e-01  7.63426900e-01 -7.89012611e-02 -8.84930253e-01\n",
      "  3.56874615e-03 -1.17989264e-01 -1.45682946e-01 -7.10981131e-01\n",
      " -5.48288465e-01  3.03999960e-01 -2.63250768e-01 -2.07646564e-01\n",
      "  3.65474373e-02 -9.24978256e-02 -1.75423592e-01 -9.55140293e-02\n",
      "  6.68825805e-01 -1.46808600e+00  3.60776842e-01  2.35050425e-01\n",
      "  5.93212903e-01  2.12315321e-02  1.44949302e-01  2.80712843e-01\n",
      " -1.02060604e+00 -1.81483462e-01  2.37093449e-01  3.86096299e-01\n",
      " -3.40456426e-01 -1.37255222e-01  1.14205480e-03  2.66404450e-02\n",
      "  2.64751285e-01  7.28284717e-01  4.95705247e-01 -2.57437706e-01\n",
      " -2.42625043e-01  1.10262573e-01  4.83967394e-01  1.13007307e+00\n",
      "  5.13901591e-01  1.48263812e-01  2.75082499e-01 -6.13215566e-02\n",
      " -1.87518463e-01  4.77412641e-02  2.46452719e-01  5.36376610e-02\n",
      " -8.26728225e-01  2.19504610e-01  5.74287891e-01 -3.95466387e-01\n",
      "  8.42294455e-01  3.78850579e-01  1.32270187e-01 -3.32564533e-01\n",
      "  1.83016109e+00 -9.39318776e-01 -8.72799754e-03 -4.72058475e-01\n",
      " -2.73699999e-01 -7.47309625e-01  2.02209830e-01 -2.30265319e-01\n",
      "  4.59953070e-01 -5.05336761e-01  4.95105207e-01 -2.35304981e-02\n",
      "  4.56736743e-01  7.72806644e-01 -1.97874963e-01 -6.48221374e-01\n",
      " -1.88860208e-01 -1.19380683e-01 -3.31030563e-02 -3.57329875e-01\n",
      " -1.23694710e-01  1.54217914e-01 -1.04992107e-01  5.16046770e-02\n",
      "  1.60469103e+00  5.30303419e-01 -3.23358327e-02 -5.01470864e-02\n",
      " -4.46228981e-01 -7.42734373e-02 -7.56866857e-02  8.66508633e-02\n",
      " -3.67285639e-01  5.97941458e-01  2.21598744e-02  1.86046883e-01\n",
      "  1.92585140e-01  5.75765133e-01  5.70303321e-01  2.26366162e-01\n",
      " -1.04673013e-01 -2.86525816e-01  2.59493828e-01 -5.05899072e-01\n",
      " -1.94888994e-01 -2.78618425e-01 -8.48495364e-02 -1.03591591e-01\n",
      "  6.53958082e-01 -6.81904972e-01 -2.34707147e-01 -8.55499327e-01\n",
      "  3.05667579e-01  2.31281295e-01  3.52021933e-01 -3.05782467e-01\n",
      " -2.78203756e-01 -9.47535560e-02 -3.04135323e-01  2.02742577e-01\n",
      "  5.92539310e-01 -5.78156173e-01  6.50587678e-01  1.62108064e-01\n",
      "  6.24089181e-01 -5.60557723e-01  1.13500142e+00 -5.10002524e-02\n",
      " -2.02841610e-01  7.05395453e-03  2.05902547e-01 -2.26707190e-01\n",
      " -7.35799253e-01 -9.59974885e-01 -6.39525652e-01 -6.93486273e-01\n",
      "  3.67489696e-01  3.19807291e-01 -4.36361313e-01 -3.47046137e-01\n",
      " -3.35767567e-01 -5.23907423e-01  1.49201334e+00 -3.80636513e-01\n",
      " -1.59572139e-02 -5.40572047e-01  9.24305856e-01 -3.25730801e-01\n",
      " -3.27255100e-01  4.74158943e-01 -1.70369387e-01  2.71724105e-01\n",
      " -1.90101013e-01 -5.27312160e-01 -4.71934825e-01 -4.95772481e-01\n",
      " -2.09234834e-01 -1.23528075e+00 -3.19185585e-01 -1.07918215e+00\n",
      "  8.48589167e-02  2.42196321e-01 -8.28353524e-01  2.88384706e-01]\n",
      "Cluster 3 Centroid: [-0.47402304  0.44249922  0.913081    0.04109994 -0.1780009  -0.19633186\n",
      "  1.322054   -0.23960611  0.36859068 -0.42879537  0.07124316 -0.23623843\n",
      "  0.41460022  0.6461102  -0.05971836  0.01859982  0.23554273 -0.5125978\n",
      "  0.01471242 -0.3479733  -0.31479013 -0.99705654  0.49583003 -0.25759596\n",
      "  0.87341833  0.09918484 -0.6335263   0.2262611  -0.4284755   0.83182144\n",
      " -0.54641074 -0.02881927 -0.1801874  -0.5338722  -0.759534    0.75579435\n",
      "  0.4659718   0.11090004 -0.15637505 -0.54666305 -0.08809251 -0.54021096\n",
      " -0.07564308 -0.15810108 -1.1908948  -0.61079025 -0.6322733   0.55599564\n",
      "  0.51010466 -0.6081096  -0.35886973  1.059819   -0.3668765  -0.63936377\n",
      " -0.0755572   0.19525436  0.29949775 -0.761791   -0.35779572 -0.46213722\n",
      " -0.58208835  0.75249946 -0.1681965  -0.31776354 -0.6959678   0.23350228\n",
      "  0.70034045 -0.18835962 -0.45750314 -0.5856913  -0.3008096  -0.16970237\n",
      " -0.49466544  0.11214425 -0.18081674 -0.46987066  0.08376082  0.3065195\n",
      "  0.39224684  0.5668858   0.09133592  0.6018542  -0.30617678  0.47345886\n",
      " -0.24560958  0.31451234  0.11925173  0.04932511 -0.42538565  0.09984475\n",
      "  0.44736278 -0.5483991   0.9679803  -0.4776987   0.03054234 -0.6849545\n",
      "  0.24249221 -0.33952892 -0.4053249  -0.31145996  0.22063136 -0.68246675\n",
      " -0.12619159  0.20015967  0.0478394  -0.13549958  0.0242108  -0.04806733\n",
      " -0.12827829  0.4011905  -0.5072206  -0.42343748 -0.37234393  0.22222887\n",
      "  0.3170641  -0.14830089 -0.3675455   0.7121223   0.48819447  0.07556844\n",
      "  0.01168522 -0.5224866  -0.7779751   0.08627127 -0.00756744 -0.03622109\n",
      "  0.40634096  1.1247557  -0.7506952   0.35264212 -0.83110726  0.39038455\n",
      "  0.8350064  -0.3212845   0.03775498  0.43811956  0.18204515 -0.48752216\n",
      " -0.631259    0.5210428  -0.4412651  -0.10493304  1.0116367  -0.20269498\n",
      "  0.36239588 -0.42368865  0.4179091  -0.7613216  -0.36680388 -0.13207394\n",
      " -0.14702325 -0.4711008  -1.0185349   0.6011296  -0.2965188   0.6221906\n",
      "  0.9847649  -0.10255592  0.23019192  0.13578291  0.20642444  0.39872947\n",
      " -0.25486237  1.2143054   0.04847868 -0.42910528  0.46541908 -0.02576353\n",
      " -0.5148844  -0.05178478  0.08687043  0.5134137   0.24077398  0.8481128\n",
      "  0.5107138  -0.0038673  -0.10198312  0.01287773 -0.51806194  0.10936379\n",
      "  0.01994663  0.5325938  -0.47373545  0.35136837 -0.04553747 -0.80925536\n",
      "  0.4457927  -0.40651512 -0.01572588 -0.6771145  -0.87476504 -0.1235143\n",
      "  0.03928556 -0.5424949   0.30858275  0.12287147 -0.201301    0.6908596\n",
      " -0.12693638  1.4998434   0.22628838  0.12620766 -0.06300753 -0.311228\n",
      " -0.64878887  0.44105193  0.21924624 -0.0805113  -0.76665044 -0.65334564\n",
      " -0.4140966   0.61618584  0.16620013  0.09698742 -0.0212086   0.32944044\n",
      " -0.24142258 -0.00691463  0.41038635  0.41783231  0.3741619   0.256373\n",
      " -0.25153393  0.3025432   0.02534742  0.00450307  0.3221586  -0.8019421\n",
      " -0.530586    0.3459126  -0.02023036  0.18711792 -0.2784501  -0.09038483\n",
      "  0.03146576 -0.44144508 -0.6403678   0.58741724  1.0647658  -0.77674294\n",
      "  0.8508964   0.7985359   0.53959566  1.0595272  -0.29453585  0.30876493\n",
      "  0.8608707   0.38031745 -0.94796157  0.3320418  -1.0280628  -0.26127127\n",
      " -0.35920617  0.29120392 -0.11368595 -0.2268253  -0.7638901  -0.12299305\n",
      " -0.2730674   0.16337986  1.259504   -0.25158986 -0.63239837  0.09449378\n",
      " -0.340128   -0.27354228 -0.18400341 -0.10229295  0.14577264  0.33956733\n",
      " -0.64939713 -0.60336685 -0.40078792  1.166626    0.34618384 -0.46794945\n",
      "  0.39084363 -0.07100242  0.1392917   1.0909035  -0.02623971  0.13674742\n",
      " -0.57290524  0.09463999 -0.41903287  0.2597637  -0.02379964  0.31349307\n",
      " -0.21308014 -0.41962063  0.48608837 -0.30940932  0.17366984 -0.507749\n",
      "  0.39551246  0.06372687  1.192405    0.378244    0.52137446 -0.09510347\n",
      " -0.11765158 -0.08202004 -0.5353756  -0.33813432 -0.34487784  0.53050274\n",
      "  0.6256596  -0.27043763  0.3212314  -0.0745523  -0.29053432 -0.96610534\n",
      " -1.008598    0.24953666  0.40734428  0.8503607  -0.81970024 -0.31219915\n",
      "  0.49923608 -0.29081485  0.00569388 -0.2808717  -0.1104974   0.54606754\n",
      "  1.017532    0.24787469  0.03272752  0.5155319   0.24020222  0.01140364\n",
      "  0.6587527  -0.06206132  0.00312859  0.9818997   0.42913532  0.67986435\n",
      " -0.35318932  0.23169339  0.4807737   0.07160176  0.9041235  -0.52034456\n",
      " -0.32868505 -0.03487711  0.93467164 -0.3079071  -0.2535414   0.22543067\n",
      " -0.57654554 -0.86084247  0.48522067  0.07789904  0.9770273  -1.0131626\n",
      " -0.02543691  0.17816426 -0.23572657  0.00670405  0.0869593   0.04073014\n",
      "  0.16212781  0.0690283  -0.00566156  0.563071    0.10284214  0.14506832\n",
      " -0.417277    0.77194095  0.20340613 -0.35222784 -0.00602721 -0.2659626\n",
      " -0.04420954 -0.1023923   0.12422268 -0.38770416 -1.3288659  -0.58449715\n",
      "  0.22140804  0.19923124  0.28062215 -0.24007957  0.37564474 -1.341927\n",
      "  0.22187208 -0.05576104  0.35622823  0.1572566  -0.4570789   0.3581223\n",
      "  0.73294497  0.259642    0.5495133   0.29567802  0.00447673 -0.32085645\n",
      "  0.33735394  0.2507568   0.01642337  0.4596882  -0.24266411  1.1367266\n",
      "  1.1732416  -0.5295505   0.42922541 -0.4099999   1.1167756  -0.5191189\n",
      " -0.54424953  0.07186466  0.41094398  0.01301857 -0.05507711 -0.02143735\n",
      "  0.1935605   0.4078298   1.2521175  -0.73069483 -0.4769277   0.86762226\n",
      " -0.6536831  -0.269583   -0.10262105 -0.2022809   0.1620666   0.9170888\n",
      "  0.48790336 -0.5505457  -1.0597336   0.23005086  0.62008095 -0.20049256\n",
      " -0.7924924   0.8730718   0.33747238 -0.12522723  0.6446782  -0.7879536\n",
      "  0.36656302 -0.05195161  0.18722484 -0.13419326  0.43512395 -0.10137762\n",
      "  1.0506881   0.00759149 -0.20346564 -0.23977187 -0.35660702  0.27698666\n",
      "  0.23922284 -0.37208098  0.08978006  0.04967982 -0.03758215  0.13292009\n",
      "  0.13385263  0.03243616 -0.48586434  0.13786274 -0.69103193 -1.1580595\n",
      "  0.02561963 -0.2683343   0.03669067  0.33855212  0.00517742 -0.29012856\n",
      "  0.48267946 -0.5561938  -0.22186428 -0.03069783  0.20704788  1.1296024\n",
      " -0.0546352  -1.2135143  -1.1200966   0.6115043   0.27261755  0.1748626\n",
      " -0.35363173 -0.41958678 -0.2781055  -0.11887261 -0.78021556 -0.8077233\n",
      " -0.0191084   0.5987873  -0.31114167 -0.5157827   0.57895225 -0.03639063\n",
      " -0.6149297  -0.9459337  -0.13066393 -0.6754048   0.23708987  0.39091116\n",
      "  0.31000417  0.40787062 -0.715474   -0.14953241  0.56795835 -0.5406374\n",
      " -0.37763003  0.1454213   0.7985207   0.09640794 -0.33898947 -0.27326941\n",
      "  0.6186768  -0.2774194   0.43302846  0.70643973 -0.37654364  0.11974363\n",
      " -0.50147057 -0.65340847 -0.48907304 -0.5852092  -0.04706679  0.48126018\n",
      "  0.3282011   0.10404062 -0.66126275  0.52697504 -0.19696373  0.3671599\n",
      "  0.2502022   0.3025589  -0.6163858  -0.13445339 -0.1864267  -0.40806627\n",
      "  0.01019681  0.69672525 -0.10297948 -0.915951    0.08387499 -0.10407355\n",
      "  0.1208688   0.03746689  0.15977201  0.41672307 -0.9473892  -0.4454138\n",
      "  0.04871228 -0.4899611  -0.31469613  0.07799304 -0.13422847 -0.14606711\n",
      "  0.4829716   0.29606923 -0.28325152 -0.04024923 -0.04079503 -0.21267915\n",
      " -0.01891287  0.9470006  -0.19379017  0.6495156  -0.95376027  0.16684872\n",
      " -0.23013571 -0.6402941  -0.06109631 -0.8826717   0.2043542   0.21050055\n",
      " -0.23133558 -0.07068451  0.70359343  0.9145249  -1.1816698  -0.538936\n",
      "  0.10160084 -0.45252806 -0.06121694 -0.04005268 -0.34445462 -0.15487754\n",
      " -0.08472928  0.4620664  -0.47460037  0.60059553 -0.81013286  0.4396024\n",
      " -0.15692101 -0.11757994  0.4671509  -0.31837282  0.23119855  0.6291979\n",
      "  0.27879333  0.11035665 -0.9828202   0.73550045 -0.32667646 -0.2273253\n",
      "  0.09978665 -0.71776134 -0.08392018  0.09766456 -0.7897544   0.12481292\n",
      " -0.56546104 -0.10174899 -0.56045115  0.12308985  0.33598348 -0.7060212\n",
      " -0.3893696  -0.40926775  0.43045634 -0.9150825  -0.2578203  -0.19550584\n",
      " -0.49895656 -0.01698008 -0.54851174  0.33605415 -0.60284436 -0.29886746\n",
      "  0.8590114  -0.6820951  -0.09828332  0.41164723  0.34918147  0.01630241\n",
      "  0.41081172 -0.12571627  0.0553852  -0.23353942 -0.48687735  0.11271138\n",
      " -0.90481865  0.29426414  0.40116936  0.83085066 -0.7110936   0.5875982\n",
      " -0.36210006 -0.26857382  0.5351242   0.32241467 -0.1827964   0.31238854\n",
      "  0.3069424   0.7971238   0.08837856  0.9467535  -0.33752877 -0.12431081\n",
      " -0.06504203 -0.04311478 -0.4593371   0.03640272 -0.6463473   0.6073619\n",
      "  0.11940336 -0.3199569  -0.03660221  0.26411465  0.6282972   0.3846585\n",
      " -0.4023756   0.3735636  -0.07672141  0.17825916  0.16870195 -0.7061492\n",
      " -0.20515677 -0.46495512  0.43835074 -0.33944088  0.1833611   0.25093222\n",
      "  0.07825163  0.19538397 -0.489672   -0.61743516 -0.14227481 -0.55449843\n",
      " -0.03722902  0.09902869  0.23221394 -0.1902793   0.15387216  0.12273112\n",
      "  0.5204737  -0.02514572 -0.05073106 -0.7753726  -0.08750151  0.05498675\n",
      " -0.4416345   0.24996343  0.9211595   0.2920302  -0.7092563   0.5670965\n",
      "  0.43559626 -0.6863865   0.19136436 -0.41509733 -0.24041146 -0.10860336\n",
      "  0.33325562 -0.10300079 -0.1592882   0.135473    1.03863     0.05552671\n",
      " -0.5651645   0.03192981 -0.20325729 -0.47836223 -0.5825815   0.0796704\n",
      " -0.36510268 -0.18927632  0.05479769 -0.552716    0.10167043 -0.02026315\n",
      " -0.04539996  0.450467   -1.0340497  -0.21203543  0.21785241 -0.02600235\n",
      " -0.32198817 -0.16715088  0.08092758 -0.179836   -0.20732628 -0.19985765\n",
      " -0.00342083 -0.66976833 -0.0763933   0.77103406 -0.24543871 -0.43243715\n",
      "  0.327554    0.19578616 -0.38756064 -0.29742736  0.17766866  0.06027584\n",
      "  0.46482575  0.5741937   0.05218864  0.44604722 -0.8270254   0.02250281\n",
      " -0.35192904 -0.12652762 -0.19852172 -0.30845243 -0.00592804 -1.8080405\n",
      " -0.23745522 -0.5905934   0.08495048 -0.6843335  -0.7435417  -0.04688117]\n",
      "Cluster 4 Centroid: [-5.43269694e-01  5.75330138e-01  5.94103813e-01 -8.29384327e-02\n",
      "  1.10635377e-01 -9.68222260e-01  5.30589223e-02 -1.18747681e-01\n",
      "  4.68740046e-01 -7.77419806e-01  1.99844822e-01  2.43958414e-01\n",
      "  7.29169130e-01  1.10409963e+00 -1.14815682e-02 -1.54751956e-01\n",
      " -3.12565267e-02 -2.57182568e-01  2.71777570e-01 -2.14061394e-01\n",
      " -3.29400748e-01 -7.59768426e-01  6.82951957e-02  3.46586168e-01\n",
      "  8.39288533e-01  1.62184969e-01 -6.84205055e-01 -3.68120492e-01\n",
      " -7.08440915e-02  4.49546754e-01 -3.57795358e-01  3.09246987e-01\n",
      " -7.56917894e-01 -4.56932515e-01 -9.25342381e-01  1.08668613e+00\n",
      "  4.65686470e-01  2.93687701e-01 -1.14384279e-01  8.60372782e-02\n",
      " -1.89832121e-01 -9.47913289e-01  2.70988166e-01 -9.87107903e-02\n",
      " -1.70559454e+00 -7.71471620e-01 -8.62107933e-01  3.53388995e-01\n",
      "  5.59379041e-01 -2.83881009e-01  1.11098200e-01 -1.69607103e-02\n",
      " -4.15441871e-01 -3.86195809e-01 -5.95046163e-01  7.90332794e-01\n",
      "  1.65887624e-01 -1.02354860e+00 -1.29079461e-01 -7.00388432e-01\n",
      " -1.04834628e+00  1.22284770e-01  9.18883234e-02  3.31694573e-01\n",
      "  3.40161473e-01  3.03853720e-01  1.05647933e+00  1.04741275e-01\n",
      " -7.37843037e-01 -7.70363688e-01  7.72517994e-02 -9.67335552e-02\n",
      " -5.14382422e-01 -4.33196187e-01 -1.10599071e-01 -5.28077245e-01\n",
      "  1.80262744e-01  2.36256078e-01  8.07087898e-01  8.67598355e-01\n",
      " -2.06589587e-02 -1.59164488e-01  1.29956603e-01  7.51137435e-01\n",
      "  6.72720373e-03  6.48417830e-01  5.37491977e-01 -3.69413644e-01\n",
      " -8.07499409e-01  1.71735048e-01  4.39327836e-01 -7.36331224e-01\n",
      "  4.24073339e-01 -2.10001945e-01  2.62131542e-03 -1.94154933e-01\n",
      "  5.47327936e-01 -8.39484036e-01 -1.06910920e+00  1.04580954e-01\n",
      " -3.02273273e-01 -7.46146679e-01 -3.93946081e-01 -3.07755828e-01\n",
      " -3.36653709e-01  2.60183960e-01  2.24608928e-02 -1.23337555e+00\n",
      "  1.86302379e-01 -6.37277365e-02  8.57318103e-01 -4.62577552e-01\n",
      " -6.19344890e-01  5.23698866e-01 -5.44218659e-01 -1.11205027e-01\n",
      " -7.19024122e-01  6.66115046e-01  5.59675872e-01  3.04069936e-01\n",
      " -1.55811891e-01 -5.78989983e-02 -5.38640857e-01  2.91097015e-01\n",
      "  2.96846539e-01 -1.99214220e-01  3.28639001e-01  7.62028337e-01\n",
      " -5.86478591e-01  1.73558921e-01  3.19642693e-01  5.40059149e-01\n",
      "  1.03797984e+00 -4.17451859e-01  2.86199629e-01  8.72538209e-01\n",
      "  1.05400659e-01 -9.50014651e-01 -1.20726585e+00  4.36096936e-01\n",
      " -1.27284914e-01 -1.32450268e-01  7.28604555e-01 -7.53141582e-01\n",
      " -6.98656887e-02  1.25127614e-01  4.58127677e-01 -1.43877372e-01\n",
      " -1.15582019e-01 -1.71624586e-01 -2.22892184e-02 -2.68705249e-01\n",
      " -1.13793337e+00 -7.77017549e-02  2.07596913e-01  6.24514520e-02\n",
      " -1.11135590e+00  5.27875423e-01  1.86220720e-01  4.33586508e-01\n",
      " -3.63920003e-01  4.23862666e-01 -1.11489445e-01  4.95752871e-01\n",
      " -7.79559612e-02 -3.25077116e-01  1.41181803e+00  4.59706560e-02\n",
      " -6.87628984e-01  1.21480338e-02  3.83889794e-01  5.16936600e-01\n",
      "  1.02030385e+00  3.17554414e-01  6.65327489e-01 -3.46500188e-01\n",
      "  5.53764224e-01 -1.53244093e-01 -4.72855896e-01 -2.56941795e-01\n",
      " -2.03631997e-01 -5.56384921e-01 -6.41112328e-01  3.27967316e-01\n",
      "  3.63770872e-01 -7.63272166e-01  1.23966455e-01  1.11247391e-01\n",
      "  3.12561333e-01  5.09253740e-02 -3.33335698e-01 -3.22841108e-02\n",
      " -8.39553237e-01 -4.71581191e-01  6.65024698e-01  5.07046521e-01\n",
      "  1.22580007e-01  1.60200834e+00 -8.62806365e-02  7.57513717e-02\n",
      " -2.36027762e-01  6.77935332e-02  2.09871456e-02 -5.83517730e-01\n",
      " -4.54316407e-01 -5.99633753e-02  4.09522176e-01 -1.11136831e-01\n",
      " -8.29416335e-01 -3.69377077e-01 -2.92355567e-02  1.05391312e+00\n",
      "  5.16257465e-01 -2.96596717e-02 -1.29314184e-01 -6.56340122e-02\n",
      "  1.61470264e-01  4.22842018e-02  1.82814598e-01  1.61243737e-01\n",
      "  3.82660747e-01  2.58296311e-01  3.16098988e-01  7.16370106e-01\n",
      "  2.21718460e-01  6.25670552e-01  5.74196987e-02 -1.95392132e-01\n",
      " -2.61983633e-01  1.25389934e+00  3.58286470e-01 -5.07219374e-01\n",
      "  2.49971598e-01  1.58652216e-02 -1.11727275e-01 -2.41171390e-01\n",
      " -9.37850118e-01  5.99893451e-01  1.18455744e+00 -5.36326349e-01\n",
      "  2.29898989e-02  6.05923653e-01 -2.55449235e-01  5.52432418e-01\n",
      " -5.08914530e-01 -5.33101857e-01  3.63642722e-01  2.30672106e-01\n",
      " -4.13097441e-01 -9.91895795e-04 -1.26636732e+00 -3.46304715e-01\n",
      " -5.38355671e-02 -8.57192278e-02  2.60406017e-01 -1.51600227e-01\n",
      " -4.41475153e-01 -8.70640501e-02 -2.39352450e-01  5.44535704e-02\n",
      "  4.60387439e-01 -2.94469416e-01 -6.63992465e-01 -1.76118184e-02\n",
      "  2.22394824e-01 -6.79724097e-01 -2.02995539e-03  1.53896332e-01\n",
      " -1.57045528e-01  2.13104680e-01 -9.53375101e-01  6.19979024e-01\n",
      " -6.22669458e-02  5.30530334e-01  2.24246427e-01 -6.18243575e-01\n",
      "  1.86112404e-01  6.68606013e-02 -3.93609107e-02  2.59994268e-01\n",
      "  2.02181369e-01  1.35904431e-01 -1.41019499e+00 -2.87955374e-01\n",
      "  1.60788730e-01  2.87507474e-02  1.06982708e-01 -6.02738708e-02\n",
      "  1.08191311e-01  1.94871247e-01 -9.00232375e-01 -7.18446136e-01\n",
      " -5.00642776e-01 -8.61393452e-01  7.91000843e-01 -4.37391996e-01\n",
      "  1.21552634e+00 -1.05979554e-02  3.72664034e-01 -9.71999541e-02\n",
      " -7.79775441e-01  6.07748553e-02 -8.07471633e-01 -3.11293662e-01\n",
      "  2.28475451e-01  4.47261333e-03  8.35251927e-01  3.80219489e-01\n",
      "  2.09978282e-01 -2.92787969e-01 -2.23452002e-01 -3.29246551e-01\n",
      " -9.51633304e-02  9.81765389e-01  3.07378232e-01  8.29352081e-01\n",
      " -6.83821619e-01 -6.41304135e-01  5.37373483e-01 -3.82213712e-01\n",
      " -4.03120071e-01  1.00303352e-01 -5.14505059e-02  3.25049102e-01\n",
      "  5.41541040e-01  3.33360940e-01 -2.00929835e-01  2.87609547e-01\n",
      " -3.48999172e-01  8.37156698e-02  2.89817601e-01  1.36434227e-01\n",
      "  8.73325825e-01  9.01443899e-01 -2.24664405e-01  6.16232336e-01\n",
      " -7.26520121e-01 -3.01217109e-01  6.18969917e-01  1.36141211e-01\n",
      "  1.05599940e+00 -2.49341220e-01  4.83245015e-01  3.36641788e-01\n",
      "  5.46616435e-01 -3.54673058e-01  2.31451988e-01  1.91424176e-01\n",
      " -1.02748215e-01  2.73928046e-02  1.24311596e-01 -8.24621916e-01\n",
      "  9.84985113e-01 -7.17180192e-01 -3.22729647e-02  1.01697981e+00\n",
      "  1.17332786e-02 -1.81485295e-01 -3.37562084e-01  4.78858709e-01\n",
      "  2.59912848e-01 -2.77912736e-01 -4.12408948e-01  7.77267218e-02\n",
      " -1.80356294e-01 -4.37824935e-01 -5.27010620e-01 -7.42658913e-01\n",
      "  6.15850925e-01  5.10011613e-03 -1.90202296e-01  4.02677596e-01\n",
      " -5.03704488e-01  1.15054578e-01 -2.64615119e-01 -2.18050033e-01\n",
      " -1.08951080e+00 -5.06637931e-01  2.21206397e-01  4.65581357e-01\n",
      "  2.76757210e-01 -5.27861416e-01 -1.51826024e-01 -3.77141058e-01\n",
      " -3.10762763e-01  4.09465015e-01  1.33744925e-02 -1.25694692e-01\n",
      " -3.85968626e-01 -1.37040243e-01 -4.65951562e-02  2.35856265e-01\n",
      "  5.63396394e-01 -3.74136984e-01  3.20693046e-01 -9.32907820e-01\n",
      "  8.80713686e-02 -1.99322283e-01 -2.50990018e-02 -2.25780457e-01\n",
      " -1.60732597e-01  7.23626852e-01  1.47198737e-01 -8.85524154e-01\n",
      " -4.30876791e-01  1.09481049e+00  6.44667745e-01 -2.69962639e-01\n",
      " -4.54707980e-01 -4.86459285e-01  2.81579673e-01 -3.22610766e-01\n",
      "  5.25396347e-01  6.14659786e-01 -5.72208047e-01 -1.43683195e-01\n",
      "  5.70832491e-02 -1.10411787e+00 -6.51807666e-01  3.99847269e-01\n",
      "  3.55427980e-01  5.07539451e-01  7.23285556e-01 -3.24024230e-01\n",
      "  8.54502767e-02  3.33781809e-01  3.07239473e-01 -4.98709857e-01\n",
      " -2.88411468e-01  3.99637461e-01 -3.79103929e-01  1.30886823e-01\n",
      " -3.82277459e-01  4.32178974e-01  3.41252536e-01 -9.61953849e-02\n",
      "  2.55399346e-01 -8.42772424e-01  1.07260847e+00 -2.61566341e-01\n",
      " -1.88330874e-01  9.20195431e-02  3.88905674e-01  4.24754381e-01\n",
      " -6.18492842e-01  1.01468593e-01 -1.47814929e-01  8.32523227e-01\n",
      "  4.61690605e-01  7.39773959e-02  7.48764694e-01 -6.44995987e-01\n",
      "  4.08699214e-02 -1.09151185e-01  8.96048099e-02  6.85993075e-01\n",
      " -7.82568872e-01  3.40758681e-01 -5.72178483e-01 -3.53965819e-01\n",
      " -4.54848886e-01 -8.74983191e-01  3.26971829e-01  1.72218859e-01\n",
      "  3.39791447e-01  3.49414825e-01 -4.59523022e-01 -4.55585122e-02\n",
      " -4.18524981e-01  3.56947839e-01 -4.27367315e-02  3.30505908e-01\n",
      "  2.45276347e-01  4.74391609e-01  2.99058855e-01 -5.92166185e-02\n",
      " -9.29249108e-01  1.01825976e+00  5.77700615e-01  6.70397580e-02\n",
      " -2.90921509e-01 -4.99201179e-01 -1.61562681e-01 -3.68755877e-01\n",
      " -1.04167655e-01  6.96168840e-02 -1.98932290e-01  4.47367996e-01\n",
      "  3.57379436e-01 -6.13227308e-01 -1.35768041e-01  1.44510150e-01\n",
      " -5.42835355e-01 -7.39352345e-01  1.99558586e-02 -6.69073820e-01\n",
      " -4.71128166e-01  3.25985432e-01  3.26524824e-01  2.77387351e-01\n",
      " -3.35728317e-01  8.67076367e-02  8.05238336e-02 -6.94401145e-01\n",
      " -7.17620850e-02 -5.68415642e-01  3.36826831e-01 -3.92272413e-01\n",
      " -2.04767749e-01  3.44154596e-01  1.99478865e-03 -2.39541680e-02\n",
      "  3.72231603e-01 -6.12142384e-01 -1.09484398e+00  6.32411480e-01\n",
      "  1.62394047e-02  4.87113833e-01 -6.48896992e-01 -1.54204562e-01\n",
      "  1.57669857e-01  1.29916072e-02  8.72265399e-01 -6.43233776e-01\n",
      "  9.00993943e-02  5.01161456e-01  3.39939356e-01 -8.68372545e-02\n",
      "  7.44387358e-02 -4.95085508e-01 -1.91359669e-02 -1.07424706e-02\n",
      " -8.73581469e-02 -9.40333247e-01 -1.02666050e-01  9.47809458e-01\n",
      " -6.03568792e-01 -6.93418264e-01 -1.45358026e-01  1.35451049e-01\n",
      "  1.77942097e-01  3.99126887e-01  1.36071146e-02  5.48120439e-02\n",
      " -4.22447920e-01 -5.56003571e-01  4.97266322e-01 -2.23233849e-01\n",
      " -1.22499704e-01 -4.03726071e-01 -5.38496554e-01 -4.20081139e-01\n",
      " -1.22849405e-01  4.64086890e-01 -2.39250988e-01  5.53038418e-01\n",
      " -1.47638947e-01  2.28803232e-01 -1.10924453e-01  6.90255523e-01\n",
      " -6.83664307e-02  2.55114883e-01 -3.66992235e-01  1.93352103e-01\n",
      " -1.57739833e-01 -4.06310320e-01 -6.89688325e-02 -3.71744454e-01\n",
      " -3.32022667e-01  5.54017484e-01 -6.41781032e-01 -4.18908983e-01\n",
      "  7.15504944e-01  7.77032077e-01 -8.23112845e-01 -5.47465742e-01\n",
      "  1.97443336e-01 -7.68205285e-01 -3.31042528e-01  4.41432893e-02\n",
      " -2.91007727e-01  9.63079408e-02 -1.16302587e-01  6.07081473e-01\n",
      " -5.29469907e-01  4.95875329e-02 -2.54271984e-01 -4.90074635e-01\n",
      " -1.25994951e-01 -2.17089623e-01  2.76930690e-01 -4.39206749e-01\n",
      "  3.42786908e-01  1.07974857e-01 -6.82649136e-01  3.27178657e-01\n",
      "  5.47234595e-01 -6.34264946e-03  2.14506090e-02 -2.91206062e-01\n",
      "  4.23318297e-01 -5.55746436e-01 -4.55689937e-01  2.82841980e-01\n",
      " -3.39150667e-01  2.14595795e-01 -3.58975619e-01 -4.43109334e-01\n",
      "  1.42261386e-02  5.48423648e-01  2.67798096e-01 -1.04891992e+00\n",
      "  2.76218832e-01  2.98359215e-01  1.02462962e-01 -2.59464324e-01\n",
      " -4.48588371e-01  2.68368483e-01 -2.65559644e-01 -2.00860232e-01\n",
      "  1.37775987e-01  6.76141083e-01 -1.01077783e+00 -2.32920200e-01\n",
      "  3.77390146e-01 -7.22673297e-01 -3.12405378e-02  1.81963995e-01\n",
      " -6.70046210e-01  1.84140906e-01  5.23016751e-01  1.54823631e-01\n",
      "  3.31802458e-01 -1.20428964e-01 -4.09937650e-02  4.93743122e-02\n",
      " -7.55204737e-01  9.00167346e-01  3.20797265e-01  5.21176159e-01\n",
      " -8.94269824e-01  4.76383865e-01 -4.66870844e-01  2.24128991e-01\n",
      " -1.21359408e-01  6.60953104e-01 -6.07551746e-02  6.76888287e-01\n",
      "  6.72854662e-01  5.10300517e-01  4.31716263e-01  3.39828312e-01\n",
      "  2.34468549e-01 -2.30424166e-01  4.00093496e-02  2.25794256e-01\n",
      "  2.18483269e-01 -4.77519989e-01  4.07403767e-01  2.34109521e-01\n",
      "  2.62803614e-01 -5.36542833e-02  6.52165115e-01 -4.25401449e-01\n",
      "  9.84731138e-01 -4.50187922e-02  2.85302371e-01  4.17808414e-01\n",
      "  2.02025995e-01  2.22945035e-01  5.75845540e-01 -3.59237731e-01\n",
      "  1.09566428e-01 -6.20194197e-01  8.64191055e-01 -1.33616716e-01\n",
      "  2.36227840e-01  8.39581192e-02 -4.10860837e-01 -8.86747241e-01\n",
      "  9.60260332e-02 -6.78114891e-01  2.33452320e-01 -4.23577756e-01\n",
      "  4.15417552e-01 -3.41449499e-01  2.25237861e-01  1.57696187e-01\n",
      "  5.64783931e-01  3.97439569e-01  4.00240943e-02  6.79055631e-01\n",
      " -2.74821550e-01 -7.75837243e-01 -2.65079796e-01  3.87678206e-01\n",
      " -3.66342485e-01 -3.70359302e-01  1.19512928e+00  8.19136947e-02\n",
      " -4.38714057e-01  1.00793874e+00 -3.53414536e-01 -1.13291562e+00\n",
      "  6.00263834e-01  5.28997518e-02 -4.44023311e-01  2.45160013e-01\n",
      " -4.06702220e-01 -7.86506534e-01  8.62031162e-01  9.38632131e-01\n",
      "  4.32645500e-01  1.42425150e-01 -3.81490886e-01  4.33969676e-01\n",
      "  1.69233561e-01  1.69654474e-01 -3.16374749e-01 -2.63371825e-01\n",
      " -2.75263637e-01  3.84883061e-02 -5.65363526e-01 -9.94892538e-01\n",
      "  2.10740894e-01  1.80612475e-01  8.27348113e-01  2.67319888e-01\n",
      " -9.64529812e-03 -2.64873892e-01  3.81852537e-01 -6.51543617e-01\n",
      " -5.51598847e-01  7.22913966e-02  6.21542931e-01  5.13851583e-01\n",
      "  2.01737642e-01 -4.92035806e-01 -5.49959719e-01 -7.92151332e-01\n",
      " -5.53897977e-01 -3.87737602e-01 -5.06842136e-01 -5.65647125e-01\n",
      " -2.37289652e-01 -2.99360715e-02 -1.21662760e+00 -2.41065755e-01\n",
      " -3.55620198e-02  4.00544792e-01  6.08736515e-01 -4.15809631e-01\n",
      "  3.26994568e-01  5.29506803e-01 -2.13660583e-01  6.65892124e-01\n",
      " -3.49594921e-01 -1.78080976e-01 -3.26297760e-01 -4.89025056e-01\n",
      " -5.81588447e-02 -1.01689684e+00  1.73731193e-01 -5.97332478e-01\n",
      " -1.79905251e-01 -5.65311074e-01 -3.61194134e-01 -5.20774007e-01]\n",
      "Cluster Numbers for Data Points:\n",
      "[0 0 0 0 0 0 0 0 0 0 2 2 2 2 2 2 1 2 2 2 4 4 4 4 4 4 4 4 4 1 1 1 1 1 1 1 1\n",
      " 1 1 3 3 3 3 3 3 3 3 3 3]\n"
     ]
    }
   ],
   "source": [
    "# Print the cluster centroids and cluster numbers\n",
    "for cluster_num, centroid in enumerate(centroids):\n",
    "    print(f\"Cluster {cluster_num} Centroid: {centroid}\")\n",
    "\n",
    "# Print the cluster number for each data point\n",
    "print(\"Cluster Numbers for Data Points:\")\n",
    "print(cluster_lables)"
   ]
  },
  {
   "cell_type": "code",
   "execution_count": 45,
   "metadata": {},
   "outputs": [
    {
     "data": {
      "text/html": [
       "<div>\n",
       "<style scoped>\n",
       "    .dataframe tbody tr th:only-of-type {\n",
       "        vertical-align: middle;\n",
       "    }\n",
       "\n",
       "    .dataframe tbody tr th {\n",
       "        vertical-align: top;\n",
       "    }\n",
       "\n",
       "    .dataframe thead th {\n",
       "        text-align: right;\n",
       "    }\n",
       "</style>\n",
       "<table border=\"1\" class=\"dataframe\">\n",
       "  <thead>\n",
       "    <tr style=\"text-align: right;\">\n",
       "      <th></th>\n",
       "      <th>index</th>\n",
       "      <th>Topic</th>\n",
       "      <th>Sentence</th>\n",
       "      <th>embedding</th>\n",
       "      <th>Cluster</th>\n",
       "    </tr>\n",
       "  </thead>\n",
       "  <tbody>\n",
       "    <tr>\n",
       "      <th>0</th>\n",
       "      <td>0</td>\n",
       "      <td>Soccer World Cup 2020</td>\n",
       "      <td>The 2020 FIFA World Cup, a globally anticipated event, brought together nations from around the world.</td>\n",
       "      <td>[-0.42515686, -0.17480914, 1.8467963, 0.15087691, -0.009726069, -1.5424263, -0.6151803, 0.14795646, 0.2542171, -1.0142606, 0.27748397, -0.29301974, 0.15616056, 1.4512328, 1.20133, 0.12567022, 0.04...</td>\n",
       "      <td>0</td>\n",
       "    </tr>\n",
       "    <tr>\n",
       "      <th>1</th>\n",
       "      <td>1</td>\n",
       "      <td>Soccer World Cup 2020</td>\n",
       "      <td>Hosted in multiple cities, the 2020 Soccer World Cup was a month-long celebration of the beautiful game.</td>\n",
       "      <td>[-0.87892085, -0.20032081, 1.4006628, 0.29781196, 0.30973944, -1.5553259, -0.3482714, 0.84209317, 0.018096512, -0.5282332, 0.15362588, -1.0313705, 0.62738407, 0.63816476, 0.55353403, 0.25887442, 0...</td>\n",
       "      <td>0</td>\n",
       "    </tr>\n",
       "  </tbody>\n",
       "</table>\n",
       "</div>"
      ],
      "text/plain": [
       "   index                  Topic  \\\n",
       "0      0  Soccer World Cup 2020   \n",
       "1      1  Soccer World Cup 2020   \n",
       "\n",
       "                                                                                                   Sentence  \\\n",
       "0    The 2020 FIFA World Cup, a globally anticipated event, brought together nations from around the world.   \n",
       "1  Hosted in multiple cities, the 2020 Soccer World Cup was a month-long celebration of the beautiful game.   \n",
       "\n",
       "                                                                                                                                                                                                 embedding  \\\n",
       "0  [-0.42515686, -0.17480914, 1.8467963, 0.15087691, -0.009726069, -1.5424263, -0.6151803, 0.14795646, 0.2542171, -1.0142606, 0.27748397, -0.29301974, 0.15616056, 1.4512328, 1.20133, 0.12567022, 0.04...   \n",
       "1  [-0.87892085, -0.20032081, 1.4006628, 0.29781196, 0.30973944, -1.5553259, -0.3482714, 0.84209317, 0.018096512, -0.5282332, 0.15362588, -1.0313705, 0.62738407, 0.63816476, 0.55353403, 0.25887442, 0...   \n",
       "\n",
       "   Cluster  \n",
       "0        0  \n",
       "1        0  "
      ]
     },
     "execution_count": 45,
     "metadata": {},
     "output_type": "execute_result"
    }
   ],
   "source": [
    "df.head(2)"
   ]
  },
  {
   "cell_type": "code",
   "execution_count": 47,
   "metadata": {},
   "outputs": [],
   "source": [
    "import numpy as np\n",
    "import pandas as pd\n",
    "from sklearn.manifold import TSNE\n",
    "import matplotlib\n",
    "import matplotlib.pyplot as plt\n",
    "import seaborn as sns\n",
    "import time\n",
    "import os"
   ]
  },
  {
   "cell_type": "code",
   "execution_count": 49,
   "metadata": {},
   "outputs": [
    {
     "data": {
      "text/plain": [
       "Text(0, 0.5, 'Axis 2')"
      ]
     },
     "execution_count": 49,
     "metadata": {},
     "output_type": "execute_result"
    },
    {
     "data": {
      "image/png": "[encoded data removed]",
      "text/plain": [
       "<Figure size 1500x800 with 1 Axes>"
      ]
     },
     "metadata": {},
     "output_type": "display_data"
    }
   ],
   "source": [
    "plt.rcParams['figure.figsize'] = (15, 8) \n",
    "\n",
    "tsne = TSNE(n_components=2, perplexity=15, random_state=42, init='random', learning_rate=200)\n",
    "vis_dims2 = tsne.fit_transform(matrix)\n",
    "\n",
    "x = [x for x,y in vis_dims2]\n",
    "y = [y for x,y in vis_dims2]\n",
    "\n",
    "#palette = sns.color_palette(\"inferno\", num_cluster).as_hex() \n",
    "palette = sns.color_palette(\"husl\", 5).as_hex()\n",
    "\n",
    "for category, color in enumerate(palette):\n",
    "    xs = np.array(x)[df.Cluster==category]\n",
    "    ys = np.array(y)[df.Cluster==category]\n",
    "    plt.scatter(xs, ys, color=color, alpha=0.3, s=50)\n",
    "\n",
    "    avg_x = xs.mean()\n",
    "    avg_y = ys.mean()\n",
    "    \n",
    "    plt.scatter(avg_x, avg_y, marker='*', color='black', s=300)\n",
    "plt.title(\"Reduced Dimension: Embeddings visualized using t-SNE\", size=17, fontweight=\"bold\")\n",
    "plt.xlabel('Axis 1',size=13, fontweight=\"bold\")\n",
    "plt.ylabel('Axis 2',size=13, fontweight=\"bold\")"
   ]
  },
  {
   "cell_type": "code",
   "execution_count": 55,
   "metadata": {},
   "outputs": [],
   "source": [
    "x = [x for x,y in vis_dims2]\n",
    "y = [y for x,y in vis_dims2]\n"
   ]
  },
  {
   "cell_type": "code",
   "execution_count": 56,
   "metadata": {},
   "outputs": [
    {
     "data": {
      "text/plain": [
       "<matplotlib.collections.PathCollection at 0x210a7c4ee90>"
      ]
     },
     "execution_count": 56,
     "metadata": {},
     "output_type": "execute_result"
    },
    {
     "data": {
      "image/png": "[encoded data removed]",
      "text/plain": [
       "<Figure size 1500x800 with 1 Axes>"
      ]
     },
     "metadata": {},
     "output_type": "display_data"
    }
   ],
   "source": [
    "plt.scatter(x, y)"
   ]
  },
  {
   "cell_type": "code",
   "execution_count": null,
   "metadata": {},
   "outputs": [],
   "source": []
  },
  {
   "cell_type": "code",
   "execution_count": null,
   "metadata": {},
   "outputs": [],
   "source": []
  },
  {
   "cell_type": "code",
   "execution_count": null,
   "metadata": {},
   "outputs": [],
   "source": []
  },
  {
   "cell_type": "code",
   "execution_count": null,
   "metadata": {},
   "outputs": [],
   "source": []
  },
  {
   "cell_type": "code",
   "execution_count": 61,
   "metadata": {},
   "outputs": [
    {
     "data": {
      "text/plain": [
       "(49, 49)"
      ]
     },
     "execution_count": 61,
     "metadata": {},
     "output_type": "execute_result"
    }
   ],
   "source": [
    "len(x), len(y)"
   ]
  },
  {
   "cell_type": "code",
   "execution_count": 77,
   "metadata": {},
   "outputs": [
    {
     "data": {
      "text/plain": [
       "array([[-64.92116 , -22.059519]], dtype=float32)"
      ]
     },
     "execution_count": 77,
     "metadata": {},
     "output_type": "execute_result"
    }
   ],
   "source": [
    "lst"
   ]
  },
  {
   "cell_type": "code",
   "execution_count": 83,
   "metadata": {},
   "outputs": [
    {
     "data": {
      "image/png": "[encoded data removed]",
      "text/plain": [
       "<Figure size 1500x800 with 1 Axes>"
      ]
     },
     "metadata": {},
     "output_type": "display_data"
    },
    {
     "data": {
      "image/png": "[encoded data removed]",
      "text/plain": [
       "<Figure size 1500x800 with 1 Axes>"
      ]
     },
     "metadata": {},
     "output_type": "display_data"
    }
   ],
   "source": [
    "#plt.rcParams['figure.figsize'] = (15, 8) \n",
    "\n",
    "palette = sns.color_palette(\"husl\", 5).as_hex()\n",
    "\n",
    "lst=[]\n",
    "for category, color in enumerate(palette):\n",
    "    xs = np.array(x)[df.Cluster==category]\n",
    "    ys = np.array(y)[df.Cluster==category]\n",
    "    plt.scatter(xs, ys, color=color, alpha=0.3, s=50)\n",
    "\n",
    "    avg_x = xs.mean()\n",
    "    avg_y = ys.mean()\n",
    "\n",
    "    lst.append([avg_x, avg_y])\n",
    "    \n",
    "    #plt.scatter(avg_x, avg_y, marker='*', color='black', s=300)\n",
    "\n",
    "\n",
    "lst=np.array(lst)\n",
    "\n",
    "from scipy.spatial import Voronoi, voronoi_plot_2d\n",
    "vor = Voronoi(lst)\n",
    "import matplotlib.pyplot as plt\n",
    "fig = voronoi_plot_2d(vor)\n",
    "\n",
    "\n",
    "#plt.show()\n",
    "\n",
    "    "
   ]
  },
  {
   "cell_type": "code",
   "execution_count": 84,
   "metadata": {},
   "outputs": [
    {
     "data": {
      "text/plain": [
       "array([[-0.41817066,  0.13105027,  1.1183399 , ..., -0.28363967,\n",
       "         0.09699684,  0.20333867],\n",
       "       [-0.18692432,  0.26072162,  0.97205603, ...,  0.51830906,\n",
       "        -0.53757656,  0.03525034],\n",
       "       [-0.02437347,  0.2225582 ,  1.2443924 , ...,  0.24219632,\n",
       "        -0.8283535 ,  0.2883847 ],\n",
       "       [-0.47402304,  0.44249922,  0.913081  , ..., -0.6843335 ,\n",
       "        -0.7435417 , -0.04688117],\n",
       "       [-0.5432697 ,  0.57533014,  0.5941038 , ..., -0.5653111 ,\n",
       "        -0.36119413, -0.520774  ]], dtype=float32)"
      ]
     },
     "execution_count": 84,
     "metadata": {},
     "output_type": "execute_result"
    }
   ],
   "source": [
    "centroids"
   ]
  },
  {
   "cell_type": "code",
   "execution_count": 92,
   "metadata": {},
   "outputs": [
    {
     "data": {
      "text/plain": [
       "(-120.0, 120.0)"
      ]
     },
     "execution_count": 92,
     "metadata": {},
     "output_type": "execute_result"
    },
    {
     "data": {
      "image/png": "[encoded data removed]",
      "text/plain": [
       "<Figure size 1500x800 with 1 Axes>"
      ]
     },
     "metadata": {},
     "output_type": "display_data"
    }
   ],
   "source": [
    "#plt.rcParams['figure.figsize'] = (15, 8) \n",
    "# Create a Voronoi diagram\n",
    "vor = Voronoi(lst)\n",
    "\n",
    "# Plot Voronoi diagram\n",
    "voronoi_plot_2d(vor, show_vertices=False, show_points=False, line_colors='gray', line_width=1, line_alpha=0.5)\n",
    "\n",
    "\n",
    "palette = sns.color_palette(\"husl\", 5).as_hex()\n",
    "\n",
    "lst=[]\n",
    "for category, color in enumerate(palette):\n",
    "    xs = np.array(x)[df.Cluster==category]\n",
    "    ys = np.array(y)[df.Cluster==category]\n",
    "    plt.scatter(xs, ys, color=color, alpha=0.3, s=50)\n",
    "\n",
    "    avg_x = xs.mean()\n",
    "    avg_y = ys.mean()\n",
    "\n",
    "    lst.append([avg_x, avg_y])\n",
    "    \n",
    "    plt.scatter(avg_x, avg_y, marker='*', color='black', s=300)\n",
    "\n",
    "plt.xlim(-120,120)\n",
    "\n",
    "\n",
    "# lst=np.array(lst)\n",
    "\n",
    "# from scipy.spatial import Voronoi, voronoi_plot_2d\n",
    "# vor = Voronoi(lst)\n",
    "# import matplotlib.pyplot as plt\n",
    "# fig = voronoi_plot_2d(vor)\n",
    "\n",
    "\n",
    "# #plt.show()\n",
    "\n",
    "    "
   ]
  },
  {
   "cell_type": "code",
   "execution_count": 87,
   "metadata": {},
   "outputs": [
    {
     "data": {
      "text/plain": [
       "array([[   6.555936,  -81.40666 ],\n",
       "       [  26.628607,   43.57777 ],\n",
       "       [  66.75273 ,   91.81255 ],\n",
       "       [ -79.65934 , -102.71316 ],\n",
       "       [ -64.92116 ,  -22.059519]], dtype=float32)"
      ]
     },
     "execution_count": 87,
     "metadata": {},
     "output_type": "execute_result"
    }
   ],
   "source": [
    "lst"
   ]
  },
  {
   "cell_type": "code",
   "execution_count": 72,
   "metadata": {},
   "outputs": [
    {
     "data": {
      "text/plain": [
       "array([[-0.41817066,  0.13105027,  1.1183399 , ..., -0.28363967,\n",
       "         0.09699684,  0.20333867],\n",
       "       [-0.18692432,  0.26072162,  0.97205603, ...,  0.51830906,\n",
       "        -0.53757656,  0.03525034],\n",
       "       [-0.02437347,  0.2225582 ,  1.2443924 , ...,  0.24219632,\n",
       "        -0.8283535 ,  0.2883847 ],\n",
       "       [-0.47402304,  0.44249922,  0.913081  , ..., -0.6843335 ,\n",
       "        -0.7435417 , -0.04688117],\n",
       "       [-0.5432697 ,  0.57533014,  0.5941038 , ..., -0.5653111 ,\n",
       "        -0.36119413, -0.520774  ]], dtype=float32)"
      ]
     },
     "execution_count": 72,
     "metadata": {},
     "output_type": "execute_result"
    }
   ],
   "source": [
    "centroids"
   ]
  },
  {
   "cell_type": "code",
   "execution_count": null,
   "metadata": {},
   "outputs": [],
   "source": []
  },
  {
   "cell_type": "code",
   "execution_count": null,
   "metadata": {},
   "outputs": [],
   "source": []
  },
  {
   "cell_type": "code",
   "execution_count": null,
   "metadata": {},
   "outputs": [],
   "source": []
  },
  {
   "cell_type": "code",
   "execution_count": null,
   "metadata": {},
   "outputs": [],
   "source": []
  },
  {
   "cell_type": "code",
   "execution_count": null,
   "metadata": {},
   "outputs": [],
   "source": []
  },
  {
   "cell_type": "code",
   "execution_count": null,
   "metadata": {},
   "outputs": [],
   "source": []
  },
  {
   "cell_type": "code",
   "execution_count": null,
   "metadata": {},
   "outputs": [],
   "source": []
  },
  {
   "cell_type": "code",
   "execution_count": 64,
   "metadata": {},
   "outputs": [],
   "source": [
    "tt=[]\n",
    "for xx, yy in zip(x, y):\n",
    "    tt.append([xx,yy])"
   ]
  },
  {
   "cell_type": "code",
   "execution_count": 67,
   "metadata": {},
   "outputs": [],
   "source": [
    "tt=np.array(tt)"
   ]
  },
  {
   "cell_type": "code",
   "execution_count": 75,
   "metadata": {},
   "outputs": [
    {
     "data": {
      "text/plain": [
       "array([[  -6.445908  , -103.302666  ],\n",
       "       [   9.729139  , -109.11126   ],\n",
       "       [  23.621773  ,  -79.19589   ],\n",
       "       [  -8.83166   ,  -65.06194   ],\n",
       "       [ -10.631714  ,  -85.491875  ],\n",
       "       [   4.5082073 ,  -73.81523   ],\n",
       "       [  15.168807  ,  -58.51086   ],\n",
       "       [  10.711408  ,  -88.54219   ],\n",
       "       [  27.883678  ,  -96.84638   ],\n",
       "       [  -0.15437251,  -54.18828   ],\n",
       "       [  46.57889   ,   90.71536   ],\n",
       "       [  47.65307   ,  106.377075  ],\n",
       "       [  79.81238   ,   89.4582    ],\n",
       "       [  94.23538   ,   70.71761   ],\n",
       "       [  62.305218  ,   89.974495  ],\n",
       "       [  71.38832   ,   74.06985   ],\n",
       "       [  47.770245  ,   67.14111   ],\n",
       "       [  91.61817   ,   98.854     ],\n",
       "       [  32.278763  ,  101.57816   ],\n",
       "       [  74.90434   ,  104.56822   ],\n",
       "       [ -68.840416  ,   -1.9653544 ],\n",
       "       [ -54.08054   ,  -28.241837  ],\n",
       "       [ -77.3623    ,  -16.763897  ],\n",
       "       [ -96.50251   ,  -14.134314  ],\n",
       "       [ -66.58611   ,  -37.25744   ],\n",
       "       [ -83.81617   ,  -32.6536    ],\n",
       "       [ -40.969624  ,  -35.670578  ],\n",
       "       [ -37.835426  ,  -18.863821  ],\n",
       "       [ -58.29727   ,  -12.984837  ],\n",
       "       [  14.938178  ,   42.19448   ],\n",
       "       [  28.352251  ,   38.57822   ],\n",
       "       [  11.418312  ,   59.40167   ],\n",
       "       [  48.879337  ,   24.68181   ],\n",
       "       [  24.286928  ,   19.868011  ],\n",
       "       [ -13.465525  ,   43.86115   ],\n",
       "       [   1.1708307 ,   28.382603  ],\n",
       "       [  61.47098   ,   54.03831   ],\n",
       "       [  40.87474   ,   45.507935  ],\n",
       "       [  27.21839   ,   55.700157  ],\n",
       "       [ -85.41138   , -102.32993   ],\n",
       "       [-104.49053   ,  -93.22948   ],\n",
       "       [ -70.42933   , -108.798065  ],\n",
       "       [ -88.60739   , -124.653404  ],\n",
       "       [ -51.604073  , -105.60781   ],\n",
       "       [ -74.05946   ,  -90.99189   ],\n",
       "       [ -58.573902  ,  -74.60775   ],\n",
       "       [ -74.78825   , -134.43951   ],\n",
       "       [ -89.914696  ,  -83.63996   ],\n",
       "       [ -98.71433   , -108.83385   ]], dtype=float32)"
      ]
     },
     "execution_count": 75,
     "metadata": {},
     "output_type": "execute_result"
    }
   ],
   "source": [
    "tt"
   ]
  },
  {
   "cell_type": "code",
   "execution_count": 68,
   "metadata": {},
   "outputs": [],
   "source": [
    "from scipy.spatial import Voronoi, voronoi_plot_2d\n",
    "vor = Voronoi(tt)"
   ]
  },
  {
   "cell_type": "code",
   "execution_count": 69,
   "metadata": {},
   "outputs": [
    {
     "data": {
      "image/png": "[encoded data removed]",
      "text/plain": [
       "<Figure size 1500x800 with 1 Axes>"
      ]
     },
     "metadata": {},
     "output_type": "display_data"
    }
   ],
   "source": [
    "import matplotlib.pyplot as plt\n",
    "fig = voronoi_plot_2d(vor)\n",
    "plt.show()"
   ]
  },
  {
   "cell_type": "code",
   "execution_count": null,
   "metadata": {},
   "outputs": [],
   "source": []
  },
  {
   "cell_type": "code",
   "execution_count": null,
   "metadata": {},
   "outputs": [],
   "source": []
  },
  {
   "cell_type": "code",
   "execution_count": 27,
   "metadata": {},
   "outputs": [
    {
     "data": {
      "text/plain": [
       "array([[-0.42515686, -0.17480914,  1.8467963 , ..., -0.39403397,\n",
       "         0.19126718, -0.14854631],\n",
       "       [-0.87892085, -0.20032081,  1.4006628 , ..., -0.12888849,\n",
       "         0.5168746 ,  0.50524783],\n",
       "       [-0.9164636 ,  0.485734  ,  0.835597  , ..., -0.94731915,\n",
       "         0.17077836, -0.06990501],\n",
       "       ...,\n",
       "       [-0.26745307,  0.6485195 ,  0.25240713, ..., -0.49776563,\n",
       "        -0.55864716,  0.41252035],\n",
       "       [-0.6442571 ,  0.79322594,  0.6519614 , ..., -0.881223  ,\n",
       "        -0.9503322 ,  0.47097152],\n",
       "       [-0.43729922,  0.41195118,  1.1190987 , ..., -0.9840016 ,\n",
       "        -0.17112155, -0.13521807]], dtype=float32)"
      ]
     },
     "execution_count": 27,
     "metadata": {},
     "output_type": "execute_result"
    }
   ],
   "source": [
    "np.array(list(df['embedding']))"
   ]
  },
  {
   "cell_type": "code",
   "execution_count": null,
   "metadata": {},
   "outputs": [],
   "source": []
  },
  {
   "cell_type": "code",
   "execution_count": 28,
   "metadata": {},
   "outputs": [],
   "source": [
    "(centroids, assignments) = kmeans2(np.array(list(df['embedding'])), 5, iter=32)"
   ]
  },
  {
   "cell_type": "code",
   "execution_count": 30,
   "metadata": {},
   "outputs": [
    {
     "data": {
      "text/plain": [
       "5"
      ]
     },
     "execution_count": 30,
     "metadata": {},
     "output_type": "execute_result"
    }
   ],
   "source": [
    "len(centroids)"
   ]
  },
  {
   "cell_type": "code",
   "execution_count": null,
   "metadata": {},
   "outputs": [],
   "source": []
  },
  {
   "cell_type": "code",
   "execution_count": null,
   "metadata": {},
   "outputs": [],
   "source": []
  },
  {
   "cell_type": "code",
   "execution_count": null,
   "metadata": {},
   "outputs": [],
   "source": []
  },
  {
   "cell_type": "markdown",
   "metadata": {},
   "source": [
    "## Quantization"
   ]
  },
  {
   "cell_type": "code",
   "execution_count": 122,
   "metadata": {},
   "outputs": [],
   "source": [
    "## Quantization"
   ]
  },
  {
   "cell_type": "code",
   "execution_count": null,
   "metadata": {},
   "outputs": [],
   "source": []
  },
  {
   "cell_type": "code",
   "execution_count": null,
   "metadata": {},
   "outputs": [],
   "source": []
  },
  {
   "cell_type": "code",
   "execution_count": null,
   "metadata": {},
   "outputs": [],
   "source": []
  },
  {
   "cell_type": "code",
   "execution_count": null,
   "metadata": {},
   "outputs": [],
   "source": []
  },
  {
   "cell_type": "code",
   "execution_count": null,
   "metadata": {},
   "outputs": [],
   "source": []
  },
  {
   "cell_type": "code",
   "execution_count": null,
   "metadata": {},
   "outputs": [],
   "source": []
  },
  {
   "cell_type": "code",
   "execution_count": 106,
   "metadata": {},
   "outputs": [
    {
     "data": {
      "text/plain": [
       "array([[20, 28, 22]], dtype=int64)"
      ]
     },
     "execution_count": 106,
     "metadata": {},
     "output_type": "execute_result"
    }
   ],
   "source": [
    "I"
   ]
  },
  {
   "cell_type": "code",
   "execution_count": null,
   "metadata": {},
   "outputs": [],
   "source": [
    "index.train()"
   ]
  },
  {
   "cell_type": "code",
   "execution_count": 97,
   "metadata": {},
   "outputs": [
    {
     "data": {
      "text/plain": [
       "array([[-0.42515695, -0.17480928,  1.8467965 , ..., -0.39403406,\n",
       "         0.19126715, -0.1485463 ],\n",
       "       [-0.8789206 , -0.20032091,  1.4006633 , ..., -0.12888885,\n",
       "         0.5168744 ,  0.5052479 ],\n",
       "       [-0.9164636 ,  0.48573413,  0.835597  , ..., -0.9473189 ,\n",
       "         0.17077821, -0.06990491],\n",
       "       ...,\n",
       "       [-0.26745307,  0.6485193 ,  0.2524073 , ..., -0.49776572,\n",
       "        -0.55864733,  0.4125203 ],\n",
       "       [-0.6442572 ,  0.79322594,  0.65196157, ..., -0.8812224 ,\n",
       "        -0.950332  ,  0.47097167],\n",
       "       [-0.43729913,  0.41195127,  1.1190987 , ..., -0.98400164,\n",
       "        -0.17112163, -0.13521804]], dtype=float32)"
      ]
     },
     "execution_count": 97,
     "metadata": {},
     "output_type": "execute_result"
    }
   ],
   "source": [
    "sentence_embeddings"
   ]
  },
  {
   "cell_type": "code",
   "execution_count": null,
   "metadata": {},
   "outputs": [],
   "source": []
  },
  {
   "cell_type": "code",
   "execution_count": null,
   "metadata": {},
   "outputs": [],
   "source": []
  },
  {
   "cell_type": "code",
   "execution_count": 94,
   "metadata": {},
   "outputs": [
    {
     "data": {
      "text/plain": [
       "<faiss.swigfaiss.IndexFlatIP; proxy of <Swig Object of type 'faiss::IndexFlatIP *' at 0x00000220011E0A20> >"
      ]
     },
     "execution_count": 94,
     "metadata": {},
     "output_type": "execute_result"
    }
   ],
   "source": [
    "quantizer"
   ]
  },
  {
   "cell_type": "code",
   "execution_count": null,
   "metadata": {},
   "outputs": [],
   "source": []
  },
  {
   "cell_type": "code",
   "execution_count": null,
   "metadata": {},
   "outputs": [],
   "source": []
  },
  {
   "cell_type": "code",
   "execution_count": null,
   "metadata": {},
   "outputs": [],
   "source": []
  },
  {
   "cell_type": "code",
   "execution_count": 84,
   "metadata": {},
   "outputs": [
    {
     "data": {
      "text/plain": [
       "([155.19772,\n",
       "  95.0186,\n",
       "  84.033005,\n",
       "  66.216194,\n",
       "  82.4967,\n",
       "  50.206688,\n",
       "  74.25874,\n",
       "  75.12683,\n",
       "  119.66768,\n",
       "  58.274055,\n",
       "  38.979294,\n",
       "  33.535236,\n",
       "  67.57256,\n",
       "  41.707336,\n",
       "  46.583885,\n",
       "  45.57875,\n",
       "  44.284096,\n",
       "  57.851154,\n",
       "  34.28591,\n",
       "  72.33887,\n",
       "  198.2804,\n",
       "  133.53392,\n",
       "  175.23697,\n",
       "  116.05516,\n",
       "  116.32213,\n",
       "  149.47972,\n",
       "  117.24887,\n",
       "  127.70566,\n",
       "  184.62369,\n",
       "  21.832623,\n",
       "  29.453102,\n",
       "  21.391949,\n",
       "  2.6531005,\n",
       "  28.133362,\n",
       "  36.21993,\n",
       "  31.779198,\n",
       "  35.057487,\n",
       "  38.706673,\n",
       "  36.377842,\n",
       "  77.74094,\n",
       "  80.36843,\n",
       "  62.381065,\n",
       "  37.004543,\n",
       "  45.26575,\n",
       "  88.090645,\n",
       "  53.43151,\n",
       "  25.788511,\n",
       "  70.1775,\n",
       "  111.988335],\n",
       " [15.408841133117676,\n",
       "  18.943456649780273,\n",
       "  19.75973892211914,\n",
       "  20.474557876586914,\n",
       "  19.392013549804688,\n",
       "  21.283416748046875,\n",
       "  19.625619888305664,\n",
       "  19.85055923461914,\n",
       "  17.203113555908203,\n",
       "  20.712594985961914,\n",
       "  21.880653381347656,\n",
       "  22.119953155517578,\n",
       "  20.537029266357422,\n",
       "  21.44305992126465,\n",
       "  21.569242477416992,\n",
       "  21.669479370117188,\n",
       "  21.42273712158203,\n",
       "  20.76072120666504,\n",
       "  21.940349578857422,\n",
       "  19.76115608215332,\n",
       "  12.171476364135742,\n",
       "  16.797073364257812,\n",
       "  13.633045196533203,\n",
       "  17.625825881958008,\n",
       "  17.566072463989258,\n",
       "  15.40494155883789,\n",
       "  17.34334945678711,\n",
       "  16.593116760253906,\n",
       "  13.579171180725098,\n",
       "  22.417646408081055,\n",
       "  22.309263229370117,\n",
       "  22.815692901611328,\n",
       "  23.607315063476562,\n",
       "  22.301692962646484,\n",
       "  21.935537338256836,\n",
       "  21.992931365966797,\n",
       "  22.016855239868164,\n",
       "  22.01239776611328,\n",
       "  21.99883460998535,\n",
       "  20.116844177246094,\n",
       "  19.227598190307617,\n",
       "  20.586917877197266,\n",
       "  21.965911865234375,\n",
       "  20.847265243530273,\n",
       "  19.371963500976562,\n",
       "  20.94151496887207,\n",
       "  22.33850860595703,\n",
       "  19.70229148864746,\n",
       "  17.941476821899414])"
      ]
     },
     "execution_count": 84,
     "metadata": {},
     "output_type": "execute_result"
    }
   ],
   "source": [
    "distance1,distance"
   ]
  },
  {
   "cell_type": "code",
   "execution_count": 81,
   "metadata": {},
   "outputs": [
    {
     "data": {
      "text/plain": [
       "[32, 31, 29]"
      ]
     },
     "execution_count": 81,
     "metadata": {},
     "output_type": "execute_result"
    }
   ],
   "source": [
    "finding_index_smallvalue(distance1, 3)"
   ]
  },
  {
   "cell_type": "code",
   "execution_count": 82,
   "metadata": {},
   "outputs": [
    {
     "data": {
      "text/html": [
       "<div>\n",
       "<style scoped>\n",
       "    .dataframe tbody tr th:only-of-type {\n",
       "        vertical-align: middle;\n",
       "    }\n",
       "\n",
       "    .dataframe tbody tr th {\n",
       "        vertical-align: top;\n",
       "    }\n",
       "\n",
       "    .dataframe thead th {\n",
       "        text-align: right;\n",
       "    }\n",
       "</style>\n",
       "<table border=\"1\" class=\"dataframe\">\n",
       "  <thead>\n",
       "    <tr style=\"text-align: right;\">\n",
       "      <th></th>\n",
       "      <th>index</th>\n",
       "      <th>Topic</th>\n",
       "      <th>Sentence</th>\n",
       "    </tr>\n",
       "  </thead>\n",
       "  <tbody>\n",
       "    <tr>\n",
       "      <th>32</th>\n",
       "      <td>32</td>\n",
       "      <td>Keeping Pets at Home</td>\n",
       "      <td>Cats, independent and graceful, bring tranquility and comfort to homes with their purring and soft fur.</td>\n",
       "    </tr>\n",
       "    <tr>\n",
       "      <th>31</th>\n",
       "      <td>31</td>\n",
       "      <td>Keeping Pets at Home</td>\n",
       "      <td>Dogs, known for loyalty, provide affection, protection, and endless joy, making them cherished members of many households.</td>\n",
       "    </tr>\n",
       "    <tr>\n",
       "      <th>29</th>\n",
       "      <td>29</td>\n",
       "      <td>Keeping Pets at Home</td>\n",
       "      <td>Keeping pets at home is a rewarding and fulfilling experience, where pets, whether dogs, cats, birds, or reptiles, become beloved members of the family.</td>\n",
       "    </tr>\n",
       "  </tbody>\n",
       "</table>\n",
       "</div>"
      ],
      "text/plain": [
       "    index                 Topic  \\\n",
       "32     32  Keeping Pets at Home   \n",
       "31     31  Keeping Pets at Home   \n",
       "29     29  Keeping Pets at Home   \n",
       "\n",
       "                                                                                                                                                    Sentence  \n",
       "32                                                   Cats, independent and graceful, bring tranquility and comfort to homes with their purring and soft fur.  \n",
       "31                                Dogs, known for loyalty, provide affection, protection, and endless joy, making them cherished members of many households.  \n",
       "29  Keeping pets at home is a rewarding and fulfilling experience, where pets, whether dogs, cats, birds, or reptiles, become beloved members of the family.  "
      ]
     },
     "execution_count": 82,
     "metadata": {},
     "output_type": "execute_result"
    }
   ],
   "source": [
    "df.iloc[[32, 31, 29]]"
   ]
  },
  {
   "cell_type": "code",
   "execution_count": 70,
   "metadata": {},
   "outputs": [
    {
     "data": {
      "text/plain": [
       "[15.408841133117676,\n",
       " 18.943456649780273,\n",
       " 19.75973892211914,\n",
       " 20.474557876586914,\n",
       " 19.392013549804688,\n",
       " 21.283416748046875,\n",
       " 19.625619888305664,\n",
       " 19.85055923461914,\n",
       " 17.203113555908203,\n",
       " 20.712594985961914,\n",
       " 21.880653381347656,\n",
       " 22.119953155517578,\n",
       " 20.537029266357422,\n",
       " 21.44305992126465,\n",
       " 21.569242477416992,\n",
       " 21.669479370117188,\n",
       " 21.42273712158203,\n",
       " 20.76072120666504,\n",
       " 21.940349578857422,\n",
       " 19.76115608215332,\n",
       " 12.171476364135742,\n",
       " 16.797073364257812,\n",
       " 13.633045196533203,\n",
       " 17.625825881958008,\n",
       " 17.566072463989258,\n",
       " 15.40494155883789,\n",
       " 17.34334945678711,\n",
       " 16.593116760253906,\n",
       " 13.579171180725098,\n",
       " 22.417646408081055,\n",
       " 22.309263229370117,\n",
       " 22.815692901611328,\n",
       " 23.607315063476562,\n",
       " 22.301692962646484,\n",
       " 21.935537338256836,\n",
       " 21.992931365966797,\n",
       " 22.016855239868164,\n",
       " 22.01239776611328,\n",
       " 21.99883460998535,\n",
       " 20.116844177246094,\n",
       " 19.227598190307617,\n",
       " 20.586917877197266,\n",
       " 21.965911865234375,\n",
       " 20.847265243530273,\n",
       " 19.371963500976562,\n",
       " 20.94151496887207,\n",
       " 22.33850860595703,\n",
       " 19.70229148864746,\n",
       " 17.941476821899414]"
      ]
     },
     "execution_count": 70,
     "metadata": {},
     "output_type": "execute_result"
    }
   ],
   "source": [
    "distance"
   ]
  },
  {
   "cell_type": "code",
   "execution_count": 69,
   "metadata": {},
   "outputs": [
    {
     "data": {
      "text/plain": [
       "[155.19772,\n",
       " 95.0186,\n",
       " 84.033005,\n",
       " 66.216194,\n",
       " 82.4967,\n",
       " 50.206688,\n",
       " 74.25874,\n",
       " 75.12683,\n",
       " 119.66768,\n",
       " 58.274055,\n",
       " 38.979294,\n",
       " 33.535236,\n",
       " 67.57256,\n",
       " 41.707336,\n",
       " 46.583885,\n",
       " 45.57875,\n",
       " 44.284096,\n",
       " 57.851154,\n",
       " 34.28591,\n",
       " 72.33887,\n",
       " 198.2804,\n",
       " 133.53392,\n",
       " 175.23697,\n",
       " 116.05516,\n",
       " 116.32213,\n",
       " 149.47972,\n",
       " 117.24887,\n",
       " 127.70566,\n",
       " 184.62369,\n",
       " 21.832623,\n",
       " 29.453102,\n",
       " 21.391949,\n",
       " 2.6531005,\n",
       " 28.133362,\n",
       " 36.21993,\n",
       " 31.779198,\n",
       " 35.057487,\n",
       " 38.706673,\n",
       " 36.377842,\n",
       " 77.74094,\n",
       " 80.36843,\n",
       " 62.381065,\n",
       " 37.004543,\n",
       " 45.26575,\n",
       " 88.090645,\n",
       " 53.43151,\n",
       " 25.788511,\n",
       " 70.1775,\n",
       " 111.988335]"
      ]
     },
     "execution_count": 69,
     "metadata": {},
     "output_type": "execute_result"
    }
   ],
   "source": [
    "distance1"
   ]
  },
  {
   "cell_type": "code",
   "execution_count": 52,
   "metadata": {},
   "outputs": [
    {
     "data": {
      "text/plain": [
       "[155.19772,\n",
       " 95.0186,\n",
       " 84.033005,\n",
       " 66.216194,\n",
       " 82.4967,\n",
       " 50.206688,\n",
       " 74.25874,\n",
       " 75.12683,\n",
       " 119.66768,\n",
       " 58.274055,\n",
       " 38.979294,\n",
       " 33.535236,\n",
       " 67.57256,\n",
       " 41.707336,\n",
       " 46.583885,\n",
       " 45.57875,\n",
       " 44.284096,\n",
       " 57.851154,\n",
       " 34.28591,\n",
       " 72.33887,\n",
       " 198.2804,\n",
       " 133.53392,\n",
       " 175.23697,\n",
       " 116.05516,\n",
       " 116.32213,\n",
       " 149.47972,\n",
       " 117.24887,\n",
       " 127.70566,\n",
       " 184.62369,\n",
       " 21.832623,\n",
       " 29.453102,\n",
       " 21.391949,\n",
       " 2.6531005,\n",
       " 28.133362,\n",
       " 36.21993,\n",
       " 31.779198,\n",
       " 35.057487,\n",
       " 38.706673,\n",
       " 36.377842,\n",
       " 77.74094,\n",
       " 80.36843,\n",
       " 62.381065,\n",
       " 37.004543,\n",
       " 45.26575,\n",
       " 88.090645,\n",
       " 53.43151,\n",
       " 25.788511,\n",
       " 70.1775,\n",
       " 111.988335]"
      ]
     },
     "execution_count": 52,
     "metadata": {},
     "output_type": "execute_result"
    }
   ],
   "source": [
    "distance1"
   ]
  },
  {
   "cell_type": "code",
   "execution_count": 44,
   "metadata": {},
   "outputs": [
    {
     "data": {
      "text/plain": [
       "[15.408841133117676,\n",
       " 18.943456649780273,\n",
       " 19.75973892211914,\n",
       " 20.474557876586914,\n",
       " 19.392013549804688,\n",
       " 21.283416748046875,\n",
       " 19.625619888305664,\n",
       " 19.85055923461914,\n",
       " 17.203113555908203,\n",
       " 20.712594985961914,\n",
       " 21.880653381347656,\n",
       " 22.119953155517578,\n",
       " 20.537029266357422,\n",
       " 21.44305992126465,\n",
       " 21.569242477416992,\n",
       " 21.669479370117188,\n",
       " 21.42273712158203,\n",
       " 20.76072120666504,\n",
       " 21.940349578857422,\n",
       " 19.76115608215332,\n",
       " 12.171476364135742,\n",
       " 16.797073364257812,\n",
       " 13.633045196533203,\n",
       " 17.625825881958008,\n",
       " 17.566072463989258,\n",
       " 15.40494155883789,\n",
       " 17.34334945678711,\n",
       " 16.593116760253906,\n",
       " 13.579171180725098,\n",
       " 22.417646408081055,\n",
       " 22.309263229370117,\n",
       " 22.815692901611328,\n",
       " 23.607315063476562,\n",
       " 22.301692962646484,\n",
       " 21.935537338256836,\n",
       " 21.992931365966797,\n",
       " 22.016855239868164,\n",
       " 22.01239776611328,\n",
       " 21.99883460998535,\n",
       " 20.116844177246094,\n",
       " 19.227598190307617,\n",
       " 20.586917877197266,\n",
       " 21.965911865234375,\n",
       " 20.847265243530273,\n",
       " 19.371963500976562,\n",
       " 20.94151496887207,\n",
       " 22.33850860595703,\n",
       " 19.70229148864746,\n",
       " 17.941476821899414]"
      ]
     },
     "execution_count": 44,
     "metadata": {},
     "output_type": "execute_result"
    }
   ],
   "source": [
    "distance"
   ]
  },
  {
   "cell_type": "code",
   "execution_count": null,
   "metadata": {},
   "outputs": [],
   "source": []
  },
  {
   "cell_type": "code",
   "execution_count": null,
   "metadata": {},
   "outputs": [],
   "source": []
  },
  {
   "cell_type": "code",
   "execution_count": 41,
   "metadata": {},
   "outputs": [
    {
     "name": "stdout",
     "output_type": "stream",
     "text": [
      "Indices of the smallest three numbers: [3, 0, 6]\n"
     ]
    }
   ],
   "source": [
    "xx = [1, 5, 6, 0, 10, 4, 2, 7, 3]\n",
    "\n",
    "# Use enumerate to get the index along with the value\n",
    "indexed_xx = list(enumerate(xx))\n",
    "\n",
    "# Sort the list of tuples based on the values (ascending order)\n",
    "sorted_xx = sorted(indexed_xx, key=lambda x: x[1])\n",
    "\n",
    "# Get the indices of the smallest three numbers\n",
    "smallest_indices = [index for index, value in sorted_xx[:3]]\n",
    "\n",
    "print(\"Indices of the smallest three numbers:\", smallest_indices)\n"
   ]
  },
  {
   "cell_type": "code",
   "execution_count": 42,
   "metadata": {},
   "outputs": [
    {
     "data": {
      "text/plain": [
       "[(0, 1), (1, 5), (2, 6), (3, 0), (4, 10), (5, 4), (6, 2), (7, 7), (8, 3)]"
      ]
     },
     "execution_count": 42,
     "metadata": {},
     "output_type": "execute_result"
    }
   ],
   "source": [
    "indexed_xx"
   ]
  },
  {
   "cell_type": "code",
   "execution_count": 43,
   "metadata": {},
   "outputs": [
    {
     "data": {
      "text/plain": [
       "[(3, 0), (0, 1), (6, 2), (8, 3), (5, 4), (1, 5), (2, 6), (7, 7), (4, 10)]"
      ]
     },
     "execution_count": 43,
     "metadata": {},
     "output_type": "execute_result"
    }
   ],
   "source": [
    "sorted_xx"
   ]
  },
  {
   "cell_type": "code",
   "execution_count": 40,
   "metadata": {},
   "outputs": [
    {
     "data": {
      "text/plain": [
       "[15.408841133117676,\n",
       " 18.943456649780273,\n",
       " 19.75973892211914,\n",
       " 20.474557876586914,\n",
       " 19.392013549804688,\n",
       " 21.283416748046875,\n",
       " 19.625619888305664,\n",
       " 19.85055923461914,\n",
       " 17.203113555908203,\n",
       " 20.712594985961914,\n",
       " 21.880653381347656,\n",
       " 22.119953155517578,\n",
       " 20.537029266357422,\n",
       " 21.44305992126465,\n",
       " 21.569242477416992,\n",
       " 21.669479370117188,\n",
       " 21.42273712158203,\n",
       " 20.76072120666504,\n",
       " 21.940349578857422,\n",
       " 19.76115608215332,\n",
       " 12.171476364135742,\n",
       " 16.797073364257812,\n",
       " 13.633045196533203,\n",
       " 17.625825881958008,\n",
       " 17.566072463989258,\n",
       " 15.40494155883789,\n",
       " 17.34334945678711,\n",
       " 16.593116760253906,\n",
       " 13.579171180725098,\n",
       " 22.417646408081055,\n",
       " 22.309263229370117,\n",
       " 22.815692901611328,\n",
       " 23.607315063476562,\n",
       " 22.301692962646484,\n",
       " 21.935537338256836,\n",
       " 21.992931365966797,\n",
       " 22.016855239868164,\n",
       " 22.01239776611328,\n",
       " 21.99883460998535,\n",
       " 20.116844177246094,\n",
       " 19.227598190307617,\n",
       " 20.586917877197266,\n",
       " 21.965911865234375,\n",
       " 20.847265243530273,\n",
       " 19.371963500976562,\n",
       " 20.94151496887207,\n",
       " 22.33850860595703,\n",
       " 19.70229148864746,\n",
       " 17.941476821899414]"
      ]
     },
     "execution_count": 40,
     "metadata": {},
     "output_type": "execute_result"
    }
   ],
   "source": [
    "distance"
   ]
  },
  {
   "cell_type": "code",
   "execution_count": null,
   "metadata": {},
   "outputs": [],
   "source": []
  },
  {
   "cell_type": "code",
   "execution_count": null,
   "metadata": {},
   "outputs": [],
   "source": []
  },
  {
   "cell_type": "code",
   "execution_count": null,
   "metadata": {},
   "outputs": [],
   "source": []
  },
  {
   "cell_type": "code",
   "execution_count": 32,
   "metadata": {},
   "outputs": [
    {
     "ename": "ValueError",
     "evalue": "Input vector should be 1-D.",
     "output_type": "error",
     "traceback": [
      "\u001b[1;31m---------------------------------------------------------------------------\u001b[0m",
      "\u001b[1;31mValueError\u001b[0m                                Traceback (most recent call last)",
      "\u001b[1;32mc:\\Users\\kbdhu\\Desktop\\Misc\\Plural_sight\\UdamyCourse\\LangChain\\VectorDataBase\\flatindexing.ipynb Cell 21\u001b[0m line \u001b[0;36m1\n\u001b[1;32m----> <a href='vscode-notebook-cell:/c%3A/Users/kbdhu/Desktop/Misc/Plural_sight/UdamyCourse/LangChain/VectorDataBase/flatindexing.ipynb#Y161sZmlsZQ%3D%3D?line=0'>1</a>\u001b[0m euclidean(sentence_embeddings, xq)\n",
      "File \u001b[1;32mc:\\Users\\kbdhu\\anaconda3\\envs\\langchain\\lib\\site-packages\\scipy\\spatial\\distance.py:536\u001b[0m, in \u001b[0;36meuclidean\u001b[1;34m(u, v, w)\u001b[0m\n\u001b[0;32m    500\u001b[0m \u001b[39mdef\u001b[39;00m \u001b[39meuclidean\u001b[39m(u, v, w\u001b[39m=\u001b[39m\u001b[39mNone\u001b[39;00m):\n\u001b[0;32m    501\u001b[0m \u001b[39m    \u001b[39m\u001b[39m\"\"\"\u001b[39;00m\n\u001b[0;32m    502\u001b[0m \u001b[39m    Computes the Euclidean distance between two 1-D arrays.\u001b[39;00m\n\u001b[0;32m    503\u001b[0m \n\u001b[1;32m   (...)\u001b[0m\n\u001b[0;32m    534\u001b[0m \n\u001b[0;32m    535\u001b[0m \u001b[39m    \"\"\"\u001b[39;00m\n\u001b[1;32m--> 536\u001b[0m     \u001b[39mreturn\u001b[39;00m minkowski(u, v, p\u001b[39m=\u001b[39;49m\u001b[39m2\u001b[39;49m, w\u001b[39m=\u001b[39;49mw)\n",
      "File \u001b[1;32mc:\\Users\\kbdhu\\anaconda3\\envs\\langchain\\lib\\site-packages\\scipy\\spatial\\distance.py:479\u001b[0m, in \u001b[0;36mminkowski\u001b[1;34m(u, v, p, w)\u001b[0m\n\u001b[0;32m    429\u001b[0m \u001b[39mdef\u001b[39;00m \u001b[39mminkowski\u001b[39m(u, v, p\u001b[39m=\u001b[39m\u001b[39m2\u001b[39m, w\u001b[39m=\u001b[39m\u001b[39mNone\u001b[39;00m):\n\u001b[0;32m    430\u001b[0m \u001b[39m    \u001b[39m\u001b[39m\"\"\"\u001b[39;00m\n\u001b[0;32m    431\u001b[0m \u001b[39m    Compute the Minkowski distance between two 1-D arrays.\u001b[39;00m\n\u001b[0;32m    432\u001b[0m \n\u001b[1;32m   (...)\u001b[0m\n\u001b[0;32m    477\u001b[0m \n\u001b[0;32m    478\u001b[0m \u001b[39m    \"\"\"\u001b[39;00m\n\u001b[1;32m--> 479\u001b[0m     u \u001b[39m=\u001b[39m _validate_vector(u)\n\u001b[0;32m    480\u001b[0m     v \u001b[39m=\u001b[39m _validate_vector(v)\n\u001b[0;32m    481\u001b[0m     \u001b[39mif\u001b[39;00m p \u001b[39m<\u001b[39m\u001b[39m=\u001b[39m \u001b[39m0\u001b[39m:\n",
      "File \u001b[1;32mc:\\Users\\kbdhu\\anaconda3\\envs\\langchain\\lib\\site-packages\\scipy\\spatial\\distance.py:318\u001b[0m, in \u001b[0;36m_validate_vector\u001b[1;34m(u, dtype)\u001b[0m\n\u001b[0;32m    316\u001b[0m \u001b[39mif\u001b[39;00m u\u001b[39m.\u001b[39mndim \u001b[39m==\u001b[39m \u001b[39m1\u001b[39m:\n\u001b[0;32m    317\u001b[0m     \u001b[39mreturn\u001b[39;00m u\n\u001b[1;32m--> 318\u001b[0m \u001b[39mraise\u001b[39;00m \u001b[39mValueError\u001b[39;00m(\u001b[39m\"\u001b[39m\u001b[39mInput vector should be 1-D.\u001b[39m\u001b[39m\"\u001b[39m)\n",
      "\u001b[1;31mValueError\u001b[0m: Input vector should be 1-D."
     ]
    }
   ],
   "source": [
    "euclidean(sentence_embeddings, xq)"
   ]
  },
  {
   "cell_type": "code",
   "execution_count": 30,
   "metadata": {},
   "outputs": [
    {
     "data": {
      "text/plain": [
       "array([[-0.42515695, -0.17480928,  1.8467965 , ..., -0.39403406,\n",
       "         0.19126715, -0.1485463 ],\n",
       "       [-0.8789206 , -0.20032091,  1.4006633 , ..., -0.12888885,\n",
       "         0.5168744 ,  0.5052479 ],\n",
       "       [-0.9164636 ,  0.48573413,  0.835597  , ..., -0.9473189 ,\n",
       "         0.17077821, -0.06990491],\n",
       "       ...,\n",
       "       [-0.26745307,  0.6485193 ,  0.2524073 , ..., -0.49776572,\n",
       "        -0.55864733,  0.4125203 ],\n",
       "       [-0.6442572 ,  0.79322594,  0.65196157, ..., -0.8812224 ,\n",
       "        -0.950332  ,  0.47097167],\n",
       "       [-0.43729913,  0.41195127,  1.1190987 , ..., -0.98400164,\n",
       "        -0.17112163, -0.13521804]], dtype=float32)"
      ]
     },
     "execution_count": 30,
     "metadata": {},
     "output_type": "execute_result"
    }
   ],
   "source": [
    "sentence_embeddings"
   ]
  },
  {
   "cell_type": "code",
   "execution_count": null,
   "metadata": {},
   "outputs": [],
   "source": []
  },
  {
   "cell_type": "code",
   "execution_count": 29,
   "metadata": {},
   "outputs": [
    {
     "data": {
      "text/plain": [
       "array([[-3.81701648e-01, -4.04578060e-01,  1.21103776e+00,\n",
       "         9.71325189e-02,  5.77969253e-01, -8.08756828e-01,\n",
       "        -9.37761903e-01, -3.65120709e-01,  7.37179637e-01,\n",
       "        -8.85952175e-01, -6.08786121e-02,  7.51918197e-01,\n",
       "         3.61013353e-01,  1.18043625e+00,  1.21623158e-01,\n",
       "        -1.67164236e-01, -5.13558924e-01, -6.40886948e-02,\n",
       "         6.32150322e-02, -4.21555609e-01,  3.80068958e-01,\n",
       "         4.31368828e-01,  6.15519993e-02, -2.81333268e-01,\n",
       "         1.06764960e+00, -5.32801270e-01, -3.87867153e-01,\n",
       "        -3.97076905e-01,  3.80420506e-01,  5.66727161e-01,\n",
       "        -3.47353518e-01,  7.94552922e-01, -1.02567625e+00,\n",
       "        -1.56264096e-01, -1.27178025e+00,  5.37283182e-01,\n",
       "        -6.65345322e-03,  1.42730623e-01,  1.68421462e-01,\n",
       "         7.30923772e-01,  4.42011505e-02, -5.56821108e-01,\n",
       "        -1.17749617e-01,  4.82681513e-01, -1.55967593e+00,\n",
       "        -1.27712309e+00, -3.74664962e-01, -5.83819747e-01,\n",
       "        -8.42892304e-02, -1.50736117e+00, -4.15233850e-01,\n",
       "        -4.38900322e-01,  3.87735873e-01, -5.34186652e-03,\n",
       "        -8.41360688e-01,  1.24070084e+00, -3.25073898e-02,\n",
       "        -8.96300316e-01, -8.47027376e-02, -4.69455309e-02,\n",
       "        -1.52590621e+00, -1.66848570e-01,  1.10974453e-01,\n",
       "         5.10753572e-01,  4.79355335e-01, -1.09309051e-02,\n",
       "         2.51320392e-01, -7.48145223e-01, -7.08555877e-01,\n",
       "        -5.65326333e-01, -2.24404670e-02, -1.79877430e-01,\n",
       "        -8.75460744e-01,  5.32327816e-02,  1.80471078e-01,\n",
       "        -2.05359422e-02, -3.65471512e-01,  6.81094110e-01,\n",
       "         9.51187611e-01,  8.18712592e-01,  3.81565779e-01,\n",
       "        -2.00028688e-01,  1.03311253e+00,  9.50479865e-01,\n",
       "         3.97043154e-02,  5.92008650e-01,  6.62154108e-02,\n",
       "        -5.44816673e-01, -7.46630549e-01, -5.36468565e-01,\n",
       "         6.34298995e-02, -8.57063681e-02, -2.14732975e-01,\n",
       "         6.81436181e-01,  5.35434067e-01,  1.46240741e-03,\n",
       "         4.35542673e-01, -4.85517114e-01, -1.26272225e+00,\n",
       "         1.48829147e-01, -4.65670004e-02, -6.69246972e-01,\n",
       "        -2.76192486e-01, -5.90177000e-01, -5.14788143e-02,\n",
       "        -1.24390468e-01, -1.98222682e-01, -1.43877137e+00,\n",
       "         9.91358399e-01, -4.05285597e-01,  6.26445532e-01,\n",
       "         6.55506551e-01,  6.49918199e-01,  4.32081163e-01,\n",
       "        -5.46188235e-01, -4.64586109e-01, -6.39860034e-01,\n",
       "         4.23737347e-01,  5.90937674e-01,  6.47352219e-01,\n",
       "        -5.82474582e-02,  3.14602554e-01, -3.76339167e-01,\n",
       "        -3.09801787e-01,  5.51836491e-01,  7.60996103e-01,\n",
       "         3.17017972e-01, -6.16104901e-03, -1.13289094e+00,\n",
       "        -2.02490047e-01,  6.10289991e-01,  6.47082150e-01,\n",
       "         3.39452565e-01, -9.60298359e-01, -2.47024685e-01,\n",
       "         1.31491637e+00, -2.41259187e-01, -8.27650845e-01,\n",
       "        -2.59801209e-01,  2.83145338e-01, -4.11589086e-01,\n",
       "        -3.92907858e-02,  5.94036937e-01, -6.10717416e-01,\n",
       "        -7.41774142e-02, -2.78023956e-03,  3.87943745e-01,\n",
       "        -2.04198763e-01,  4.21274677e-02,  2.17038631e-01,\n",
       "        -3.66492540e-01,  1.30011350e-01, -4.25594658e-01,\n",
       "        -1.01699926e-01, -8.69664401e-02, -4.93548483e-01,\n",
       "        -8.74068916e-01,  1.02838375e-01,  5.23044467e-01,\n",
       "         1.58237234e-01, -2.70333052e-01,  3.46396655e-01,\n",
       "         5.15821755e-01,  3.92781854e-01,  7.40977585e-01,\n",
       "        -4.62842852e-01,  1.73400235e+00, -3.53225738e-01,\n",
       "        -1.90775841e-01, -3.07276547e-01,  2.13789612e-01,\n",
       "        -1.13894306e-01,  1.96548748e+00, -3.17578256e-01,\n",
       "         1.72365832e+00, -4.10906971e-01,  4.90086555e-01,\n",
       "         6.60113692e-01,  2.46454865e-01, -1.92485109e-01,\n",
       "        -8.27323794e-02, -1.48711038e+00, -1.68717057e-01,\n",
       "        -5.38216710e-01, -6.20428920e-01, -8.00990760e-01,\n",
       "        -1.60974056e-01,  4.96389389e-01,  1.66582987e-01,\n",
       "         4.96100426e-01, -5.71654499e-01, -5.69849432e-01,\n",
       "        -6.62371993e-01, -6.69860065e-01,  4.71867263e-01,\n",
       "         1.77105695e-01,  2.82767117e-01,  7.77222514e-01,\n",
       "         8.08230519e-01,  3.43725324e-01,  1.62499458e-01,\n",
       "        -7.87176311e-01, -4.51968648e-02, -3.80059987e-01,\n",
       "        -7.02295154e-02,  5.80607474e-01,  4.49223677e-03,\n",
       "         5.08047998e-01, -3.37883621e-01, -9.05504584e-01,\n",
       "        -3.72759581e-01,  9.69096184e-01,  7.32951343e-01,\n",
       "        -1.47003531e-02, -1.66791707e-01, -7.48529971e-01,\n",
       "         3.49953622e-01,  3.52073848e-01, -2.22853512e-01,\n",
       "         4.56675947e-01,  5.75809717e-01,  5.51624894e-01,\n",
       "         2.87798196e-01,  5.67534685e-01,  2.27263376e-01,\n",
       "         6.26457453e-01, -5.42230979e-02,  2.22734292e-03,\n",
       "         1.64459348e-01,  8.17201316e-01,  2.38742441e-01,\n",
       "        -1.04279172e+00, -1.90230921e-01,  8.31366241e-01,\n",
       "        -1.08928524e-01, -7.67867684e-01, -1.56506360e+00,\n",
       "         9.83845666e-02,  5.94588161e-01, -3.26209337e-01,\n",
       "         4.37063843e-01,  5.54827809e-01, -2.03392580e-01,\n",
       "         3.59790772e-01, -9.05631185e-01, -8.31856251e-01,\n",
       "         7.73740947e-01,  4.41841424e-01, -4.34966087e-01,\n",
       "         6.14097059e-01, -1.54606605e+00, -3.87130409e-01,\n",
       "        -3.62234056e-01, -4.11030918e-01, -5.65785229e-01,\n",
       "         1.98043078e-01, -2.43140414e-01,  3.94556940e-01,\n",
       "         3.31796594e-02, -5.01048148e-01, -5.38111702e-02,\n",
       "         1.11226916e-01, -8.53567570e-02, -1.28516108e-01,\n",
       "         3.17713618e-01, -7.40419745e-01,  1.54858872e-01,\n",
       "        -2.65548229e-01,  3.80776599e-02,  4.57085043e-01,\n",
       "        -3.71370226e-01,  5.02705164e-02, -2.20406219e-01,\n",
       "         1.73871279e-01,  2.46962160e-01, -9.55425382e-01,\n",
       "         9.79731083e-01,  2.44553134e-01, -6.34987712e-01,\n",
       "         6.99033856e-01,  2.90859342e-01,  5.63883297e-02,\n",
       "        -1.76684856e+00,  2.22634107e-01, -8.67290854e-01,\n",
       "        -2.21751168e-01,  5.51866114e-01,  8.67712945e-02,\n",
       "         3.73757541e-01,  5.58386445e-01, -9.87277389e-01,\n",
       "        -2.56009489e-01,  1.45745918e-01, -1.40387273e+00,\n",
       "         5.97861648e-01, -5.57900310e-01,  5.06722450e-01,\n",
       "        -3.43783796e-01, -2.96222810e-02, -2.27029830e-01,\n",
       "        -8.09825063e-01, -3.50277275e-01, -7.97159195e-01,\n",
       "         3.58411148e-02,  1.67629063e-01, -1.51472285e-01,\n",
       "         1.37082982e+00,  1.93790346e-01,  3.84275496e-01,\n",
       "        -6.32177711e-01, -1.20075250e+00, -8.30001235e-01,\n",
       "        -2.26380154e-01,  1.11529219e+00,  7.37479329e-01,\n",
       "         1.31670582e+00, -9.80352908e-02, -1.30520523e+00,\n",
       "        -7.58543471e-03, -6.62846625e-01, -2.03785568e-01,\n",
       "         5.72608113e-01, -2.37367719e-01, -1.72662884e-01,\n",
       "         9.48387757e-02,  5.61574399e-01, -3.18533182e-01,\n",
       "        -5.07103801e-02, -1.29009038e-01,  6.48959219e-01,\n",
       "         4.41270441e-01, -8.61250162e-02,  6.13577247e-01,\n",
       "         1.37006152e+00,  2.07766145e-01,  1.11913420e-02,\n",
       "         2.86103129e-01, -6.75361991e-01,  6.81979537e-01,\n",
       "         2.31299713e-01,  1.36660552e+00, -2.12233812e-01,\n",
       "         1.42671779e-01,  6.22841835e-01,  1.24323217e-03,\n",
       "        -5.30407310e-01,  6.59210622e-01,  5.28714001e-01,\n",
       "        -2.66051710e-01,  8.25005710e-01,  1.63837224e-01,\n",
       "        -3.92231017e-01,  1.17419708e+00, -3.58159512e-01,\n",
       "         1.20340541e-01,  6.17996335e-01, -1.97654352e-01,\n",
       "        -3.37252557e-01, -5.96296489e-01,  9.80631053e-01,\n",
       "         7.05338940e-02,  1.60116237e-02, -5.61112165e-01,\n",
       "         7.18589664e-01, -4.93605673e-01, -5.00281930e-01,\n",
       "        -1.02109790e-01, -8.63965034e-01,  9.73980308e-01,\n",
       "         1.14620313e-01,  3.40273619e-01, -4.81913090e-02,\n",
       "        -3.91407669e-01,  1.04441764e-02,  2.21341848e-01,\n",
       "         1.56471789e-01, -2.30260998e-01, -1.00078511e+00,\n",
       "        -5.32526851e-01,  5.05545661e-02,  5.78384459e-01,\n",
       "        -7.48743713e-01, -4.05810297e-01,  1.59404963e-01,\n",
       "        -4.37557131e-01,  3.27158511e-01, -2.49223590e-01,\n",
       "        -1.82774499e-01, -1.72155276e-01,  4.90209050e-02,\n",
       "         4.22676027e-01,  4.89770502e-01,  2.92822778e-01,\n",
       "        -8.63359451e-01, -2.49437615e-01, -1.76457214e+00,\n",
       "         3.46842617e-01, -7.31789321e-02, -2.65011638e-01,\n",
       "        -3.96694928e-01, -3.29206198e-01, -6.53415680e-01,\n",
       "        -1.75404251e-01,  2.30471373e-01,  4.86983657e-02,\n",
       "         1.09374499e+00,  4.07499969e-01,  7.07620978e-02,\n",
       "        -5.07066786e-01, -1.23274052e+00, -3.42088580e-01,\n",
       "        -3.79792035e-01,  1.53945744e-01,  7.21196830e-02,\n",
       "        -3.34152251e-01,  5.70776522e-01, -8.51344839e-02,\n",
       "        -1.57692325e+00,  6.05454296e-03,  9.63845104e-02,\n",
       "         1.16800535e+00, -1.06386423e+00,  8.53546709e-02,\n",
       "        -1.11440551e+00, -6.52740598e-01,  6.83694780e-01,\n",
       "         6.64501607e-01,  9.49409381e-02, -6.17342949e-01,\n",
       "        -6.17398508e-02, -7.15586424e-01, -3.96483183e-01,\n",
       "        -8.03064227e-01,  6.33446574e-01,  7.06344396e-02,\n",
       "        -5.15391707e-01, -4.66009155e-02,  3.65724087e-01,\n",
       "         6.88523889e-01, -3.87736738e-01, -4.41014230e-01,\n",
       "        -6.66561663e-01,  4.73000348e-01,  2.27766559e-01,\n",
       "        -5.69317937e-01,  4.25471246e-01,  5.04650831e-01,\n",
       "         3.43090475e-01, -2.43128147e-02, -4.29082543e-01,\n",
       "         1.00054955e+00, -3.23946059e-01, -5.63287139e-02,\n",
       "         1.77262515e-01,  6.74523294e-01,  6.81362450e-01,\n",
       "        -5.59232533e-01,  2.38251418e-01, -6.24349296e-01,\n",
       "        -2.39081830e-01, -4.40423071e-01, -1.02480435e+00,\n",
       "        -3.58255595e-01,  4.70255047e-01,  4.87260282e-01,\n",
       "        -1.77851185e-01, -4.49139059e-01,  1.25585049e-01,\n",
       "        -7.03162551e-01, -4.51024622e-01, -1.83405168e-02,\n",
       "         6.94426000e-01,  8.76459420e-01,  4.59316164e-01,\n",
       "        -5.80706775e-01, -5.98890670e-02, -9.50994313e-01,\n",
       "         7.91058004e-01,  3.67170870e-01, -4.61058199e-01,\n",
       "        -4.51975286e-01, -5.91755748e-01, -1.88197523e-01,\n",
       "         1.12473175e-01,  1.49368256e-01,  6.64213300e-02,\n",
       "        -5.75918674e-01,  2.23456934e-01,  9.83101368e-01,\n",
       "        -9.52297509e-01, -3.15914989e-01, -1.27794206e-01,\n",
       "        -1.08110726e+00, -8.01794410e-01, -8.53026584e-02,\n",
       "        -3.15308750e-01, -3.45441967e-01, -4.66803879e-01,\n",
       "        -3.29427958e-01, -1.36382729e-01, -1.30559821e-02,\n",
       "        -3.10640067e-01,  6.01979136e-01, -4.59400415e-01,\n",
       "        -4.41014692e-02, -6.34889483e-01,  2.51026183e-01,\n",
       "        -1.63704395e-01, -3.10405437e-02,  5.46648145e-01,\n",
       "        -1.43470794e-01,  1.57535005e+00, -6.62652105e-02,\n",
       "        -3.06853473e-01, -8.47863674e-01,  4.81445879e-01,\n",
       "        -1.89792141e-02,  7.72118807e-01, -4.51036513e-01,\n",
       "        -6.31940782e-01,  1.30951613e-01,  2.43364856e-01,\n",
       "         1.49926174e+00, -1.82207853e-01,  1.54541790e-01,\n",
       "         1.65516645e-01,  3.76579791e-01,  2.53335148e-01,\n",
       "         6.40183032e-01, -2.83956200e-01,  4.96093571e-01,\n",
       "         4.22489017e-01,  1.06504582e-01, -2.31845662e-01,\n",
       "        -2.77003553e-02, -8.57431516e-02, -1.72872081e-01,\n",
       "        -6.90033376e-01,  1.73664063e-01, -4.26148951e-01,\n",
       "         1.50836632e-01,  7.30757356e-01,  4.68374014e-01,\n",
       "        -2.56014138e-01, -6.05407953e-01, -3.43586266e-01,\n",
       "         2.70202935e-01, -1.35521382e-01,  2.09253147e-01,\n",
       "        -1.35532260e+00, -1.05420962e-01, -1.81704566e-01,\n",
       "        -9.05474842e-01,  4.63728815e-01,  1.98157281e-01,\n",
       "         3.34622152e-02, -3.11667770e-01,  2.04533815e-01,\n",
       "         4.98043150e-01, -2.25979179e-01, -7.47167885e-01,\n",
       "         7.03302845e-02,  1.77236851e-02,  1.81211159e-02,\n",
       "        -1.79798394e-01,  2.89591849e-01, -2.61927962e-01,\n",
       "         3.63420427e-01, -3.81832600e-01,  4.68258530e-01,\n",
       "        -6.57357097e-01, -3.01038206e-01,  1.71469212e+00,\n",
       "         7.44758010e-01, -1.46596521e-01, -1.03688180e+00,\n",
       "         6.67451501e-01, -4.96423244e-01, -3.13525438e-01,\n",
       "         3.00650090e-01,  3.56677234e-01,  4.99655813e-01,\n",
       "        -7.13644549e-03,  3.80349129e-01, -7.96178579e-01,\n",
       "         3.55748683e-01, -5.45365512e-01, -1.38490367e+00,\n",
       "         4.05202061e-02,  1.23649943e+00,  2.23143384e-01,\n",
       "        -2.39688128e-01, -3.35927576e-01, -4.24254596e-01,\n",
       "        -7.57130375e-03,  1.13431213e-03,  3.14793110e-01,\n",
       "         2.33621359e-01, -4.52942997e-01, -4.57531989e-01,\n",
       "        -5.82834721e-01, -2.68381059e-01, -5.93722701e-01,\n",
       "         8.09087634e-01,  1.02164727e-02, -1.04431055e-01,\n",
       "        -8.84987533e-01, -3.05503365e-02, -4.79641825e-01,\n",
       "         1.23122251e+00, -1.92461967e-01, -9.07853901e-01,\n",
       "         1.90461010e-01,  3.07379901e-01,  4.09715176e-01,\n",
       "         5.28470986e-02,  2.12994412e-01,  4.15189087e-01,\n",
       "         2.49863833e-01,  6.76086545e-01,  2.80061424e-01,\n",
       "         1.09344316e+00, -9.98147309e-01,  9.07573819e-01,\n",
       "        -3.69161189e-01, -1.94828987e-01, -1.91240937e-01,\n",
       "        -2.60211408e-01, -1.04983270e+00,  6.13317370e-01,\n",
       "         6.03983045e-01,  4.19337183e-01,  1.41240925e-01,\n",
       "        -1.90804258e-01,  1.84905276e-01,  2.97539800e-01,\n",
       "        -2.71696210e-01,  6.13829911e-01, -1.33366644e-01,\n",
       "         4.17510122e-01, -6.02980971e-01,  1.47536254e+00,\n",
       "        -4.16326106e-01, -4.78272066e-02, -2.41485432e-01,\n",
       "        -1.74958855e-01,  3.53335142e-01,  1.08828104e+00,\n",
       "         9.24015880e-01,  1.08114469e+00,  6.55568838e-02,\n",
       "        -2.04413384e-01,  1.74596429e-01, -1.30471081e-01,\n",
       "         7.03375459e-01,  3.04260343e-01,  1.61229596e-01,\n",
       "         3.97750378e-01,  1.61271855e-01,  1.55196607e-01,\n",
       "         7.65588433e-02, -7.96614528e-01,  2.69703090e-01,\n",
       "         9.07613803e-03,  5.97878039e-01, -4.06973585e-02,\n",
       "         7.35851586e-01, -1.85014561e-01,  2.47630149e-01,\n",
       "        -1.52561754e-01, -4.60186526e-02, -6.51868045e-01,\n",
       "         2.40078449e-01, -1.16376042e+00,  1.59209773e-01,\n",
       "         3.74878079e-01,  1.41891646e+00, -2.31763832e-02,\n",
       "         9.65402797e-02, -4.70803559e-01,  1.10607314e+00,\n",
       "        -7.42673337e-01,  2.53877252e-01, -1.50296777e-01,\n",
       "         5.20418286e-01, -1.07560766e+00,  6.72959507e-01,\n",
       "         8.07437599e-01, -6.72236204e-01, -7.52346337e-01,\n",
       "         2.49584913e-01,  1.06757808e+00, -7.75929689e-01,\n",
       "        -1.97943246e+00, -1.08696721e-01,  1.38370425e-01,\n",
       "        -4.45527166e-01, -3.45433563e-01,  6.63086891e-01,\n",
       "        -7.67849326e-01, -1.11994171e+00,  2.26727679e-01,\n",
       "        -1.27926898e+00, -1.46353817e+00,  4.64088656e-02,\n",
       "        -1.06528008e+00, -5.88974774e-01,  6.97385728e-01,\n",
       "         8.33228379e-02, -6.08231783e-01,  8.50087941e-01,\n",
       "         6.09991729e-01,  4.34017658e-01, -4.55280803e-02,\n",
       "        -2.94561207e-01,  1.92186737e+00,  2.10981578e-01,\n",
       "        -2.95319229e-01,  8.83997262e-01, -7.41655231e-01,\n",
       "        -4.87891734e-01,  8.26211572e-01, -3.10615480e-01,\n",
       "        -2.90266722e-01, -6.27946854e-01,  6.11103654e-01,\n",
       "         1.02434421e+00, -2.65564382e-01,  7.24912643e-01,\n",
       "        -1.15504766e+00, -6.36790693e-01,  2.10147500e-01,\n",
       "        -5.69562674e-01,  3.10058713e-01,  8.73640716e-01,\n",
       "         5.15464365e-01, -2.48929299e-02, -4.87373769e-01,\n",
       "        -4.09480751e-01, -1.05250907e+00, -7.40694225e-01,\n",
       "        -7.10646451e-01, -4.28047836e-01, -3.07708438e-02,\n",
       "         2.64144335e-02, -2.33119652e-01, -1.51076913e+00,\n",
       "        -2.50980943e-01, -6.06855825e-02,  7.14198768e-01,\n",
       "         7.98738122e-01,  2.48966366e-01,  1.29890233e-01,\n",
       "         3.27008307e-01,  3.98386180e-01,  4.05952454e-01,\n",
       "        -9.85536456e-01, -9.88632515e-02,  1.56513527e-01,\n",
       "         1.30620296e-03,  8.12489688e-01,  1.93207249e-01,\n",
       "        -1.06363699e-01,  3.50640193e-02, -5.05685985e-01,\n",
       "        -9.16768074e-01, -5.30029368e-03, -1.04072846e-01]], dtype=float32)"
      ]
     },
     "execution_count": 29,
     "metadata": {},
     "output_type": "execute_result"
    }
   ],
   "source": [
    "xq"
   ]
  },
  {
   "cell_type": "code",
   "execution_count": null,
   "metadata": {},
   "outputs": [],
   "source": []
  },
  {
   "cell_type": "code",
   "execution_count": null,
   "metadata": {},
   "outputs": [],
   "source": []
  },
  {
   "cell_type": "code",
   "execution_count": null,
   "metadata": {},
   "outputs": [],
   "source": []
  },
  {
   "cell_type": "code",
   "execution_count": null,
   "metadata": {},
   "outputs": [],
   "source": []
  },
  {
   "cell_type": "code",
   "execution_count": null,
   "metadata": {},
   "outputs": [],
   "source": []
  },
  {
   "cell_type": "code",
   "execution_count": 118,
   "metadata": {},
   "outputs": [
    {
     "data": {
      "text/plain": [
       "[\"Lionel Messi's incredible goal in the last minute secured a thrilling victory for his team.\",\n",
       " 'Passionate fans from all around the world gathered at the stadium to cheer for their favorite teams.',\n",
       " 'Cristiano Ronaldo, known for his remarkable skills and dedication, has become a legendary figure in the sport.',\n",
       " 'The referee issued a red card to the player who committed a dangerous foul, changing the dynamics of the match.',\n",
       " 'The agile goalkeeper made a series of great saves, preventing the opposing team from scoring.',\n",
       " 'In a highly competitive game, the match ended in a goalless draw, leaving both teams with one point.',\n",
       " 'The tension was palpable as the referee blew the final whistle, signaling the end of an intense match.',\n",
       " 'A crucial penalty kick was awarded in the dying minutes, putting immense pressure on the penalty-taker.',\n",
       " 'The entire city celebrated when their beloved soccer team clinched the championship title.',\n",
       " 'In a thrilling turn of events, injury time brought unexpected drama, leading to a last-minute goal.',\n",
       " 'Mystery novels, with their intricate plots and suspenseful twists, have the power to captivate readers for hours.',\n",
       " 'Bestselling books often dominate the literary charts, reflecting the popularity of their compelling stories.',\n",
       " 'The musty scent of old library books often evokes a sense of nostalgia and reverence for knowledge.',\n",
       " \"The act of reading itself is a source of joy and enlightenment, expanding one's horizons with every page turned.\",\n",
       " 'Many avid readers have a deep affection for hardcover books, appreciating their durability and aesthetic appeal.',\n",
       " 'Fictional works transport readers to imaginative worlds, where they can escape the confines of reality.',\n",
       " 'Non-fiction books have the unique ability to educate and inform, broadening the minds of those who delve into them.',\n",
       " 'E-books, with their convenience and accessibility, have transformed the way people consume written content.',\n",
       " \"In today's digital age, there's a bookstore on nearly every street corner, catering to diverse reading preferences.\",\n",
       " 'Classic literature, with its timeless themes and enduring relevance, never loses its allure.',\n",
       " \"The joyful echoes of children's laughter reverberate through the neighborhood playground every afternoon.\",\n",
       " 'Toys of all shapes and sizes are scattered throughout the playroom, sparking imagination and creativity.',\n",
       " 'Childhood is a time of exploration and learning, where kids discover the world through play and discovery.',\n",
       " 'Bedtime stories, with their soothing narratives and colorful illustrations, offer comfort and bonding for families.',\n",
       " \"Nothing brings a smile to a child's face quite like a scoop of their favorite ice cream on a sunny day.\",\n",
       " 'Playdates with friends create lasting memories and friendships that often endure throughout a lifetime.',\n",
       " 'Parents often marvel at how quickly their kids grow up, cherishing each moment as they watch them mature.',\n",
       " 'School backpacks, filled with textbooks and supplies, become a familiar sight as children head off to learn.',\n",
       " 'The journey of parenthood is a precious one, marked by countless moments of love, laughter, and growth.',\n",
       " 'Babysitters provide much-needed relief and support for parents, ensuring their children are well cared for.',\n",
       " 'Elections are a fundamental part of democratic societies, determining the leaders who will guide the nation.',\n",
       " 'Debates among politicians can become intense, as they passionately defend their viewpoints and policies.',\n",
       " 'Political decisions and policies have a profound impact on the lives of citizens, shaping the course of a nation.',\n",
       " 'Partisan divides persist in many countries, with political polarization affecting public discourse and governance.',\n",
       " 'During election seasons, television screens and social media platforms are flooded with political advertisements.',\n",
       " 'Campaign promises, though often made with good intentions, can be challenging to fulfill once in office.',\n",
       " 'Civic duty calls citizens to participate in the democratic process, exercising their right to vote.',\n",
       " 'The struggle for political power and influence is never-ending in the world of politics, marked by fierce competition.',\n",
       " 'Legislation passed by lawmakers plays a pivotal role in shaping the social and legal landscape of a nation.',\n",
       " 'Political leaders constantly face scrutiny and criticism from the public and the media.',\n",
       " 'The force of gravity is what causes objects to be pulled downward towards the center of the Earth.',\n",
       " \"Albert Einstein's groundbreaking theory of relativity revolutionized the field of theoretical physics.\",\n",
       " \"Isaac Newton's laws of motion provide the fundamental principles governing the movement of objects in the universe.\",\n",
       " 'Quantum physics, a highly complex and abstract field, continues to baffle even the brightest minds in science.',\n",
       " 'Electromagnetism, a fundamental force in the universe, powers a wide array of modern technologies.',\n",
       " 'The speed of light, at approximately 299,792,458 meters per second, is the fastest known speed in the universe.',\n",
       " 'Forces, such as friction and gravity, play a crucial role in determining the acceleration of objects in motion.',\n",
       " 'Thermodynamics is the branch of physics that explains the transfer and transformation of energy in systems.',\n",
       " 'Black holes, mysterious and enigmatic, defy our current understanding of the laws of physics and gravity.',\n",
       " 'Atoms, the building blocks of matter, consist of a nucleus and electrons and combine to form everything we see.',\n",
       " 'Dogs, known for their unwavering loyalty and companionship, hold a special place in the hearts of many.',\n",
       " 'Cats often purr when they are content, creating a soothing and comforting atmosphere in the home.',\n",
       " 'Colorful fish swimming in well-maintained aquariums provide a mesmerizing and calming visual experience.',\n",
       " \"Birds, with their melodious songs, add a touch of nature's beauty to homes and gardens alike.\",\n",
       " 'Hamsters, in their tiny cages, run enthusiastically on exercise wheels, delighting their owners.',\n",
       " 'Pet adoptions have seen a significant increase, as more people welcome animals into their homes and hearts.',\n",
       " 'Pet owners share a unique bond with their animals, characterized by unconditional love and companionship.',\n",
       " 'The act of grooming and caring for pets is therapeutic for both the animals and their owners.',\n",
       " 'Rabbits, with their gentle nature and love for nibbling on fresh carrots, make adorable and endearing pets.',\n",
       " 'Reptiles, such as snakes and lizards, require specialized care to thrive as beloved members of a household.']"
      ]
     },
     "execution_count": 118,
     "metadata": {},
     "output_type": "execute_result"
    }
   ],
   "source": [
    "sentences"
   ]
  },
  {
   "cell_type": "code",
   "execution_count": null,
   "metadata": {},
   "outputs": [],
   "source": []
  },
  {
   "cell_type": "code",
   "execution_count": null,
   "metadata": {},
   "outputs": [],
   "source": []
  },
  {
   "cell_type": "code",
   "execution_count": null,
   "metadata": {},
   "outputs": [],
   "source": []
  },
  {
   "cell_type": "code",
   "execution_count": null,
   "metadata": {},
   "outputs": [],
   "source": []
  },
  {
   "cell_type": "code",
   "execution_count": 6,
   "metadata": {},
   "outputs": [],
   "source": [
    "import requests\n",
    "from io import StringIO\n",
    "import pandas as pd"
   ]
  },
  {
   "cell_type": "code",
   "execution_count": 7,
   "metadata": {},
   "outputs": [
    {
     "data": {
      "text/html": [
       "<div>\n",
       "<style scoped>\n",
       "    .dataframe tbody tr th:only-of-type {\n",
       "        vertical-align: middle;\n",
       "    }\n",
       "\n",
       "    .dataframe tbody tr th {\n",
       "        vertical-align: top;\n",
       "    }\n",
       "\n",
       "    .dataframe thead th {\n",
       "        text-align: right;\n",
       "    }\n",
       "</style>\n",
       "<table border=\"1\" class=\"dataframe\">\n",
       "  <thead>\n",
       "    <tr style=\"text-align: right;\">\n",
       "      <th></th>\n",
       "      <th>pair_ID</th>\n",
       "      <th>sentence_A</th>\n",
       "      <th>sentence_B</th>\n",
       "      <th>relatedness_score</th>\n",
       "      <th>entailment_judgment</th>\n",
       "    </tr>\n",
       "  </thead>\n",
       "  <tbody>\n",
       "    <tr>\n",
       "      <th>0</th>\n",
       "      <td>1</td>\n",
       "      <td>A group of kids is playing in a yard and an ol...</td>\n",
       "      <td>A group of boys in a yard is playing and a man...</td>\n",
       "      <td>4.5</td>\n",
       "      <td>NEUTRAL</td>\n",
       "    </tr>\n",
       "    <tr>\n",
       "      <th>1</th>\n",
       "      <td>2</td>\n",
       "      <td>A group of children is playing in the house an...</td>\n",
       "      <td>A group of kids is playing in a yard and an ol...</td>\n",
       "      <td>3.2</td>\n",
       "      <td>NEUTRAL</td>\n",
       "    </tr>\n",
       "    <tr>\n",
       "      <th>2</th>\n",
       "      <td>3</td>\n",
       "      <td>The young boys are playing outdoors and the ma...</td>\n",
       "      <td>The kids are playing outdoors near a man with ...</td>\n",
       "      <td>4.7</td>\n",
       "      <td>ENTAILMENT</td>\n",
       "    </tr>\n",
       "    <tr>\n",
       "      <th>3</th>\n",
       "      <td>5</td>\n",
       "      <td>The kids are playing outdoors near a man with ...</td>\n",
       "      <td>A group of kids is playing in a yard and an ol...</td>\n",
       "      <td>3.4</td>\n",
       "      <td>NEUTRAL</td>\n",
       "    </tr>\n",
       "    <tr>\n",
       "      <th>4</th>\n",
       "      <td>9</td>\n",
       "      <td>The young boys are playing outdoors and the ma...</td>\n",
       "      <td>A group of kids is playing in a yard and an ol...</td>\n",
       "      <td>3.7</td>\n",
       "      <td>NEUTRAL</td>\n",
       "    </tr>\n",
       "  </tbody>\n",
       "</table>\n",
       "</div>"
      ],
      "text/plain": [
       "   pair_ID                                         sentence_A  \\\n",
       "0        1  A group of kids is playing in a yard and an ol...   \n",
       "1        2  A group of children is playing in the house an...   \n",
       "2        3  The young boys are playing outdoors and the ma...   \n",
       "3        5  The kids are playing outdoors near a man with ...   \n",
       "4        9  The young boys are playing outdoors and the ma...   \n",
       "\n",
       "                                          sentence_B  relatedness_score  \\\n",
       "0  A group of boys in a yard is playing and a man...                4.5   \n",
       "1  A group of kids is playing in a yard and an ol...                3.2   \n",
       "2  The kids are playing outdoors near a man with ...                4.7   \n",
       "3  A group of kids is playing in a yard and an ol...                3.4   \n",
       "4  A group of kids is playing in a yard and an ol...                3.7   \n",
       "\n",
       "  entailment_judgment  \n",
       "0             NEUTRAL  \n",
       "1             NEUTRAL  \n",
       "2          ENTAILMENT  \n",
       "3             NEUTRAL  \n",
       "4             NEUTRAL  "
      ]
     },
     "execution_count": 7,
     "metadata": {},
     "output_type": "execute_result"
    }
   ],
   "source": [
    "res = requests.get('https://raw.githubusercontent.com/brmson/dataset-sts/master/data/sts/sick2014/SICK_train.txt')\n",
    "# create dataframe\n",
    "data = pd.read_csv(StringIO(res.text), sep='\\t')\n",
    "data.head()"
   ]
  },
  {
   "cell_type": "code",
   "execution_count": 8,
   "metadata": {},
   "outputs": [
    {
     "data": {
      "text/plain": [
       "(4500, 5)"
      ]
     },
     "execution_count": 8,
     "metadata": {},
     "output_type": "execute_result"
    }
   ],
   "source": [
    "data.shape"
   ]
  },
  {
   "cell_type": "code",
   "execution_count": 9,
   "metadata": {},
   "outputs": [
    {
     "data": {
      "text/plain": [
       "['A group of kids is playing in a yard and an old man is standing in the background',\n",
       " 'A group of children is playing in the house and there is no man standing in the background',\n",
       " 'The young boys are playing outdoors and the man is smiling nearby',\n",
       " 'The kids are playing outdoors near a man with a smile',\n",
       " 'The young boys are playing outdoors and the man is smiling nearby']"
      ]
     },
     "execution_count": 9,
     "metadata": {},
     "output_type": "execute_result"
    }
   ],
   "source": [
    "# we take all samples from both sentence A and B\n",
    "sentences = data['sentence_A'].tolist()\n",
    "sentences[:5]"
   ]
  },
  {
   "cell_type": "code",
   "execution_count": 10,
   "metadata": {},
   "outputs": [
    {
     "data": {
      "text/plain": [
       "4802"
      ]
     },
     "execution_count": 10,
     "metadata": {},
     "output_type": "execute_result"
    }
   ],
   "source": [
    "# we take all samples from both sentence A and B\n",
    "sentences = data['sentence_A'].tolist()\n",
    "sentence_b = data['sentence_B'].tolist()\n",
    "sentences.extend(sentence_b)  # merge them\n",
    "len(set(sentences))  # together we have ~4.5K unique sentences"
   ]
  },
  {
   "cell_type": "code",
   "execution_count": 11,
   "metadata": {},
   "outputs": [],
   "source": [
    "urls = [\n",
    "    'https://raw.githubusercontent.com/brmson/dataset-sts/master/data/sts/semeval-sts/2012/MSRpar.train.tsv',\n",
    "    'https://raw.githubusercontent.com/brmson/dataset-sts/master/data/sts/semeval-sts/2012/MSRpar.test.tsv',\n",
    "    'https://raw.githubusercontent.com/brmson/dataset-sts/master/data/sts/semeval-sts/2012/OnWN.test.tsv',\n",
    "    'https://raw.githubusercontent.com/brmson/dataset-sts/master/data/sts/semeval-sts/2013/OnWN.test.tsv',\n",
    "    'https://raw.githubusercontent.com/brmson/dataset-sts/master/data/sts/semeval-sts/2014/OnWN.test.tsv',\n",
    "    'https://raw.githubusercontent.com/brmson/dataset-sts/master/data/sts/semeval-sts/2014/images.test.tsv',\n",
    "    'https://raw.githubusercontent.com/brmson/dataset-sts/master/data/sts/semeval-sts/2015/images.test.tsv'\n",
    "]"
   ]
  },
  {
   "cell_type": "code",
   "execution_count": 14,
   "metadata": {},
   "outputs": [],
   "source": [
    "# remove duplicates and NaN\n",
    "sentences = [word for word in list(set(sentences)) if type(word) is str]"
   ]
  },
  {
   "cell_type": "code",
   "execution_count": 15,
   "metadata": {},
   "outputs": [
    {
     "data": {
      "text/plain": [
       "'A great singer is dancing on the ceiling'"
      ]
     },
     "execution_count": 15,
     "metadata": {},
     "output_type": "execute_result"
    }
   ],
   "source": [
    "sentences[0]"
   ]
  },
  {
   "cell_type": "code",
   "execution_count": 16,
   "metadata": {},
   "outputs": [
    {
     "data": {
      "text/plain": [
       "4802"
      ]
     },
     "execution_count": 16,
     "metadata": {},
     "output_type": "execute_result"
    }
   ],
   "source": [
    "len(sentences)"
   ]
  },
  {
   "cell_type": "code",
   "execution_count": 17,
   "metadata": {},
   "outputs": [],
   "source": [
    "from sentence_transformers import SentenceTransformer\n"
   ]
  },
  {
   "cell_type": "code",
   "execution_count": 18,
   "metadata": {},
   "outputs": [
    {
     "data": {
      "application/vnd.jupyter.widget-view+json": {
       "model_id": "1fc5a933fe7b44d7b63cc07bdadfd91b",
       "version_major": 2,
       "version_minor": 0
      },
      "text/plain": [
       "Downloading (…)821d1/.gitattributes:   0%|          | 0.00/391 [00:00<?, ?B/s]"
      ]
     },
     "metadata": {},
     "output_type": "display_data"
    },
    {
     "data": {
      "application/vnd.jupyter.widget-view+json": {
       "model_id": "bb76f9de638f49d9956fd395693d18a6",
       "version_major": 2,
       "version_minor": 0
      },
      "text/plain": [
       "Downloading (…)_Pooling/config.json:   0%|          | 0.00/190 [00:00<?, ?B/s]"
      ]
     },
     "metadata": {},
     "output_type": "display_data"
    },
    {
     "data": {
      "application/vnd.jupyter.widget-view+json": {
       "model_id": "7fbc393bc5d743868bf6ecdee65c2016",
       "version_major": 2,
       "version_minor": 0
      },
      "text/plain": [
       "Downloading (…)8d01e821d1/README.md:   0%|          | 0.00/3.95k [00:00<?, ?B/s]"
      ]
     },
     "metadata": {},
     "output_type": "display_data"
    },
    {
     "data": {
      "application/vnd.jupyter.widget-view+json": {
       "model_id": "a59ea3bc35ed4e489058b2e3f19508cc",
       "version_major": 2,
       "version_minor": 0
      },
      "text/plain": [
       "Downloading (…)d1/added_tokens.json:   0%|          | 0.00/2.00 [00:00<?, ?B/s]"
      ]
     },
     "metadata": {},
     "output_type": "display_data"
    },
    {
     "data": {
      "application/vnd.jupyter.widget-view+json": {
       "model_id": "a43d23467fa94a2ca32c5bdb7e8765a3",
       "version_major": 2,
       "version_minor": 0
      },
      "text/plain": [
       "Downloading (…)01e821d1/config.json:   0%|          | 0.00/625 [00:00<?, ?B/s]"
      ]
     },
     "metadata": {},
     "output_type": "display_data"
    },
    {
     "data": {
      "application/vnd.jupyter.widget-view+json": {
       "model_id": "abd624acfa0a470480f2a8e6984b496c",
       "version_major": 2,
       "version_minor": 0
      },
      "text/plain": [
       "Downloading (…)ce_transformers.json:   0%|          | 0.00/122 [00:00<?, ?B/s]"
      ]
     },
     "metadata": {},
     "output_type": "display_data"
    },
    {
     "data": {
      "application/vnd.jupyter.widget-view+json": {
       "model_id": "46ccb3b13ee147059ef21c172fdc9a79",
       "version_major": 2,
       "version_minor": 0
      },
      "text/plain": [
       "Downloading pytorch_model.bin:   0%|          | 0.00/438M [00:00<?, ?B/s]"
      ]
     },
     "metadata": {},
     "output_type": "display_data"
    },
    {
     "data": {
      "application/vnd.jupyter.widget-view+json": {
       "model_id": "34c2d6dd59b94158b71bb4b1ef4df4c8",
       "version_major": 2,
       "version_minor": 0
      },
      "text/plain": [
       "Downloading (…)nce_bert_config.json:   0%|          | 0.00/53.0 [00:00<?, ?B/s]"
      ]
     },
     "metadata": {},
     "output_type": "display_data"
    },
    {
     "data": {
      "application/vnd.jupyter.widget-view+json": {
       "model_id": "2e850f56d61940219dfab28a6e9a2e8c",
       "version_major": 2,
       "version_minor": 0
      },
      "text/plain": [
       "Downloading (…)cial_tokens_map.json:   0%|          | 0.00/112 [00:00<?, ?B/s]"
      ]
     },
     "metadata": {},
     "output_type": "display_data"
    },
    {
     "data": {
      "application/vnd.jupyter.widget-view+json": {
       "model_id": "c337f407d000459bac856a8e14e9c5f0",
       "version_major": 2,
       "version_minor": 0
      },
      "text/plain": [
       "Downloading (…)821d1/tokenizer.json:   0%|          | 0.00/466k [00:00<?, ?B/s]"
      ]
     },
     "metadata": {},
     "output_type": "display_data"
    },
    {
     "data": {
      "application/vnd.jupyter.widget-view+json": {
       "model_id": "ba149b5731924093ab5fcc726c64b1ac",
       "version_major": 2,
       "version_minor": 0
      },
      "text/plain": [
       "Downloading (…)okenizer_config.json:   0%|          | 0.00/399 [00:00<?, ?B/s]"
      ]
     },
     "metadata": {},
     "output_type": "display_data"
    },
    {
     "data": {
      "application/vnd.jupyter.widget-view+json": {
       "model_id": "08f1f99ea62a4059ada7f6dd04b306f9",
       "version_major": 2,
       "version_minor": 0
      },
      "text/plain": [
       "Downloading (…)8d01e821d1/vocab.txt:   0%|          | 0.00/232k [00:00<?, ?B/s]"
      ]
     },
     "metadata": {},
     "output_type": "display_data"
    },
    {
     "data": {
      "application/vnd.jupyter.widget-view+json": {
       "model_id": "b4df141a4f6741a08aa82d0ca173c569",
       "version_major": 2,
       "version_minor": 0
      },
      "text/plain": [
       "Downloading (…)1e821d1/modules.json:   0%|          | 0.00/229 [00:00<?, ?B/s]"
      ]
     },
     "metadata": {},
     "output_type": "display_data"
    }
   ],
   "source": [
    "model = SentenceTransformer('bert-base-nli-mean-tokens')\n"
   ]
  },
  {
   "cell_type": "code",
   "execution_count": 20,
   "metadata": {},
   "outputs": [
    {
     "data": {
      "text/plain": [
       "(4802, 768)"
      ]
     },
     "execution_count": 20,
     "metadata": {},
     "output_type": "execute_result"
    }
   ],
   "source": [
    "sentence_embeddings = model.encode(sentences)\n",
    "sentence_embeddings.shape"
   ]
  },
  {
   "cell_type": "code",
   "execution_count": 46,
   "metadata": {},
   "outputs": [
    {
     "data": {
      "text/plain": [
       "4802"
      ]
     },
     "execution_count": 46,
     "metadata": {},
     "output_type": "execute_result"
    }
   ],
   "source": [
    "len(sentence_embeddings)"
   ]
  },
  {
   "cell_type": "code",
   "execution_count": 47,
   "metadata": {},
   "outputs": [],
   "source": [
    "import faiss"
   ]
  },
  {
   "cell_type": "code",
   "execution_count": 55,
   "metadata": {},
   "outputs": [
    {
     "data": {
      "text/plain": [
       "768"
      ]
     },
     "execution_count": 55,
     "metadata": {},
     "output_type": "execute_result"
    }
   ],
   "source": [
    "d=sentence_embeddings.shape[1]\n",
    "d"
   ]
  },
  {
   "cell_type": "code",
   "execution_count": 56,
   "metadata": {},
   "outputs": [],
   "source": [
    "index = faiss.IndexFlatL2(d)"
   ]
  },
  {
   "cell_type": "code",
   "execution_count": 57,
   "metadata": {},
   "outputs": [
    {
     "data": {
      "text/plain": [
       "True"
      ]
     },
     "execution_count": 57,
     "metadata": {},
     "output_type": "execute_result"
    }
   ],
   "source": [
    "index.is_trained"
   ]
  },
  {
   "cell_type": "code",
   "execution_count": 58,
   "metadata": {},
   "outputs": [
    {
     "data": {
      "text/plain": [
       "768"
      ]
     },
     "execution_count": 58,
     "metadata": {},
     "output_type": "execute_result"
    }
   ],
   "source": [
    "index.d # most likely dimenion"
   ]
  },
  {
   "cell_type": "code",
   "execution_count": 59,
   "metadata": {},
   "outputs": [
    {
     "data": {
      "text/plain": [
       "<faiss.swigfaiss.IndexFlatL2; proxy of <Swig Object of type 'faiss::IndexFlatL2 *' at 0x000001DA1789AAF0> >"
      ]
     },
     "execution_count": 59,
     "metadata": {},
     "output_type": "execute_result"
    }
   ],
   "source": [
    "index"
   ]
  },
  {
   "cell_type": "code",
   "execution_count": 60,
   "metadata": {},
   "outputs": [],
   "source": [
    "index.add(sentence_embeddings)"
   ]
  },
  {
   "cell_type": "code",
   "execution_count": 61,
   "metadata": {},
   "outputs": [
    {
     "data": {
      "text/plain": [
       "4802"
      ]
     },
     "execution_count": 61,
     "metadata": {},
     "output_type": "execute_result"
    }
   ],
   "source": [
    "index.ntotal"
   ]
  },
  {
   "cell_type": "code",
   "execution_count": 63,
   "metadata": {},
   "outputs": [],
   "source": [
    "k = 4\n",
    "xq = model.encode(['Some sprints with a football'])"
   ]
  },
  {
   "cell_type": "code",
   "execution_count": 66,
   "metadata": {},
   "outputs": [
    {
     "data": {
      "text/plain": [
       "768"
      ]
     },
     "execution_count": 66,
     "metadata": {},
     "output_type": "execute_result"
    }
   ],
   "source": [
    "len(xq[0])"
   ]
  },
  {
   "cell_type": "code",
   "execution_count": 67,
   "metadata": {},
   "outputs": [
    {
     "name": "stdout",
     "output_type": "stream",
     "text": [
      "[[3087 3698 2393 1140]]\n",
      "CPU times: total: 0 ns\n",
      "Wall time: 12 ms\n"
     ]
    }
   ],
   "source": [
    "%%time\n",
    "D, I = index.search(xq, k)  # search\n",
    "print(I)"
   ]
  },
  {
   "cell_type": "code",
   "execution_count": 68,
   "metadata": {},
   "outputs": [
    {
     "data": {
      "text/plain": [
       "3087     There is no man on a bicycle riding on the beach\n",
       "3698    Adults and children standing and playing in fr...\n",
       "2393                       A man is playing a small flute\n",
       "1140    A person is absently cutting mushrooms with a ...\n",
       "Name: sentence_A, dtype: object"
      ]
     },
     "execution_count": 68,
     "metadata": {},
     "output_type": "execute_result"
    }
   ],
   "source": [
    "data['sentence_A'].iloc[[3087, 3698, 2393, 1140]]"
   ]
  },
  {
   "cell_type": "code",
   "execution_count": 69,
   "metadata": {},
   "outputs": [
    {
     "data": {
      "text/plain": [
       "array([[3087, 3698, 2393, 1140]], dtype=int64)"
      ]
     },
     "execution_count": 69,
     "metadata": {},
     "output_type": "execute_result"
    }
   ],
   "source": [
    "I"
   ]
  },
  {
   "cell_type": "code",
   "execution_count": 72,
   "metadata": {},
   "outputs": [
    {
     "data": {
      "text/plain": [
       "array([ 9.28479493e-01,  8.88930380e-01,  6.62471354e-01, -2.26962820e-01,\n",
       "        1.14660740e-01,  9.83961701e-01,  2.60791516e+00,  1.58596829e-01,\n",
       "       -4.63023603e-01,  3.91623855e-01, -6.38253331e-01, -3.89604390e-01,\n",
       "        6.66258872e-01,  7.26269424e-01, -2.76852489e-01,  9.72813666e-02,\n",
       "        5.82503200e-01,  4.23318781e-02,  9.03028324e-02, -2.85311460e-01,\n",
       "       -6.49049640e-01,  4.58024107e-02,  8.11458290e-01, -8.54693174e-01,\n",
       "        4.30270463e-01, -5.91429435e-02, -9.20499023e-03,  4.12171334e-01,\n",
       "       -3.12453777e-01, -1.73631497e-02,  7.58444518e-02,  8.54093134e-01,\n",
       "        4.58397686e-01, -2.61388600e-01,  9.17677343e-01, -2.93840259e-01,\n",
       "        2.97573864e-01, -1.50773063e-01,  1.84402317e-01, -4.98624355e-01,\n",
       "       -6.71222270e-01,  1.71516575e-02,  4.16951060e-01,  7.81695321e-02,\n",
       "        3.77101421e-01,  9.01443586e-02,  8.63117218e-01, -1.55853689e-01,\n",
       "        4.86998737e-01, -3.56991887e-01,  5.91663122e-02, -4.71880317e-01,\n",
       "        2.00683832e+00,  4.61074680e-01, -7.05448464e-02,  1.01080500e-01,\n",
       "       -3.71644348e-01, -1.05448186e+00,  1.59166887e-01, -1.56267151e-01,\n",
       "       -1.35272968e+00, -1.53062597e-01, -4.37995881e-01, -4.37293351e-01,\n",
       "        2.27768645e-01, -4.78570879e-01,  3.06044430e-01,  1.34312287e-01,\n",
       "       -4.43676949e-01, -1.52759445e+00, -6.26193434e-02, -5.82074821e-01,\n",
       "       -2.37134591e-01, -4.31791812e-01, -5.35764933e-01,  1.59288254e-02,\n",
       "        9.49545428e-02,  3.89777035e-01,  6.25884056e-01,  2.11679906e-01,\n",
       "       -4.38589573e-01,  1.51377171e-01, -3.35971713e-02, -1.20389283e+00,\n",
       "        3.02525550e-01,  2.90480912e-01, -4.09974121e-02, -4.75922406e-01,\n",
       "       -5.39879024e-01,  3.36203992e-01,  1.74346581e-01,  4.97830987e-01,\n",
       "       -4.18347150e-01, -2.95818299e-01, -1.06414020e+00,  5.31677246e-01,\n",
       "        4.99409214e-02,  9.72062528e-01,  6.88231170e-01,  2.44544908e-01,\n",
       "        4.42295969e-01,  1.16372406e+00,  7.13303328e-01,  7.05039144e-01,\n",
       "        7.52138495e-02,  3.19177628e-01,  2.59867996e-01, -2.72291720e-01,\n",
       "       -8.62493098e-01,  4.97124135e-01,  8.08956563e-01,  1.73237360e+00,\n",
       "        4.73162532e-01, -4.13309783e-01, -7.51541376e-01,  5.32211438e-02,\n",
       "       -2.99798340e-01, -4.15432990e-01, -3.42499703e-01,  3.24340761e-01,\n",
       "        1.68310308e+00, -2.41282001e-01,  6.53056741e-01, -1.86462983e-01,\n",
       "       -6.03024781e-01, -1.11458212e-01, -6.05571985e-01,  9.88708436e-01,\n",
       "       -7.33057261e-01, -7.53263831e-01, -3.54306191e-01,  8.51298392e-01,\n",
       "        4.09052186e-02, -8.24547470e-01, -2.67663896e-01, -1.16849383e-02,\n",
       "       -9.85740125e-03, -2.31013834e-01,  8.65719199e-01,  4.96586978e-01,\n",
       "       -2.55428165e-01,  5.86849332e-01,  1.53755188e+00, -8.98735285e-01,\n",
       "        1.09216702e+00, -1.83898866e-01,  1.37258554e+00, -4.20306832e-01,\n",
       "       -1.43391714e-01, -8.60586584e-01, -3.53442311e-01, -1.87220246e-01,\n",
       "        4.35068935e-01,  2.60813117e-01, -4.83003587e-01, -5.00621140e-01,\n",
       "        1.16217792e+00, -3.42932075e-01,  2.82388926e-01, -7.41063282e-02,\n",
       "       -1.60802424e-01, -2.08046496e-01,  2.81578228e-02,  7.31303275e-01,\n",
       "        4.61310387e-01,  3.78686428e-01,  6.81666970e-01,  1.56204748e+00,\n",
       "        4.88952607e-01,  1.71914950e-01,  2.62960762e-01, -3.59800488e-01,\n",
       "        6.41025782e-01, -3.77682537e-01,  5.98474145e-01, -7.23406255e-01,\n",
       "       -6.98934436e-01, -2.81865418e-01, -3.32531959e-01,  3.86982471e-01,\n",
       "        1.30099386e-01,  9.31632936e-01, -2.40290940e-01,  2.84051269e-01,\n",
       "       -2.84698643e-02, -8.06316614e-01,  1.35038868e-01, -9.42321658e-01,\n",
       "       -6.87318087e-01, -8.25929105e-01, -3.04113805e-01, -5.60158670e-01,\n",
       "        9.73990142e-01, -1.49916872e-01, -2.02251360e-01, -9.36340615e-02,\n",
       "        2.00884163e-01,  1.42410398e-04, -7.77282834e-01,  4.51986790e-02,\n",
       "       -6.40889883e-01,  3.54338199e-01, -1.88182622e-01,  3.79329890e-01,\n",
       "       -4.48036849e-01,  8.93687189e-01,  4.15391713e-01, -5.34292795e-02,\n",
       "       -7.00730741e-01, -8.21478963e-01, -1.25059640e+00,  3.41641247e-01,\n",
       "        4.78883088e-01,  1.36375725e-01,  2.56664574e-01, -5.02679288e-01,\n",
       "        1.37329891e-01, -6.72292054e-01,  5.17334521e-01,  4.69787776e-01,\n",
       "       -4.33200866e-01, -1.23280138e-01,  2.05107614e-01, -8.78662392e-02,\n",
       "       -3.56380671e-01,  6.56038582e-01, -2.66832322e-01, -7.00939819e-02,\n",
       "       -5.07913530e-01,  4.18844730e-01, -1.93133056e-01,  6.57254875e-01,\n",
       "       -1.24784529e+00, -2.20068932e-01,  2.83119082e-01, -7.61720359e-01,\n",
       "       -2.25698695e-01, -1.63280189e-01,  2.55172849e-01, -5.98658800e-01,\n",
       "       -1.26024818e+00,  5.96802950e-01,  4.69808951e-02,  1.15561748e+00,\n",
       "        3.63080382e-01,  4.14866298e-01,  4.45465565e-01, -1.30173087e+00,\n",
       "       -1.97042391e-01, -5.95251977e-01,  1.77412182e-01, -1.14974260e-01,\n",
       "        9.17000789e-03, -7.13697597e-02,  6.37051463e-01, -4.35257912e-01,\n",
       "        2.22182035e-01, -2.39877701e-01,  8.98680747e-01, -5.54269105e-02,\n",
       "        3.00495595e-01,  3.98774356e-01, -5.60938001e-01,  2.97034699e-02,\n",
       "       -1.23815465e+00, -5.21472394e-01, -9.66214716e-01,  5.56328118e-01,\n",
       "       -1.09282410e+00,  4.37984876e-02,  4.07543257e-02, -7.80291915e-01,\n",
       "       -3.29334617e-01,  8.56445551e-01, -7.14823782e-01, -4.51978415e-01,\n",
       "       -6.21176422e-01, -5.83640516e-01,  4.92808819e-02, -7.35109091e-01,\n",
       "       -7.97364712e-02,  5.84208071e-01, -3.44444960e-01,  5.56458831e-01,\n",
       "       -5.33031940e-01,  1.11930561e+00, -1.28231853e-01, -2.16838673e-01,\n",
       "        4.78345901e-02, -4.87711966e-01,  2.67232865e-01, -6.75129771e-01,\n",
       "        4.44491178e-01,  7.35522211e-02,  4.27517354e-01, -1.12618610e-01,\n",
       "       -2.34812155e-01, -6.80421591e-01,  7.84653604e-01,  2.33058706e-01,\n",
       "        1.94162354e-02, -5.20754635e-01, -7.40553021e-01,  7.24604905e-01,\n",
       "       -1.36595893e+00,  6.02995753e-01,  4.29986030e-01, -2.25309670e-01,\n",
       "       -5.23303673e-02,  4.98966575e-01, -2.81608284e-01, -9.70280170e-02,\n",
       "       -1.23295393e-02,  7.31781840e-01,  4.10845965e-01, -4.25239861e-01,\n",
       "        1.85000524e-01,  5.00214063e-02, -3.33108872e-01, -9.76595342e-01,\n",
       "        8.67559537e-02,  3.48660052e-01,  5.11677889e-03,  3.00704986e-01,\n",
       "        3.60323608e-01, -1.07360351e+00,  3.25390875e-01,  1.01396292e-01,\n",
       "        3.87454480e-01, -1.00973094e+00,  4.99169350e-01, -4.09864485e-01,\n",
       "        6.74475014e-01,  2.89183199e-01,  1.05097425e+00, -8.25154930e-02,\n",
       "       -1.02042902e+00,  8.24149668e-01, -9.92676497e-01,  9.34208333e-01,\n",
       "        6.87056601e-01, -1.96517539e+00, -2.02092249e-02,  5.86056888e-01,\n",
       "        2.96589971e-01, -3.82927060e-01, -8.56612623e-01,  1.22886181e-01,\n",
       "       -1.66689575e-01,  4.28626329e-01,  8.76784563e-01,  1.16380072e+00,\n",
       "        2.71812528e-01,  8.87987673e-01, -5.85273623e-01, -1.28645957e+00,\n",
       "       -3.14689159e-01,  1.66914463e-01,  8.08356255e-02, -4.83112752e-01,\n",
       "        7.66339228e-02, -5.67566603e-02, -3.74816418e-01, -5.17989695e-01,\n",
       "        6.34079874e-01, -1.06553786e-01, -4.53153431e-01, -9.45041537e-01,\n",
       "        7.56498694e-01, -7.31267333e-02,  2.80739039e-01,  3.44785362e-01,\n",
       "       -7.00017214e-01, -9.64893922e-02, -3.20249140e-01,  7.25922227e-01,\n",
       "       -3.03791136e-01, -6.80829406e-01, -3.89703900e-01, -8.09649467e-01,\n",
       "       -3.03944200e-01, -7.22083032e-01,  5.74619710e-01, -6.99416399e-01,\n",
       "        5.78717768e-01, -5.73235869e-01,  8.76408517e-01,  8.36114138e-02,\n",
       "       -3.66462730e-02,  5.08388519e-01,  3.06036174e-02, -9.50179845e-02,\n",
       "       -9.77987871e-02, -2.01314688e-01,  1.88820735e-01, -3.66375327e-01,\n",
       "       -2.48268098e-01,  3.04129869e-01,  2.96516776e-01,  9.27943468e-01,\n",
       "        1.00791968e-01,  1.64931685e-01,  1.02039897e+00,  2.72504002e-01,\n",
       "        1.50386190e+00,  2.59745449e-01, -8.00395757e-02, -5.01633286e-01,\n",
       "        8.35800078e-03,  1.02649164e+00,  5.47682881e-01, -9.37015533e-01,\n",
       "       -9.14948761e-01,  3.98470759e-01, -7.88349807e-01,  3.37320924e-01,\n",
       "       -1.00763309e+00, -1.01779234e+00, -7.29774475e-01, -5.88400841e-01,\n",
       "       -6.67520761e-01, -1.12692893e+00, -2.52471596e-01,  1.02544203e-01,\n",
       "        1.63651675e-01,  1.62344062e+00, -2.04744905e-01, -5.05044460e-01,\n",
       "       -3.19177061e-02,  3.75994891e-01, -1.81198627e-01, -6.47316337e-01,\n",
       "       -5.51866114e-01, -5.64652026e-01, -4.23687309e-01, -6.13582969e-01,\n",
       "       -4.47653890e-01,  7.48089850e-02,  5.42622656e-02, -6.74575806e-01,\n",
       "       -3.29059184e-01, -7.73985237e-02,  4.64573711e-01, -1.58121258e-01,\n",
       "       -6.92761719e-01,  1.08235240e-01, -9.07427788e-01,  3.68827462e-01,\n",
       "        1.84441730e-01,  6.84470311e-02, -1.01869658e-01, -2.92805672e-01,\n",
       "       -5.09559691e-01,  1.20186055e+00,  8.35790038e-01, -1.83974326e-01,\n",
       "       -7.36192107e-01,  1.85436070e+00, -4.52856660e-01, -1.82023775e-02,\n",
       "        5.38586795e-01,  1.32494509e-01, -1.58325523e-01,  3.05525269e-02,\n",
       "        5.95794559e-01, -2.60170043e-01,  3.15170348e-01, -9.06789839e-01,\n",
       "       -8.11504066e-01,  5.36816381e-02,  2.26298407e-01, -4.11272228e-01,\n",
       "        2.60149352e-02,  5.69280982e-01,  7.96219036e-02, -1.18830872e+00,\n",
       "       -6.00403965e-01,  6.15626574e-01, -6.72739625e-01,  5.94512999e-01,\n",
       "        1.48040935e-01, -7.90226832e-02,  1.21198762e-02, -1.08392099e-02,\n",
       "       -3.63151170e-02,  3.38651299e-01, -8.88681933e-02, -2.78562084e-02,\n",
       "        9.36472416e-02, -1.56397894e-01, -6.04941063e-02, -5.67397952e-01,\n",
       "        5.97212575e-02, -4.51064408e-01,  6.67180896e-01, -3.65885139e-01,\n",
       "       -3.57484132e-01, -3.00049093e-02,  7.43525773e-02,  3.16877782e-01,\n",
       "        4.88486588e-01, -8.29518437e-01, -4.37622219e-01,  4.84033704e-01,\n",
       "        1.18294847e+00,  7.87635565e-01, -4.69126999e-01, -2.08444092e-02,\n",
       "        7.63157755e-02, -3.31027687e-01, -1.08170271e+00,  7.08318114e-01,\n",
       "        3.98053437e-01, -9.04489934e-01, -2.20329255e-01, -1.19661856e+00,\n",
       "       -1.19664975e-01,  8.39032710e-01,  6.61024898e-02, -2.59242915e-02,\n",
       "        6.93702698e-02,  1.11903906e-01,  4.29566890e-01,  2.32669920e-01,\n",
       "       -4.52051833e-02,  2.52493560e-01, -2.64976084e-01,  5.93849778e-01,\n",
       "       -2.86278069e-01, -8.86126101e-01, -3.66481900e-01, -5.22946775e-01,\n",
       "       -2.56494004e-02, -2.63521463e-01, -1.91436619e-01,  3.61368686e-01,\n",
       "       -9.74310935e-02, -4.92348820e-01, -1.13597751e+00, -2.18218073e-01,\n",
       "        4.28020895e-01,  3.59997153e-01,  1.03254271e+00, -2.30136231e-01,\n",
       "       -7.62780130e-01, -1.03372581e-01,  2.78726459e-01,  9.12692308e-01,\n",
       "       -1.29558122e+00, -8.15008819e-01, -1.28351241e-01,  1.74497217e-01,\n",
       "       -3.94850045e-01,  2.71531433e-01, -1.14498377e+00, -6.90625489e-01,\n",
       "       -2.94723153e-01, -9.75541174e-01,  1.17664367e-01, -7.01118231e-01,\n",
       "        7.24573672e-01,  8.39189529e-01, -3.20289642e-01, -3.62954915e-01,\n",
       "       -5.58970094e-01, -2.28183288e-02, -1.73338071e-01, -8.94876719e-01,\n",
       "       -2.94683993e-01, -1.15151262e+00,  5.63678324e-01,  2.03395605e-01,\n",
       "       -6.57231808e-02,  1.72345296e-01, -6.09906793e-01, -6.68315142e-02,\n",
       "        4.35118020e-01, -2.75966018e-01,  3.03632647e-01,  2.03063875e-01,\n",
       "        5.01170039e-01, -2.13017538e-01, -4.50617999e-01, -5.77003777e-01,\n",
       "       -3.56082737e-01, -4.05097336e-01,  6.81176335e-02, -8.91570926e-01,\n",
       "       -1.04411088e-01,  5.84936664e-02, -3.20744514e-01, -1.31874979e-01,\n",
       "        6.84836763e-04, -8.06964815e-01,  4.89426553e-01,  9.76853445e-02,\n",
       "       -4.92328435e-01,  9.23496306e-01,  2.50197291e-01, -1.06340460e-01,\n",
       "        4.72493544e-02, -4.74059939e-01, -5.40326476e-01, -2.93342769e-01,\n",
       "       -5.05406439e-01,  2.14922935e-01, -2.75492936e-01, -7.23556459e-01,\n",
       "       -1.00442493e+00,  1.91757828e-03,  7.37662673e-01, -7.51280738e-03,\n",
       "        3.23175550e-01,  1.99543029e-01, -9.94693458e-01, -7.74931192e-01,\n",
       "       -4.50890958e-01,  9.69417989e-02, -9.00833070e-01,  5.83444715e-01,\n",
       "        6.82318628e-01, -5.92160285e-01,  4.48742390e-01, -5.77313043e-02,\n",
       "        1.23343907e-01, -1.08561087e+00,  2.76284516e-01,  4.66699183e-01,\n",
       "       -1.79130420e-01, -5.05742490e-01,  1.55678829e-02, -2.98409969e-01,\n",
       "       -4.28327203e-01,  4.76278245e-01,  5.71520686e-01,  3.95804882e-01,\n",
       "        7.20585823e-01, -6.37179077e-01, -2.58259505e-01,  5.67942202e-01,\n",
       "        9.26367700e-01,  7.81862974e-01, -1.25447169e-01, -1.63714677e-01,\n",
       "       -1.98203936e-01, -5.89304090e-01,  8.66565779e-02, -1.60726771e-01,\n",
       "       -1.96162327e-05,  8.38220537e-01, -9.29896086e-02,  2.03640461e-01,\n",
       "        2.17870876e-01, -4.81620282e-01, -6.51440978e-01,  3.18263680e-01,\n",
       "       -3.20590198e-01,  6.02234960e-01, -6.95821464e-01, -2.48433098e-01,\n",
       "        7.21820295e-01, -3.21826413e-02, -2.22145483e-01, -1.26980525e-02,\n",
       "        8.16957559e-03,  6.29804671e-01,  6.37174487e-01,  3.09857488e-01,\n",
       "       -1.46697268e-01,  1.38129687e+00, -7.16925114e-02, -3.96352649e-01,\n",
       "        1.04301497e-01, -3.58369350e-02, -6.94344282e-01,  6.22179329e-01,\n",
       "        5.21885455e-01,  3.19954932e-01,  1.35400152e+00,  7.22002864e-01,\n",
       "       -7.44609714e-01, -5.53777292e-02, -7.44935155e-01,  1.16382428e-02,\n",
       "        4.05886233e-01, -5.92148537e-03, -8.42246890e-01,  1.47690147e-01,\n",
       "        3.62493038e-01,  2.71139830e-01,  5.11169732e-01,  1.38815463e-01,\n",
       "       -8.83244276e-01, -4.97470379e-01, -4.73406851e-01,  1.28107920e-01,\n",
       "        2.89528012e-01,  4.93669838e-01, -2.81253010e-01,  1.19280525e-01,\n",
       "       -3.30695957e-01,  9.04433012e-01, -8.06969106e-01,  2.81714052e-01,\n",
       "        9.73732889e-01, -4.87079769e-01,  1.97920188e-01,  7.27921799e-02,\n",
       "        9.96262312e-01, -1.92530140e-01,  2.75633991e-01,  2.52646494e+00,\n",
       "       -3.52571279e-01,  5.62353432e-01, -1.32952660e-01, -2.01113597e-01,\n",
       "        2.29701623e-01, -3.53831917e-01, -9.05925035e-01, -9.90293920e-02,\n",
       "       -6.12313032e-01, -3.16730320e-01, -1.91737577e-01, -4.84171033e-01,\n",
       "        4.64278042e-01, -1.79965813e-02, -4.92072552e-01,  2.06958786e-01,\n",
       "       -4.89727616e-01,  6.11999594e-02, -4.20296967e-01,  7.28666663e-01,\n",
       "       -4.36368912e-01, -4.00785446e-01,  1.01577842e+00,  3.42399716e-01,\n",
       "        1.14407502e-01, -1.02986741e+00, -6.15845561e-01, -3.88596028e-01,\n",
       "        2.69154817e-01,  1.10430896e+00,  2.19649717e-01, -1.27082333e-01,\n",
       "       -2.83667564e-01,  1.13088097e-02,  7.86805987e-01,  1.17973894e-01,\n",
       "       -2.68841594e-01,  6.79465830e-01,  1.41463530e+00,  6.58006549e-01,\n",
       "        4.66275632e-01,  3.28737110e-01,  5.71911573e-01, -4.44037437e-01,\n",
       "       -3.87196034e-01,  4.33176756e-04, -1.11257505e+00, -3.64189982e-01,\n",
       "       -8.74753952e-01, -5.59551775e-01, -2.30917037e-01, -3.52410614e-01,\n",
       "        5.96789122e-01,  2.96525896e-01, -1.03401744e+00, -3.05814803e-01],\n",
       "      dtype=float32)"
      ]
     },
     "execution_count": 72,
     "metadata": {},
     "output_type": "execute_result"
    }
   ],
   "source": [
    "index.reconstruct(3038)"
   ]
  },
  {
   "cell_type": "code",
   "execution_count": 71,
   "metadata": {},
   "outputs": [
    {
     "name": "stdout",
     "output_type": "stream",
     "text": [
      "0 3087\n",
      "1 3698\n",
      "2 2393\n",
      "3 1140\n"
     ]
    }
   ],
   "source": [
    "for i, val in enumerate(I[0].tolist()):\n",
    "    print(i, val)"
   ]
  },
  {
   "cell_type": "code",
   "execution_count": null,
   "metadata": {},
   "outputs": [],
   "source": []
  },
  {
   "cell_type": "code",
   "execution_count": null,
   "metadata": {},
   "outputs": [],
   "source": []
  },
  {
   "cell_type": "code",
   "execution_count": null,
   "metadata": {},
   "outputs": [],
   "source": []
  },
  {
   "cell_type": "code",
   "execution_count": null,
   "metadata": {},
   "outputs": [],
   "source": []
  },
  {
   "cell_type": "code",
   "execution_count": null,
   "metadata": {},
   "outputs": [],
   "source": []
  },
  {
   "cell_type": "code",
   "execution_count": null,
   "metadata": {},
   "outputs": [],
   "source": []
  },
  {
   "cell_type": "code",
   "execution_count": 29,
   "metadata": {},
   "outputs": [
    {
     "data": {
      "text/plain": [
       "<faiss.swigfaiss.IndexFlatL2; proxy of <Swig Object of type 'faiss::IndexFlatL2 *' at 0x000001DA178990E0> >"
      ]
     },
     "execution_count": 29,
     "metadata": {},
     "output_type": "execute_result"
    }
   ],
   "source": [
    "index"
   ]
  },
  {
   "cell_type": "code",
   "execution_count": null,
   "metadata": {},
   "outputs": [],
   "source": []
  },
  {
   "cell_type": "code",
   "execution_count": null,
   "metadata": {},
   "outputs": [],
   "source": []
  },
  {
   "cell_type": "code",
   "execution_count": null,
   "metadata": {},
   "outputs": [],
   "source": []
  },
  {
   "cell_type": "code",
   "execution_count": 27,
   "metadata": {},
   "outputs": [
    {
     "data": {
      "text/plain": [
       "<faiss.swigfaiss.IndexFlatL2; proxy of <Swig Object of type 'faiss::IndexFlatL2 *' at 0x000001DA178990E0> >"
      ]
     },
     "execution_count": 27,
     "metadata": {},
     "output_type": "execute_result"
    }
   ],
   "source": [
    "index"
   ]
  },
  {
   "cell_type": "code",
   "execution_count": null,
   "metadata": {},
   "outputs": [],
   "source": []
  }
 ],
 "metadata": {
  "kernelspec": {
   "display_name": "langchain",
   "language": "python",
   "name": "python3"
  },
  "language_info": {
   "codemirror_mode": {
    "name": "ipython",
    "version": 3
   },
   "file_extension": ".py",
   "mimetype": "text/x-python",
   "name": "python",
   "nbconvert_exporter": "python",
   "pygments_lexer": "ipython3",
   "version": "3.10.11"
  }
 },
 "nbformat": 4,
 "nbformat_minor": 2
}
