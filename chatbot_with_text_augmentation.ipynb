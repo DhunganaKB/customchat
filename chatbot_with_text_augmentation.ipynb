{
 "cells": [
  {
   "cell_type": "code",
   "execution_count": 1,
   "metadata": {},
   "outputs": [],
   "source": [
    "from langchain.document_loaders import UnstructuredURLLoader\n",
    "from langchain.llms import OpenAI\n",
    "from langchain.chat_models import ChatOpenAI\n",
    "from langchain import PromptTemplate\n",
    "from langchain.chains import LLMChain\n",
    "from langchain.text_splitter import RecursiveCharacterTextSplitter\n",
    "from langchain.vectorstores import Chroma\n",
    "from langchain.embeddings import OpenAIEmbeddings\n",
    "import requests\n",
    "import tiktoken"
   ]
  },
  {
   "cell_type": "code",
   "execution_count": 2,
   "metadata": {},
   "outputs": [],
   "source": [
    "## Read text data from github "
   ]
  },
  {
   "cell_type": "code",
   "execution_count": 3,
   "metadata": {},
   "outputs": [],
   "source": [
    "doc_url=\"https://raw.githubusercontent.com/DhunganaKB/customchat/main/survey-document.txt\"\n",
    "req = requests.get(doc_url)\n",
    "doc1 = req.text\n",
    "#print(req)"
   ]
  },
  {
   "cell_type": "code",
   "execution_count": 4,
   "metadata": {},
   "outputs": [],
   "source": [
    "#OPENAI_API_KEY='Use your api key here'"
   ]
  },
  {
   "cell_type": "code",
   "execution_count": 5,
   "metadata": {},
   "outputs": [],
   "source": [
    "custom_text_splitter = RecursiveCharacterTextSplitter(\n",
    "    # Set custom chunk size\n",
    "    chunk_size = 300,\n",
    "    chunk_overlap  = 20,\n",
    "    # Use length of the text as the size measure\n",
    "    length_function = len,\n",
    ")\n",
    "\n",
    "# Create the chunks\n",
    "chunks = custom_text_splitter.create_documents([doc1])"
   ]
  },
  {
   "cell_type": "code",
   "execution_count": 6,
   "metadata": {},
   "outputs": [],
   "source": [
    "#creating db locally"
   ]
  },
  {
   "cell_type": "code",
   "execution_count": 7,
   "metadata": {},
   "outputs": [],
   "source": [
    "persist_directory = 'db'\n",
    "embedding = OpenAIEmbeddings(openai_api_key=OPENAI_API_KEY)\n",
    "vectordb = Chroma.from_documents(documents=chunks,\n",
    "                                 embedding=embedding,\n",
    "                                 persist_directory=persist_directory)\n"
   ]
  },
  {
   "cell_type": "code",
   "execution_count": 8,
   "metadata": {},
   "outputs": [],
   "source": [
    "def ask_with_memory(vectordb, question, chat_history=[]):\n",
    "    from langchain.chains import ConversationalRetrievalChain\n",
    "    from langchain.chat_models import ChatOpenAI\n",
    "    \n",
    "    llm = ChatOpenAI(temperature=0, openai_api_key=OPENAI_API_KEY)\n",
    "    retriever = vectordb.as_retriever(search_type='similarity', search_kwargs={'k': 3})\n",
    "    \n",
    "    crc = ConversationalRetrievalChain.from_llm(llm, retriever)\n",
    "    result = crc({'question': question, 'chat_history': chat_history})\n",
    "    chat_history.append((question, result['answer']))\n",
    "    \n",
    "    return result, chat_history"
   ]
  },
  {
   "cell_type": "code",
   "execution_count": 9,
   "metadata": {},
   "outputs": [],
   "source": [
    "questions=[\"What is this program all about?\",\n",
    "\"How can farmers benefit from this?\",\n",
    "\"When will they will make the payment?\",\n",
    "\"What do I need to do to join in?\",\n",
    "\"Can I be part of this if I use organic farming?\",\n",
    "\"I live in a different state, but my farm is in IA, can I still join?\",\n",
    "\"Do I have to pay for shipping the product?\",\n",
    "\"Do we need advance tools for this test?\",\n",
    "\"Who will visit our fields to check the test?\",\n",
    "\"Will this trial go beyond 2024?\",\n",
    "\"How much mony I can make from this program?\",\n",
    "\"Why this program?\",\n",
    "\"how much a grower will get?\"\n",
    "]\n"
   ]
  },
  {
   "cell_type": "code",
   "execution_count": 10,
   "metadata": {},
   "outputs": [
    {
     "name": "stdout",
     "output_type": "stream",
     "text": [
      "Question: What is this program all about?\n",
      "Answer: This program is about introducing a new type of crop product to farmers in the upcoming year, 2024. The product is designed to yield higher crops, be environmentally friendly, have better survival rates during tough weather conditions, and come with a user-friendly protocol. Farmers who are interested in participating in the program need to meet certain requirements.\n",
      "\n",
      "\n",
      "Question: How can farmers benefit from this?\n",
      "Answer: The benefits for farmers in participating in this program include the ability to yield higher crops, better survival rates during tough weather conditions, and a user-friendly protocol. Additionally, participating farmers will have the opportunity to collaborate with Company XYZ and receive exclusive offers for significant discounts on various other products from the company.\n",
      "\n",
      "\n",
      "Question: When will they will make the payment?\n",
      "Answer: The payment will be divided into two parts. The initial 50% will be made upon agreement, and the remaining 50% will be paid after the harvest is completed.\n",
      "\n",
      "\n",
      "Question: What do I need to do to join in?\n",
      "Answer: The requirements to join the program include having prior trial experience, using cover crops in their fields, not participating in a similar survey with other companies in 2024, and agreeing to complete two short 30-minute written surveys in 2024.\n",
      "\n",
      "\n",
      "Question: Can I be part of this if I use organic farming?\n",
      "Answer: Based on the given information, there is no specific mention of organic farming as a requirement or exclusion for participation in the program. Therefore, it is possible for you to be part of the program if you practice organic farming. However, please note that there may be additional requirements or criteria that are not mentioned in the given context. It would be best to contact the company directly for more information.\n",
      "\n",
      "\n",
      "Question: I live in a different state, but my farm is in IA, can I still join?\n",
      "Answer: Based on the given context, it is not specified whether farmers from outside the specific region can join the program. It is best to contact the company or program organizers directly to inquire about eligibility criteria for farmers from different states.\n",
      "\n",
      "\n",
      "Question: Do I have to pay for shipping the product?\n",
      "Answer: I don't know, as the information provided does not mention anything about the cost of shipping the product. It would be best to reach out to the company at helpag@xyx.com or visit their website at https://xyz.com for more information regarding the cost of shipping.\n",
      "\n",
      "\n",
      "Question: Do we need advance tools for this test?\n",
      "Answer: There is no mention of needing advanced tools in order to participate in the program. The requirements mentioned are prior trial experience, using cover crops, not participating in a similar survey with other companies in 2024, and completing two short written surveys in 2024.\n",
      "\n",
      "\n",
      "Question: Who will visit our fields to check the test?\n",
      "Answer: The company will send their own agronomist to collect data and monitor the fields throughout the season.\n",
      "\n",
      "\n",
      "Question: Will this trial go beyond 2024?\n",
      "Answer: Based on the given context, there is no information provided about the trial continuing beyond 2024.\n",
      "\n",
      "\n",
      "Question: How much mony I can make from this program?\n",
      "Answer: By participating in this program, you have the potential to make a maximum payout of $10,000. The compensation rate is set at $10 per acre, and you can allocate up to 1000 acres for this trial. The payment will be divided into two parts: an initial 50% upon agreement, and the remaining 50% after the harvest is completed.\n",
      "\n",
      "\n",
      "Question: Why this program?\n",
      "Answer: The reason for implementing this program is to involve around 200 farmers from a specific region in order to promote the use of a product that yields higher crops, is environmentally friendly, has better survival rates during tough weather conditions, and comes with a user-friendly protocol.\n",
      "\n",
      "\n",
      "Question: how much a grower will get?\n",
      "Answer: A grower will receive a payment of $10 per acre for participating in the program. The total amount a grower can receive will depend on the number of acres they allocate for the trial, with a maximum potential payout of $10,000.\n",
      "\n",
      "\n"
     ]
    }
   ],
   "source": [
    "chat_history = []\n",
    "for question in questions:\n",
    "    result, chat_history = ask_with_memory(vectordb, question, chat_history)\n",
    "    print(f\"Question: {question}\")\n",
    "    print(f\"Answer: {result['answer']}\")\n",
    "    print(\"\\n\")\n"
   ]
  },
  {
   "cell_type": "code",
   "execution_count": 11,
   "metadata": {},
   "outputs": [],
   "source": [
    "from langchain.schema.document import Document\n",
    "from langchain.chains.question_answering import load_qa_chain\n"
   ]
  },
  {
   "cell_type": "code",
   "execution_count": 12,
   "metadata": {},
   "outputs": [],
   "source": [
    "docnew=Document(page_content=doc1)\n",
    "docnew = [docnew]\n"
   ]
  },
  {
   "cell_type": "code",
   "execution_count": 13,
   "metadata": {},
   "outputs": [],
   "source": [
    "def loading_all_document(question):\n",
    "    llm = ChatOpenAI(temperature=0, openai_api_key=OPENAI_API_KEY)\n",
    "    chain = load_qa_chain(llm, chain_type=\"stuff\")\n",
    "    result=chain.run(input_documents=docnew, question=question)\n",
    "    return result"
   ]
  },
  {
   "cell_type": "code",
   "execution_count": 14,
   "metadata": {},
   "outputs": [
    {
     "name": "stdout",
     "output_type": "stream",
     "text": [
      "Question: What is this program all about?\n",
      "Answer: This program is about introducing a new type of crop product to farmers. The program involves a research trial that has shown a significant increase in crop yield. Participating farmers will receive compensation based on the amount of land they commit to the trial. The program is currently limited to a few states in the USA, but may be extended to additional states in the future. Farmers who participate will also have the opportunity to collaborate with the company and receive exclusive offers for discounts on other products. The program has certain requirements for participation, including prior trial experience and the use of cover crops.\n",
      "\n",
      "\n",
      "Question: How can farmers benefit from this?\n",
      "Answer: Farmers can benefit from this program in several ways:\n",
      "\n",
      "1. Increased crop yield: The new crop product has shown a significant increase in crop yield during the research trial. By participating in the program, farmers have the opportunity to improve their productivity and potentially increase their profits.\n",
      "\n",
      "2. Compensation: Farmers who choose to participate in the trial will receive compensation based on the amount of land they commit to the program. The payment is divided into two parts, with an initial 50% paid upon agreement and the remaining 50% after the harvest is completed. The compensation rate is set at $10 per acre, with a maximum potential payout of $10,000.\n",
      "\n",
      "3. Collaboration opportunities: Participating farmers will have the opportunity to collaborate with Company XYZ. This collaboration can provide valuable insights and knowledge exchange, potentially leading to further improvements in farming practices and productivity.\n",
      "\n",
      "4. Exclusive offers and discounts: Farmers who participate in the program will receive exclusive offers for significant discounts on various other products from Company XYZ. This can help farmers save money on their agricultural inputs and equipment.\n",
      "\n",
      "Overall, participating in this program can help farmers increase their crop yield, receive compensation, collaborate with a reputable company, and enjoy discounts on other products, providing both financial and operational benefits.\n",
      "\n",
      "\n",
      "Question: When will they will make the payment?\n",
      "Answer: The payment to participating farmers will be divided into two parts. The initial 50% of the payment will be made upon agreement, and the remaining 50% will be paid after the harvest is completed.\n",
      "\n",
      "\n",
      "Question: What do I need to do to join in?\n",
      "Answer: To join the program, you need to meet certain requirements. These include having prior trial experience, using cover crops in your fields, not participating in a similar survey with other companies in 2024, and agreeing to complete two short 30-minute written surveys in 2024. If you meet these requirements, you can fill out the quick online survey provided at helpag-survey24@xyx.com to express your interest in participating.\n",
      "\n",
      "\n",
      "Question: Can I be part of this if I use organic farming?\n",
      "Answer: Yes, you can be part of this program if you use organic farming. The program does not specify any restrictions on the farming methods used by participants. As long as you meet the other requirements mentioned, such as having prior trial experience, using cover crops, and not participating in a similar survey with other companies in 2024, you are eligible to participate.\n",
      "\n",
      "\n",
      "Question: I live in a different state, but my farm is in IA, can I still join?\n",
      "Answer: Yes, you can still join the program if your farm is located in Iowa (IA). The program is currently limited to a few states, including Iowa, so you are eligible to participate.\n",
      "\n",
      "\n",
      "Question: Do I have to pay for shipping the product?\n",
      "Answer: The provided context does not mention anything about shipping costs for the product. It would be best to reach out to the company directly at helpag@xyx.com or visit their website at https://xyz.com for more information regarding shipping and any associated costs.\n",
      "\n",
      "\n",
      "Question: Do we need advance tools for this test?\n",
      "Answer: The information provided does not mention any specific advance tools required for the trial. However, it does mention that the product comes with a user-friendly protocol, which suggests that farmers may not need specialized or advanced tools to participate in the program. For more specific information, it is recommended to reach out to the company directly at helpag@xyz.com or visit their website at https://xyz.com.\n",
      "\n",
      "\n",
      "Question: Who will visit our fields to check the test?\n",
      "Answer: The company will send their own agronomist to visit and monitor the fields throughout the season for the trial period.\n",
      "\n",
      "\n",
      "Question: Will this trial go beyond 2024?\n",
      "Answer: Yes, it is quite probable that the trial will be extended to additional states in the United States beyond 2024.\n",
      "\n",
      "\n",
      "Question: How much mony I can make from this program?\n",
      "Answer: Farmers participating in this program can earn compensation based on the amount of land they commit to the trial. The compensation rate is set at $10 per acre, with a maximum potential payout of $10,000. The payment will be divided into two parts: an initial 50% upon agreement, and the remaining 50% after the harvest is completed.\n",
      "\n",
      "\n",
      "Question: Why this program?\n",
      "Answer: This program is being conducted by Company XYZ to introduce a new type of crop product to farmers. The program has been based on a research trial conducted from 2016 to 2022, which showed a significant increase in crop yield. The new crop product is environmentally friendly, has better survival rates during tough weather conditions, and comes with a user-friendly protocol. Participating farmers will not only benefit from higher crop yields but also receive compensation based on the amount of land they commit to the trial. Additionally, they will have the opportunity to collaborate with Company XYZ and receive exclusive offers for significant discounts on various other products.\n",
      "\n",
      "\n",
      "Question: how much a grower will get?\n",
      "Answer: A grower participating in the program will receive compensation based on the amount of land (in acres) they commit to the trial. The compensation rate is set at $10 per acre, with a maximum potential payout of $10,000. The payment will be divided into two parts: an initial 50% upon agreement, and the remaining 50% after the harvest is completed.\n",
      "\n",
      "\n"
     ]
    }
   ],
   "source": [
    "for question in questions:\n",
    "    result = loading_all_document(question)\n",
    "    print(f\"Question: {question}\")\n",
    "    print(f\"Answer: {result}\")\n",
    "    print(\"\\n\")\n"
   ]
  },
  {
   "cell_type": "markdown",
   "metadata": {},
   "source": [
    "## text augmentation"
   ]
  },
  {
   "cell_type": "code",
   "execution_count": 11,
   "metadata": {},
   "outputs": [
    {
     "data": {
      "text/plain": [
       "498"
      ]
     },
     "execution_count": 11,
     "metadata": {},
     "output_type": "execute_result"
    }
   ],
   "source": [
    "encoding = tiktoken.encoding_for_model(\"gpt-3.5-turbo\")\n",
    "len(encoding.encode(doc1))"
   ]
  },
  {
   "cell_type": "code",
   "execution_count": 12,
   "metadata": {},
   "outputs": [],
   "source": [
    "llm = ChatOpenAI(model='gpt-4', temperature=1, openai_api_key=OPENAI_API_KEY)\n",
    "template = '''\n",
    "Disregard all prior instructions. As a seasoned agromonist, your command of English is exceptional.\n",
    "\n",
    "Your task involves rephrasing the subsequent passage {text} in clear, straightforward English, doing so {number} times. \n",
    "Furthermore, enrich the paragraph using your profound agronomic knowledge, all while preserving its essence for farmers' enhanced program comprehension.\n",
    "\n",
    "Employ a diverse array of grammatical structures to infuse variety into your revisions.\n",
    "Incorporate a spectrum of vocabulary, ranging from the elementary to the intricate.\n",
    "'''\n",
    "\n",
    "prompt = PromptTemplate(input_variables=['text', 'number'],\n",
    "                        template=template)\n",
    "chain = LLMChain(llm=llm, prompt=prompt)\n",
    "\n",
    "#output = chain.run({'text':'We are going to party tonight, but we are not sure about other atendees', 'number':'5'})\n",
    "def combining_outputs(output):\n",
    "    #return [x[3:] for x in output.split('\\n')]\n",
    "    return [x[3:] for x in output.split('\\n') if 'Rewrite' not in x if x !='' if 'Review' not in x]"
   ]
  },
  {
   "cell_type": "code",
   "execution_count": 13,
   "metadata": {},
   "outputs": [],
   "source": [
    "doc=chain.run({'text':doc1, 'number':'5'})"
   ]
  },
  {
   "cell_type": "code",
   "execution_count": 14,
   "metadata": {},
   "outputs": [],
   "source": [
    "orgdoc=[x for x in doc1.split('\\n') if x != '']"
   ]
  },
  {
   "cell_type": "code",
   "execution_count": 15,
   "metadata": {},
   "outputs": [
    {
     "name": "stdout",
     "output_type": "stream",
     "text": [
      "1. Synopsis of the Project: The esteemed company, XYZ, is on the precipice of showcasing to agrarian communities a novel and revolutionary agricultural product in the forthcoming year, 2024. Six years of dedicated research from 2016 to 2022 into this product has manifested stark improvements in crop production. Initially, the testing ground for this venture involves a select group of states, principally IA, IL, MO, IN, NE, geographically confined within the American borders. It's envisaged that post-2024, the company may spread its wings and incorporate more states into the ambit of this experiment. In order to ensure the smooth conduct of the trial phase, XYZ will be dispatching their in-house agronomists for constant monitoring and data collection from the fields throughout the agrarian calendar. Those farmers who throw their hat in the ring stand to profit substantially as per the area they pledge to the program, with the upper limit capped at 1000 acres. Compensation is bifurcated into two payments: a preliminary half after the commencement of the agreement, with the rest remunerated post-harvest. The payout is pegged at $10 an acre, resulting in a potential maximum windfall of $10,000.\n",
      "\n",
      "2. Blueprint of the Scheme: A remarkable breakthrough in the agriculture field is on the horizon, thanks to XYZ Company's innovative crop product set to be launched in 2024. This game-changing product is the result of half a decade of meticulous research conducted between 2016 and 2022, promising marked enhancements in crop yields. Initially, the program is confined to a handful of states within the USA, specifically IA, IL, MO, IN, and NE. Post-2024 sees a likely possibility of expansion to include additional American states. To ensure in-depth data collection and vigilant monitoring, an accomplished agronomist, courtesy of XYZ, is assigned for each participating farm. Participating farmers with land parcels up to 1000 acres stand to gain significant monetary compensation split across two installments: the first half coming upon agreement and the latter upon completion of the harvest. Each acre warrants a $10 remuneration, ensuring a promising maximum incentive of $10,000.\n",
      "\n",
      "3. Outline of the Program: The year 2024 is slated to witness an agricultural revolution, led by XYZ Company's innovative new crop product. This product, tested extensively from 2016 to 2022, offers a significant boost in crop yields. The program, for now, is restricted to the states of IA, IL, MO, IN, and NE of the USA but carries the potential for expansion beyond 2024. During the trial, XYZ's own expert agromonist will be on-site to collect data and supervise the crops. Farmers who decide to be part of the trial will be financially rewarded based on the area of land they dedicate to the experiment, up to a maximum of 1000 acres. Compensation will be split into an upfront 50% payment at the agreement stage, and the latter half will be given after the harvest is complete, with $10 allocated per acre, totaling up to a grand possibility of $10,000. \n",
      "\n",
      "4. Program Overview: The year 2024 brings a new dawn in farming with the introduction of a breakthrough crop product by the esteemed XYZ company. The product, perfected over rigorous trials from 2016 to 2022, stands to significantly increase crop yield. However, the initial rollout is set for the states of IA, IL, MO, IN, NE within the US, with an expansion plan following 2024. An expert agronomist from XYZ will conduct regular checks and collect comprehensive information throughout the growing season. Each farm could pledge up to 1,000 acres to the trial, with compensation based on the pledged land area, paid in two installments: one immediate and one post-harvest. Each acre brings $10, and farmers could earn up to a maximum of $10,000.\n",
      "\n",
      "5. Summary of the Initiative: The unveiling of an innovative crop product is on the cards for 2024, courtesy of the reputable XYZ Company. The result of meticulous research spanning from 2016 to 2022, this product is set to revolutionize crop yields significantly. Initially, the program is tailored for the states of IA, IL, MO, IN, and NE situated within the USA, but plans for expansion are already being considered post-2024. For the coveted task of data collection and constant monitoring throughout the agricultural season, XYZ’s seasoned agronomist will be present on-site. Farmers, who choose to join this groundbreaking trial, stand to economically benefit based on the land allotment, factoring in a ceiling of 1000 acres. The remuneration has a two-fold nature, half given at the beginning of the agreement and the remaining half handed over after the successful completion of the harvest season, with an enticing prospect of $10 assigned per acre, thereby pitching the upper limit at $10,000.\n",
      "\n"
     ]
    }
   ],
   "source": [
    "print(doc)"
   ]
  },
  {
   "cell_type": "code",
   "execution_count": 16,
   "metadata": {},
   "outputs": [],
   "source": [
    "doc2=combining_outputs(doc)\n",
    "#doc2\n",
    "doc2 = doc2 + orgdoc\n",
    "doc_final = \" \".join(doc2)"
   ]
  },
  {
   "cell_type": "code",
   "execution_count": 17,
   "metadata": {},
   "outputs": [
    {
     "name": "stdout",
     "output_type": "stream",
     "text": [
      "1504\n"
     ]
    }
   ],
   "source": [
    "print(len(encoding.encode(doc_final)))"
   ]
  },
  {
   "cell_type": "code",
   "execution_count": 18,
   "metadata": {},
   "outputs": [],
   "source": [
    "chunks_final = custom_text_splitter.create_documents([doc_final])"
   ]
  },
  {
   "cell_type": "code",
   "execution_count": 19,
   "metadata": {},
   "outputs": [],
   "source": [
    "persist_directory1 = 'db_new'\n",
    "embedding = OpenAIEmbeddings(openai_api_key=OPENAI_API_KEY)\n",
    "vectordb1 = Chroma.from_documents(documents=chunks_final,\n",
    "                                 embedding=embedding,\n",
    "                                 persist_directory=persist_directory1)"
   ]
  },
  {
   "cell_type": "code",
   "execution_count": 20,
   "metadata": {},
   "outputs": [
    {
     "name": "stdout",
     "output_type": "stream",
     "text": [
      "Question: What is this program all about?\n",
      "Answer: This program is about introducing a new type of crop product to farmers. The program aims to increase crop yield and has shown promising results in research trials conducted from 2016 to 2022. It is initially limited to the states of IA, IL, MO, IN, and NE in the USA, but there are plans for expansion after 2024. The product is designed to have better survival rates during tough weather conditions and comes with a user-friendly protocol. Farmers who want to participate in the program need to meet certain requirements, such as having prior trial experience and using cover crops in their fields.\n",
      "\n",
      "\n",
      "Question: How can farmers benefit from this?\n",
      "Answer: The benefits for farmers in participating in this program include:\n",
      "\n",
      "1. Collaboration with Company XYZ: Participating farmers will have the opportunity to collaborate with Company XYZ, which can provide valuable insights and expertise in the agricultural industry.\n",
      "\n",
      "2. Exclusive offers for significant discounts: Farmers will receive exclusive offers for significant discounts on various other products, which can help them save money on their farming operations.\n",
      "\n",
      "3. Better survival rates during tough weather conditions: The program offers a crop variety that has better survival rates during tough weather conditions, which can help farmers mitigate the risks associated with unpredictable weather patterns.\n",
      "\n",
      "4. User-friendly protocol: The program comes with a user-friendly protocol, making it easier for farmers to implement and manage.\n",
      "\n",
      "5. Monetary compensation: Participating farmers with land parcels up to 1000 acres stand to gain significant monetary compensation, which can provide financial benefits for their participation.\n",
      "\n",
      "6. Assigned agronomist: An accomplished agronomist, courtesy of XYZ, is assigned to each participating farm to ensure in-depth data collection and vigilant monitoring. This can provide farmers with personalized guidance and support for their farming practices.\n",
      "\n",
      "Please note that the specific details and benefits may vary depending on the program and its terms and conditions.\n",
      "\n",
      "\n",
      "Question: When will they will make the payment?\n",
      "Answer: The payment will be made in two installments. The first half will be paid upon agreement, and the second half will be paid after the completion of the harvest.\n",
      "\n",
      "\n",
      "Question: What do I need to do to join in?\n",
      "Answer: To join this program, you need to fill up the quick online survey provided at helpag-survey24@xyx.com. Make sure to complete the survey before 09/30/2023, as responses received after this date will not be eligible for participation. Additionally, you need to meet certain requirements, such as having prior trial experience, using cover crops in your fields, and not participating in a similar survey with other companies in 2024. By participating, you will have the opportunity to collaborate with Company XYZ and receive exclusive offers for significant discounts on various other products.\n",
      "\n",
      "\n",
      "Question: Can I be part of this if I use organic farming?\n",
      "Answer: Based on the given context, it is not explicitly mentioned whether organic farming is a requirement or a disqualification for participation in the program. Therefore, it is unclear whether practicing organic farming would make you eligible or ineligible for the program.\n",
      "\n",
      "\n",
      "Question: I live in a different state, but my farm is in IA, can I still join?\n",
      "Answer: Based on the given context, it is unclear whether you can join the program if you live in a different state but your farm is located in IA. The information provided states that the program is initially tailored for the states of IA, IL, MO, IN, and NE. However, it also mentions plans for expansion after 2024. It would be best to contact the company directly to inquire about joining the program in your specific situation.\n",
      "\n",
      "\n",
      "Question: Do I have to pay for shipping the product?\n",
      "Answer: The provided context does not mention anything about the cost of shipping the product. Therefore, it is unclear whether there is a cost for shipping or not.\n",
      "\n",
      "\n",
      "Question: Do we need advance tools for this test?\n",
      "Answer: The given context does not mention anything about advanced tools being required for this test. Therefore, it is unclear whether advanced tools are required or not.\n",
      "\n",
      "\n",
      "Question: Who will visit our fields to check the test?\n",
      "Answer: XYZ's in-house agronomists will be dispatched to visit and monitor the fields during the trial phase. Additionally, XYZ's expert agronomist will be present on-site for data collection and supervision of the crops.\n",
      "\n",
      "\n",
      "Question: Will this trial go beyond 2024?\n",
      "Answer: Yes, it is quite probable that the trial will be extended to additional states in the United States beyond 2024.\n",
      "\n",
      "\n",
      "Question: How much mony I can make from this program?\n",
      "Answer: As a participant in this program, you have the potential to make a maximum payout of $10,000. The compensation rate is set at $10 per acre, and the program has a limit of 1,000 acres. However, it's important to note that the program is limited to around 200 farmers from a specific region, so the actual amount you can make will depend on the size of your pledge and the number of participants.\n",
      "\n",
      "\n",
      "Question: Why this program?\n",
      "Answer: The purpose of this program is to introduce a new type of crop product to farmers that has shown a significant increase in crop yield during the research trial. The program aims to provide farmers with a crop that has better survival rates during tough weather conditions and comes with a user-friendly protocol. The program also aims to collect data and monitor the performance of the crop in different fields throughout the agrarian calendar.\n",
      "\n",
      "\n",
      "Question: how much a grower will get?\n",
      "Answer: A grower participating in this program will receive compensation based on the amount of land they commit to the trial. The payment will be divided into two parts: an initial 50% payment upon agreement and the remaining 50% after the harvest is completed. The compensation rate is set at $10 per acre, with a maximum potential payout of $10,000.\n",
      "\n",
      "\n"
     ]
    }
   ],
   "source": [
    "chat_history = []\n",
    "for question in questions:\n",
    "    result, chat_history = ask_with_memory(vectordb1, question, chat_history)\n",
    "    print(f\"Question: {question}\")\n",
    "    print(f\"Answer: {result['answer']}\")\n",
    "    print(\"\\n\")"
   ]
  },
  {
   "cell_type": "code",
   "execution_count": null,
   "metadata": {},
   "outputs": [],
   "source": []
  }
 ],
 "metadata": {
  "kernelspec": {
   "display_name": "langchain",
   "language": "python",
   "name": "python3"
  },
  "language_info": {
   "codemirror_mode": {
    "name": "ipython",
    "version": 3
   },
   "file_extension": ".py",
   "mimetype": "text/x-python",
   "name": "python",
   "nbconvert_exporter": "python",
   "pygments_lexer": "ipython3",
   "version": "3.10.11"
  },
  "orig_nbformat": 4
 },
 "nbformat": 4,
 "nbformat_minor": 2
}
