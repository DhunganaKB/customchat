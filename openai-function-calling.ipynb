{
 "cells": [
  {
   "cell_type": "code",
   "execution_count": 1,
   "metadata": {},
   "outputs": [],
   "source": [
    "from dotenv import load_dotenv, find_dotenv\n",
    "import os\n",
    "import openai\n",
    "from langchain.chat_models import ChatOpenAI\n",
    "import json"
   ]
  },
  {
   "cell_type": "code",
   "execution_count": 2,
   "metadata": {},
   "outputs": [],
   "source": [
    "load_dotenv()\n",
    "openai.api_key = os.getenv(\"OPENAI_API_KEY\")"
   ]
  },
  {
   "cell_type": "code",
   "execution_count": 3,
   "metadata": {},
   "outputs": [],
   "source": [
    "Name_person=\"Abraham Lincoln\"\n",
    "user_prompt=f\"Provide a birth place and date of birth of {Name_person}?\"\n",
    "\n",
    "completion = openai.ChatCompletion.create(\n",
    "    model=\"gpt-3.5-turbo-0613\",\n",
    "    messages=[\n",
    "        {\n",
    "            \"role\": \"user\",\n",
    "            \"content\": user_prompt,\n",
    "        },\n",
    "    ],\n",
    ")\n"
   ]
  },
  {
   "cell_type": "code",
   "execution_count": 4,
   "metadata": {},
   "outputs": [
    {
     "data": {
      "text/plain": [
       "'Abraham Lincoln was born in a log cabin in Hodgenville, Kentucky, United States on February 12, 1809.'"
      ]
     },
     "execution_count": 4,
     "metadata": {},
     "output_type": "execute_result"
    }
   ],
   "source": [
    "completion['choices'][0]['message']['content']"
   ]
  },
  {
   "cell_type": "code",
   "execution_count": 5,
   "metadata": {},
   "outputs": [],
   "source": [
    "function_descriptions = [\n",
    "    {\n",
    "        \"name\": \"bio_info\",\n",
    "        \"description\": \"Get the birth place and date of birth of a given person\",\n",
    "        \"parameters\": {\n",
    "            \"type\": \"object\",\n",
    "            \"properties\": {\n",
    "                \"Name\": {\n",
    "                    \"type\": \"string\",\n",
    "                    \"description\": \"person's name, e.g. Mahatma Gandhi\"},\n",
    "                \"Date\":{\n",
    "                    \"type\":\"string\",\n",
    "                    \"description\": \"born on, e.g, February 12, 1920\"},\n",
    "                \"Location\":{\n",
    "                    \"type\":\"string\",\n",
    "                    \"description\": \"Name of the city and country, e.g, St. Louis, MO, USA\"}, \n",
    "            },\n",
    "            \"required\": [\"Name\", \"Date\", \"Location\"],\n",
    "        },\n",
    "    }\n",
    "]"
   ]
  },
  {
   "cell_type": "code",
   "execution_count": 6,
   "metadata": {},
   "outputs": [],
   "source": [
    "completion = openai.ChatCompletion.create(\n",
    "    model=\"gpt-3.5-turbo-0613\",\n",
    "    messages=[{\"role\": \"user\", \"content\": user_prompt}],\n",
    "    # Add function calling\n",
    "    functions=function_descriptions,\n",
    "    function_call=\"auto\",  # specify the function call\n",
    ")"
   ]
  },
  {
   "cell_type": "code",
   "execution_count": 7,
   "metadata": {},
   "outputs": [],
   "source": [
    "output=completion['choices'][0]['message']['function_call']['arguments']"
   ]
  },
  {
   "cell_type": "code",
   "execution_count": 8,
   "metadata": {},
   "outputs": [
    {
     "data": {
      "text/plain": [
       "{'Name': 'Abraham Lincoln',\n",
       " 'Date': 'February 12, 1809',\n",
       " 'Location': 'Hodgenville, Kentucky, USA'}"
      ]
     },
     "execution_count": 8,
     "metadata": {},
     "output_type": "execute_result"
    }
   ],
   "source": [
    "final_dictionary=json.loads(output)\n",
    "final_dictionary"
   ]
  },
  {
   "cell_type": "code",
   "execution_count": 9,
   "metadata": {},
   "outputs": [
    {
     "data": {
      "text/plain": [
       "<OpenAIObject chat.completion id=chatcmpl-807OekdzVNf8XTzhmTEzBIWXJKWyR at 0x2093ef56660> JSON: {\n",
       "  \"id\": \"chatcmpl-807OekdzVNf8XTzhmTEzBIWXJKWyR\",\n",
       "  \"object\": \"chat.completion\",\n",
       "  \"created\": 1695039124,\n",
       "  \"model\": \"gpt-3.5-turbo-0613\",\n",
       "  \"choices\": [\n",
       "    {\n",
       "      \"index\": 0,\n",
       "      \"message\": {\n",
       "        \"role\": \"assistant\",\n",
       "        \"content\": null,\n",
       "        \"function_call\": {\n",
       "          \"name\": \"bio_info\",\n",
       "          \"arguments\": \"{\\n  \\\"Name\\\": \\\"Abraham Lincoln\\\",\\n  \\\"Date\\\": \\\"February 12, 1809\\\",\\n  \\\"Location\\\": \\\"Hodgenville, Kentucky, USA\\\"\\n}\"\n",
       "        }\n",
       "      },\n",
       "      \"finish_reason\": \"function_call\"\n",
       "    }\n",
       "  ],\n",
       "  \"usage\": {\n",
       "    \"prompt_tokens\": 119,\n",
       "    \"completion_tokens\": 44,\n",
       "    \"total_tokens\": 163\n",
       "  }\n",
       "}"
      ]
     },
     "execution_count": 9,
     "metadata": {},
     "output_type": "execute_result"
    }
   ],
   "source": [
    "completion"
   ]
  },
  {
   "cell_type": "code",
   "execution_count": 10,
   "metadata": {},
   "outputs": [],
   "source": [
    "def customized_output(Name, Date, Location):\n",
    "    print(f\"The person\\'s name is {Name}, who was born in {Location}, and on {Date}.\")"
   ]
  },
  {
   "cell_type": "code",
   "execution_count": 11,
   "metadata": {},
   "outputs": [
    {
     "data": {
      "text/plain": [
       "{'Name': 'Abraham Lincoln',\n",
       " 'Date': 'February 12, 1809',\n",
       " 'Location': 'Hodgenville, Kentucky, USA'}"
      ]
     },
     "execution_count": 11,
     "metadata": {},
     "output_type": "execute_result"
    }
   ],
   "source": [
    "final_dictionary"
   ]
  },
  {
   "cell_type": "code",
   "execution_count": 12,
   "metadata": {},
   "outputs": [
    {
     "name": "stdout",
     "output_type": "stream",
     "text": [
      "The person's name is Abraham Lincoln, who was born in Hodgenville, Kentucky, USA, and on February 12, 1809.\n"
     ]
    }
   ],
   "source": [
    "customized_output(*list(final_dictionary.values()))"
   ]
  },
  {
   "cell_type": "code",
   "execution_count": 13,
   "metadata": {},
   "outputs": [
    {
     "data": {
      "text/plain": [
       "'Abraham Lincoln'"
      ]
     },
     "execution_count": 13,
     "metadata": {},
     "output_type": "execute_result"
    }
   ],
   "source": [
    "json.loads(completion['choices'][0].message.function_call.arguments).get(\"Name\")"
   ]
  },
  {
   "cell_type": "code",
   "execution_count": 14,
   "metadata": {},
   "outputs": [
    {
     "data": {
      "text/plain": [
       "('Abraham Lincoln', 'February 12, 1809', 'Hodgenville, Kentucky, USA')"
      ]
     },
     "execution_count": 14,
     "metadata": {},
     "output_type": "execute_result"
    }
   ],
   "source": [
    "Name = json.loads(completion['choices'][0].message.function_call.arguments).get(\"Name\")\n",
    "Date = json.loads(completion['choices'][0].message.function_call.arguments).get(\"Date\")\n",
    "Location=json.loads(completion['choices'][0].message.function_call.arguments).get(\"Location\")\n",
    "Name, Date, Location"
   ]
  },
  {
   "cell_type": "code",
   "execution_count": 15,
   "metadata": {},
   "outputs": [
    {
     "name": "stdout",
     "output_type": "stream",
     "text": [
      "Abraham Lincoln February 12, 1809 Hodgenville, Kentucky, USA\n"
     ]
    }
   ],
   "source": [
    "print(Name, Date, Location)"
   ]
  },
  {
   "cell_type": "markdown",
   "metadata": {},
   "source": [
    "## LangChain Implementation"
   ]
  },
  {
   "cell_type": "code",
   "execution_count": 16,
   "metadata": {},
   "outputs": [],
   "source": [
    "from langchain.chat_models import ChatOpenAI\n",
    "from langchain.chains import LLMChain\n",
    "from langchain.prompts.chat import ChatPromptTemplate\n",
    "from langchain.chains.openai_functions import create_structured_output_chain"
   ]
  },
  {
   "cell_type": "code",
   "execution_count": 17,
   "metadata": {},
   "outputs": [],
   "source": [
    "llm = ChatOpenAI(model='gpt-3.5-turbo-0613')\n",
    "chat_prompt_template = ChatPromptTemplate.from_template('{user_prompt}')"
   ]
  },
  {
   "cell_type": "code",
   "execution_count": 18,
   "metadata": {},
   "outputs": [],
   "source": [
    "## without function calling"
   ]
  },
  {
   "cell_type": "code",
   "execution_count": 19,
   "metadata": {},
   "outputs": [],
   "source": [
    "chain_no_functioncall=LLMChain(llm=llm, prompt=chat_prompt_template)"
   ]
  },
  {
   "cell_type": "code",
   "execution_count": 20,
   "metadata": {},
   "outputs": [
    {
     "data": {
      "text/plain": [
       "'Abraham Lincoln was born on February 12, 1809, in Hodgenville, Kentucky, United States.'"
      ]
     },
     "execution_count": 20,
     "metadata": {},
     "output_type": "execute_result"
    }
   ],
   "source": [
    "chain_no_functioncall.run(user_prompt=user_prompt)"
   ]
  },
  {
   "cell_type": "code",
   "execution_count": 23,
   "metadata": {},
   "outputs": [
    {
     "data": {
      "text/plain": [
       "'Provide a birth place and date of birth of Abraham Lincoln?'"
      ]
     },
     "execution_count": 23,
     "metadata": {},
     "output_type": "execute_result"
    }
   ],
   "source": [
    "user_prompt"
   ]
  },
  {
   "cell_type": "code",
   "execution_count": 24,
   "metadata": {},
   "outputs": [],
   "source": [
    "langchain_function_descriptions = {\n",
    "        \"name\": \"bio_info\",\n",
    "        \"description\": \"Get the birth place and date of birth of a given person\",\n",
    "        \"type\": \"object\",\n",
    "        \"properties\": {\n",
    "                \"Name\": {\n",
    "                    \"title\":\"Person's Name\",\n",
    "                    \"type\":\"string\",\n",
    "                    \"description\":\"person's name, e.g. Mahatma Gandhi\"},\n",
    "                \"Date\":{\n",
    "                    \"title\":\"Date of Birth\",\n",
    "                    \"type\":\"string\",\n",
    "                    \"description\": \"born on, e.g, February 12, 1920\"},\n",
    "                \"Location\":{\n",
    "                    \"title\":\"Birth Place\",\n",
    "                    \"type\":\"string\",\n",
    "                    \"description\": \"Name of the city and country, e.g, St. Louis, MO, USA\"}, \n",
    "            }\n",
    "    }"
   ]
  },
  {
   "cell_type": "code",
   "execution_count": 25,
   "metadata": {},
   "outputs": [],
   "source": [
    "# Defining the LangChain chain object for function calling\n",
    "chain = create_structured_output_chain(output_schema = langchain_function_descriptions,\n",
    "                                       llm = llm,\n",
    "                                       prompt = chat_prompt_template)"
   ]
  },
  {
   "cell_type": "code",
   "execution_count": 26,
   "metadata": {},
   "outputs": [],
   "source": [
    "langchain_output=chain.run(user_prompt=user_prompt)"
   ]
  },
  {
   "cell_type": "code",
   "execution_count": 28,
   "metadata": {},
   "outputs": [
    {
     "name": "stdout",
     "output_type": "stream",
     "text": [
      "{'Name': 'Abraham Lincoln', 'Date': 'February 12, 1809', 'Location': 'Hodgenville, Kentucky, USA'}\n"
     ]
    }
   ],
   "source": [
    "print(langchain_output)"
   ]
  },
  {
   "cell_type": "code",
   "execution_count": null,
   "metadata": {},
   "outputs": [],
   "source": []
  },
  {
   "cell_type": "code",
   "execution_count": null,
   "metadata": {},
   "outputs": [],
   "source": []
  }
 ],
 "metadata": {
  "kernelspec": {
   "display_name": "langchain",
   "language": "python",
   "name": "python3"
  },
  "language_info": {
   "codemirror_mode": {
    "name": "ipython",
    "version": 3
   },
   "file_extension": ".py",
   "mimetype": "text/x-python",
   "name": "python",
   "nbconvert_exporter": "python",
   "pygments_lexer": "ipython3",
   "version": "3.10.11"
  },
  "orig_nbformat": 4
 },
 "nbformat": 4,
 "nbformat_minor": 2
}
